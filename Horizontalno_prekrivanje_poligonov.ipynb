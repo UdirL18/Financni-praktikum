{
  "nbformat": 4,
  "nbformat_minor": 5,
  "metadata": {
    "colab": {
      "name": "Horizontalno_prekrivanje_poligonov.ipynb",
      "provenance": [],
      "collapsed_sections": [],
      "include_colab_link": true
    },
    "kernelspec": {
      "display_name": "Python 3 (ipykernel)",
      "language": "python",
      "name": "python3"
    },
    "language_info": {
      "codemirror_mode": {
        "name": "ipython",
        "version": 3
      },
      "file_extension": ".py",
      "mimetype": "text/x-python",
      "name": "python",
      "nbconvert_exporter": "python",
      "pygments_lexer": "ipython3",
      "version": "3.7.9"
    },
    "toc": {
      "base_numbering": 1,
      "nav_menu": {},
      "number_sections": true,
      "sideBar": true,
      "skip_h1_title": false,
      "title_cell": "Table of Contents",
      "title_sidebar": "Contents",
      "toc_cell": false,
      "toc_position": {},
      "toc_section_display": true,
      "toc_window_display": false
    },
    "widgets": {
      "application/vnd.jupyter.widget-state+json": {
        "1b9d5ede68e145adade50b9881719e75": {
          "model_module": "@jupyter-widgets/controls",
          "model_name": "VBoxModel",
          "model_module_version": "1.5.0",
          "state": {
            "_view_name": "VBoxView",
            "_dom_classes": [
              "widget-interact"
            ],
            "_model_name": "VBoxModel",
            "_view_module": "@jupyter-widgets/controls",
            "_model_module_version": "1.5.0",
            "_view_count": null,
            "_view_module_version": "1.5.0",
            "box_style": "",
            "layout": "IPY_MODEL_2f43cec940ef4906b8bb354fcc1a7821",
            "_model_module": "@jupyter-widgets/controls",
            "children": [
              "IPY_MODEL_dc9d48fc44a74b138b1fda67b3d2fb30",
              "IPY_MODEL_4562269e4ead4fcab9ba70c847f603bc",
              "IPY_MODEL_fa09dcc91ca34d9a9b938a8a85af67eb"
            ]
          }
        },
        "2f43cec940ef4906b8bb354fcc1a7821": {
          "model_module": "@jupyter-widgets/base",
          "model_name": "LayoutModel",
          "model_module_version": "1.2.0",
          "state": {
            "_view_name": "LayoutView",
            "grid_template_rows": null,
            "right": null,
            "justify_content": null,
            "_view_module": "@jupyter-widgets/base",
            "overflow": null,
            "_model_module_version": "1.2.0",
            "_view_count": null,
            "flex_flow": null,
            "width": null,
            "min_width": null,
            "border": null,
            "align_items": null,
            "bottom": null,
            "_model_module": "@jupyter-widgets/base",
            "top": null,
            "grid_column": null,
            "overflow_y": null,
            "overflow_x": null,
            "grid_auto_flow": null,
            "grid_area": null,
            "grid_template_columns": null,
            "flex": null,
            "_model_name": "LayoutModel",
            "justify_items": null,
            "grid_row": null,
            "max_height": null,
            "align_content": null,
            "visibility": null,
            "align_self": null,
            "height": null,
            "min_height": null,
            "padding": null,
            "grid_auto_rows": null,
            "grid_gap": null,
            "max_width": null,
            "order": null,
            "_view_module_version": "1.2.0",
            "grid_template_areas": null,
            "object_position": null,
            "object_fit": null,
            "grid_auto_columns": null,
            "margin": null,
            "display": null,
            "left": null
          }
        },
        "dc9d48fc44a74b138b1fda67b3d2fb30": {
          "model_module": "@jupyter-widgets/controls",
          "model_name": "FloatSliderModel",
          "model_module_version": "1.5.0",
          "state": {
            "_view_name": "FloatSliderView",
            "style": "IPY_MODEL_47a22b0f438441cfb773e17b2ef59c69",
            "_dom_classes": [],
            "description": "x",
            "step": 0.1,
            "_model_name": "FloatSliderModel",
            "orientation": "horizontal",
            "max": 5,
            "_view_module": "@jupyter-widgets/controls",
            "_model_module_version": "1.5.0",
            "value": 0,
            "_view_count": null,
            "disabled": false,
            "_view_module_version": "1.5.0",
            "min": -5,
            "continuous_update": true,
            "readout_format": ".2f",
            "description_tooltip": null,
            "readout": true,
            "_model_module": "@jupyter-widgets/controls",
            "layout": "IPY_MODEL_d68283787cc743c49d3b6008947f3e89"
          }
        },
        "4562269e4ead4fcab9ba70c847f603bc": {
          "model_module": "@jupyter-widgets/controls",
          "model_name": "DropdownModel",
          "model_module_version": "1.5.0",
          "state": {
            "_options_labels": [
              "1",
              "2",
              "3"
            ],
            "_view_name": "DropdownView",
            "style": "IPY_MODEL_e22f678867dc4c23adcba9df1fed5f08",
            "_dom_classes": [],
            "description": "nacin",
            "_model_name": "DropdownModel",
            "index": 2,
            "_view_module": "@jupyter-widgets/controls",
            "_model_module_version": "1.5.0",
            "_view_count": null,
            "disabled": false,
            "_view_module_version": "1.5.0",
            "description_tooltip": null,
            "_model_module": "@jupyter-widgets/controls",
            "layout": "IPY_MODEL_b446bbf4b8444fa49e5f88162eb7ff66"
          }
        },
        "fa09dcc91ca34d9a9b938a8a85af67eb": {
          "model_module": "@jupyter-widgets/output",
          "model_name": "OutputModel",
          "model_module_version": "1.0.0",
          "state": {
            "_view_name": "OutputView",
            "msg_id": "",
            "_dom_classes": [],
            "_model_name": "OutputModel",
            "outputs": [
              {
                "output_type": "display_data",
                "data": {
                  "image/png": "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\n",
                  "text/plain": "<Figure size 432x288 with 1 Axes>"
                },
                "metadata": {}
              }
            ],
            "_view_module": "@jupyter-widgets/output",
            "_model_module_version": "1.0.0",
            "_view_count": null,
            "_view_module_version": "1.0.0",
            "layout": "IPY_MODEL_13f9993bbfae4596978bf25a4e3f016d",
            "_model_module": "@jupyter-widgets/output"
          }
        },
        "47a22b0f438441cfb773e17b2ef59c69": {
          "model_module": "@jupyter-widgets/controls",
          "model_name": "SliderStyleModel",
          "model_module_version": "1.5.0",
          "state": {
            "_view_name": "StyleView",
            "handle_color": null,
            "_model_name": "SliderStyleModel",
            "description_width": "",
            "_view_module": "@jupyter-widgets/base",
            "_model_module_version": "1.5.0",
            "_view_count": null,
            "_view_module_version": "1.2.0",
            "_model_module": "@jupyter-widgets/controls"
          }
        },
        "d68283787cc743c49d3b6008947f3e89": {
          "model_module": "@jupyter-widgets/base",
          "model_name": "LayoutModel",
          "model_module_version": "1.2.0",
          "state": {
            "_view_name": "LayoutView",
            "grid_template_rows": null,
            "right": null,
            "justify_content": null,
            "_view_module": "@jupyter-widgets/base",
            "overflow": null,
            "_model_module_version": "1.2.0",
            "_view_count": null,
            "flex_flow": null,
            "width": null,
            "min_width": null,
            "border": null,
            "align_items": null,
            "bottom": null,
            "_model_module": "@jupyter-widgets/base",
            "top": null,
            "grid_column": null,
            "overflow_y": null,
            "overflow_x": null,
            "grid_auto_flow": null,
            "grid_area": null,
            "grid_template_columns": null,
            "flex": null,
            "_model_name": "LayoutModel",
            "justify_items": null,
            "grid_row": null,
            "max_height": null,
            "align_content": null,
            "visibility": null,
            "align_self": null,
            "height": null,
            "min_height": null,
            "padding": null,
            "grid_auto_rows": null,
            "grid_gap": null,
            "max_width": null,
            "order": null,
            "_view_module_version": "1.2.0",
            "grid_template_areas": null,
            "object_position": null,
            "object_fit": null,
            "grid_auto_columns": null,
            "margin": null,
            "display": null,
            "left": null
          }
        },
        "e22f678867dc4c23adcba9df1fed5f08": {
          "model_module": "@jupyter-widgets/controls",
          "model_name": "DescriptionStyleModel",
          "model_module_version": "1.5.0",
          "state": {
            "_view_name": "StyleView",
            "_model_name": "DescriptionStyleModel",
            "description_width": "",
            "_view_module": "@jupyter-widgets/base",
            "_model_module_version": "1.5.0",
            "_view_count": null,
            "_view_module_version": "1.2.0",
            "_model_module": "@jupyter-widgets/controls"
          }
        },
        "b446bbf4b8444fa49e5f88162eb7ff66": {
          "model_module": "@jupyter-widgets/base",
          "model_name": "LayoutModel",
          "model_module_version": "1.2.0",
          "state": {
            "_view_name": "LayoutView",
            "grid_template_rows": null,
            "right": null,
            "justify_content": null,
            "_view_module": "@jupyter-widgets/base",
            "overflow": null,
            "_model_module_version": "1.2.0",
            "_view_count": null,
            "flex_flow": null,
            "width": null,
            "min_width": null,
            "border": null,
            "align_items": null,
            "bottom": null,
            "_model_module": "@jupyter-widgets/base",
            "top": null,
            "grid_column": null,
            "overflow_y": null,
            "overflow_x": null,
            "grid_auto_flow": null,
            "grid_area": null,
            "grid_template_columns": null,
            "flex": null,
            "_model_name": "LayoutModel",
            "justify_items": null,
            "grid_row": null,
            "max_height": null,
            "align_content": null,
            "visibility": null,
            "align_self": null,
            "height": null,
            "min_height": null,
            "padding": null,
            "grid_auto_rows": null,
            "grid_gap": null,
            "max_width": null,
            "order": null,
            "_view_module_version": "1.2.0",
            "grid_template_areas": null,
            "object_position": null,
            "object_fit": null,
            "grid_auto_columns": null,
            "margin": null,
            "display": null,
            "left": null
          }
        },
        "13f9993bbfae4596978bf25a4e3f016d": {
          "model_module": "@jupyter-widgets/base",
          "model_name": "LayoutModel",
          "model_module_version": "1.2.0",
          "state": {
            "_view_name": "LayoutView",
            "grid_template_rows": null,
            "right": null,
            "justify_content": null,
            "_view_module": "@jupyter-widgets/base",
            "overflow": null,
            "_model_module_version": "1.2.0",
            "_view_count": null,
            "flex_flow": null,
            "width": null,
            "min_width": null,
            "border": null,
            "align_items": null,
            "bottom": null,
            "_model_module": "@jupyter-widgets/base",
            "top": null,
            "grid_column": null,
            "overflow_y": null,
            "overflow_x": null,
            "grid_auto_flow": null,
            "grid_area": null,
            "grid_template_columns": null,
            "flex": null,
            "_model_name": "LayoutModel",
            "justify_items": null,
            "grid_row": null,
            "max_height": null,
            "align_content": null,
            "visibility": null,
            "align_self": null,
            "height": null,
            "min_height": null,
            "padding": null,
            "grid_auto_rows": null,
            "grid_gap": null,
            "max_width": null,
            "order": null,
            "_view_module_version": "1.2.0",
            "grid_template_areas": null,
            "object_position": null,
            "object_fit": null,
            "grid_auto_columns": null,
            "margin": null,
            "display": null,
            "left": null
          }
        },
        "2907816eabf8433593154b618157bd3a": {
          "model_module": "@jupyter-widgets/controls",
          "model_name": "VBoxModel",
          "model_module_version": "1.5.0",
          "state": {
            "_view_name": "VBoxView",
            "_dom_classes": [
              "widget-interact"
            ],
            "_model_name": "VBoxModel",
            "_view_module": "@jupyter-widgets/controls",
            "_model_module_version": "1.5.0",
            "_view_count": null,
            "_view_module_version": "1.5.0",
            "box_style": "",
            "layout": "IPY_MODEL_7f5da2f0b5b849809656ceb64a0ee9ea",
            "_model_module": "@jupyter-widgets/controls",
            "children": [
              "IPY_MODEL_c06cd04bac77453a8ea623826c8ab7ea",
              "IPY_MODEL_4f76125b2ea34ccc8a79f2b1b226ce29"
            ]
          }
        },
        "7f5da2f0b5b849809656ceb64a0ee9ea": {
          "model_module": "@jupyter-widgets/base",
          "model_name": "LayoutModel",
          "model_module_version": "1.2.0",
          "state": {
            "_view_name": "LayoutView",
            "grid_template_rows": null,
            "right": null,
            "justify_content": null,
            "_view_module": "@jupyter-widgets/base",
            "overflow": null,
            "_model_module_version": "1.2.0",
            "_view_count": null,
            "flex_flow": null,
            "width": null,
            "min_width": null,
            "border": null,
            "align_items": null,
            "bottom": null,
            "_model_module": "@jupyter-widgets/base",
            "top": null,
            "grid_column": null,
            "overflow_y": null,
            "overflow_x": null,
            "grid_auto_flow": null,
            "grid_area": null,
            "grid_template_columns": null,
            "flex": null,
            "_model_name": "LayoutModel",
            "justify_items": null,
            "grid_row": null,
            "max_height": null,
            "align_content": null,
            "visibility": null,
            "align_self": null,
            "height": null,
            "min_height": null,
            "padding": null,
            "grid_auto_rows": null,
            "grid_gap": null,
            "max_width": null,
            "order": null,
            "_view_module_version": "1.2.0",
            "grid_template_areas": null,
            "object_position": null,
            "object_fit": null,
            "grid_auto_columns": null,
            "margin": null,
            "display": null,
            "left": null
          }
        },
        "c06cd04bac77453a8ea623826c8ab7ea": {
          "model_module": "@jupyter-widgets/controls",
          "model_name": "DropdownModel",
          "model_module_version": "1.5.0",
          "state": {
            "_options_labels": [
              "1",
              "2",
              "3"
            ],
            "_view_name": "DropdownView",
            "style": "IPY_MODEL_7c830394ac7f4064835a0199f9564d83",
            "_dom_classes": [],
            "description": "nacin",
            "_model_name": "DropdownModel",
            "index": 2,
            "_view_module": "@jupyter-widgets/controls",
            "_model_module_version": "1.5.0",
            "_view_count": null,
            "disabled": false,
            "_view_module_version": "1.5.0",
            "description_tooltip": null,
            "_model_module": "@jupyter-widgets/controls",
            "layout": "IPY_MODEL_b60a00957d8c421c89722a8ebc221528"
          }
        },
        "4f76125b2ea34ccc8a79f2b1b226ce29": {
          "model_module": "@jupyter-widgets/output",
          "model_name": "OutputModel",
          "model_module_version": "1.0.0",
          "state": {
            "_view_name": "OutputView",
            "msg_id": "",
            "_dom_classes": [],
            "_model_name": "OutputModel",
            "outputs": [
              {
                "output_type": "stream",
                "name": "stderr",
                "text": [
                  "/usr/local/lib/python3.7/dist-packages/numpy/lib/function_base.py:2192: RuntimeWarning: overflow encountered in ? (vectorized)\n",
                  "  outputs = ufunc(*inputs)\n"
                ]
              },
              {
                "output_type": "display_data",
                "data": {
                  "image/png": "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\n",
                  "text/plain": "<Figure size 432x288 with 1 Axes>"
                },
                "metadata": {
                  "needs_background": "light"
                }
              }
            ],
            "_view_module": "@jupyter-widgets/output",
            "_model_module_version": "1.0.0",
            "_view_count": null,
            "_view_module_version": "1.0.0",
            "layout": "IPY_MODEL_13c492c1a1dd42e38c746872d4abe8a8",
            "_model_module": "@jupyter-widgets/output"
          }
        },
        "7c830394ac7f4064835a0199f9564d83": {
          "model_module": "@jupyter-widgets/controls",
          "model_name": "DescriptionStyleModel",
          "model_module_version": "1.5.0",
          "state": {
            "_view_name": "StyleView",
            "_model_name": "DescriptionStyleModel",
            "description_width": "",
            "_view_module": "@jupyter-widgets/base",
            "_model_module_version": "1.5.0",
            "_view_count": null,
            "_view_module_version": "1.2.0",
            "_model_module": "@jupyter-widgets/controls"
          }
        },
        "b60a00957d8c421c89722a8ebc221528": {
          "model_module": "@jupyter-widgets/base",
          "model_name": "LayoutModel",
          "model_module_version": "1.2.0",
          "state": {
            "_view_name": "LayoutView",
            "grid_template_rows": null,
            "right": null,
            "justify_content": null,
            "_view_module": "@jupyter-widgets/base",
            "overflow": null,
            "_model_module_version": "1.2.0",
            "_view_count": null,
            "flex_flow": null,
            "width": null,
            "min_width": null,
            "border": null,
            "align_items": null,
            "bottom": null,
            "_model_module": "@jupyter-widgets/base",
            "top": null,
            "grid_column": null,
            "overflow_y": null,
            "overflow_x": null,
            "grid_auto_flow": null,
            "grid_area": null,
            "grid_template_columns": null,
            "flex": null,
            "_model_name": "LayoutModel",
            "justify_items": null,
            "grid_row": null,
            "max_height": null,
            "align_content": null,
            "visibility": null,
            "align_self": null,
            "height": null,
            "min_height": null,
            "padding": null,
            "grid_auto_rows": null,
            "grid_gap": null,
            "max_width": null,
            "order": null,
            "_view_module_version": "1.2.0",
            "grid_template_areas": null,
            "object_position": null,
            "object_fit": null,
            "grid_auto_columns": null,
            "margin": null,
            "display": null,
            "left": null
          }
        },
        "13c492c1a1dd42e38c746872d4abe8a8": {
          "model_module": "@jupyter-widgets/base",
          "model_name": "LayoutModel",
          "model_module_version": "1.2.0",
          "state": {
            "_view_name": "LayoutView",
            "grid_template_rows": null,
            "right": null,
            "justify_content": null,
            "_view_module": "@jupyter-widgets/base",
            "overflow": null,
            "_model_module_version": "1.2.0",
            "_view_count": null,
            "flex_flow": null,
            "width": null,
            "min_width": null,
            "border": null,
            "align_items": null,
            "bottom": null,
            "_model_module": "@jupyter-widgets/base",
            "top": null,
            "grid_column": null,
            "overflow_y": null,
            "overflow_x": null,
            "grid_auto_flow": null,
            "grid_area": null,
            "grid_template_columns": null,
            "flex": null,
            "_model_name": "LayoutModel",
            "justify_items": null,
            "grid_row": null,
            "max_height": null,
            "align_content": null,
            "visibility": null,
            "align_self": null,
            "height": null,
            "min_height": null,
            "padding": null,
            "grid_auto_rows": null,
            "grid_gap": null,
            "max_width": null,
            "order": null,
            "_view_module_version": "1.2.0",
            "grid_template_areas": null,
            "object_position": null,
            "object_fit": null,
            "grid_auto_columns": null,
            "margin": null,
            "display": null,
            "left": null
          }
        },
        "4bed0a757ed94a379ace59c20243e09f": {
          "model_module": "@jupyter-widgets/controls",
          "model_name": "VBoxModel",
          "model_module_version": "1.5.0",
          "state": {
            "_view_name": "VBoxView",
            "_dom_classes": [
              "widget-interact"
            ],
            "_model_name": "VBoxModel",
            "_view_module": "@jupyter-widgets/controls",
            "_model_module_version": "1.5.0",
            "_view_count": null,
            "_view_module_version": "1.5.0",
            "box_style": "",
            "layout": "IPY_MODEL_3e9d1b00f89d499e98aa00b5be916baf",
            "_model_module": "@jupyter-widgets/controls",
            "children": [
              "IPY_MODEL_1a15c0ef57e54cdf8cd4899e22cd3f6d",
              "IPY_MODEL_054a799a3e9c48efaab73b946da85247"
            ]
          }
        },
        "3e9d1b00f89d499e98aa00b5be916baf": {
          "model_module": "@jupyter-widgets/base",
          "model_name": "LayoutModel",
          "model_module_version": "1.2.0",
          "state": {
            "_view_name": "LayoutView",
            "grid_template_rows": null,
            "right": null,
            "justify_content": null,
            "_view_module": "@jupyter-widgets/base",
            "overflow": null,
            "_model_module_version": "1.2.0",
            "_view_count": null,
            "flex_flow": null,
            "width": null,
            "min_width": null,
            "border": null,
            "align_items": null,
            "bottom": null,
            "_model_module": "@jupyter-widgets/base",
            "top": null,
            "grid_column": null,
            "overflow_y": null,
            "overflow_x": null,
            "grid_auto_flow": null,
            "grid_area": null,
            "grid_template_columns": null,
            "flex": null,
            "_model_name": "LayoutModel",
            "justify_items": null,
            "grid_row": null,
            "max_height": null,
            "align_content": null,
            "visibility": null,
            "align_self": null,
            "height": null,
            "min_height": null,
            "padding": null,
            "grid_auto_rows": null,
            "grid_gap": null,
            "max_width": null,
            "order": null,
            "_view_module_version": "1.2.0",
            "grid_template_areas": null,
            "object_position": null,
            "object_fit": null,
            "grid_auto_columns": null,
            "margin": null,
            "display": null,
            "left": null
          }
        },
        "1a15c0ef57e54cdf8cd4899e22cd3f6d": {
          "model_module": "@jupyter-widgets/controls",
          "model_name": "DropdownModel",
          "model_module_version": "1.5.0",
          "state": {
            "_options_labels": [
              "1",
              "2",
              "3"
            ],
            "_view_name": "DropdownView",
            "style": "IPY_MODEL_9cb88b3d82b84eaf8b513e3525c95f23",
            "_dom_classes": [],
            "description": "nacin",
            "_model_name": "DropdownModel",
            "index": 2,
            "_view_module": "@jupyter-widgets/controls",
            "_model_module_version": "1.5.0",
            "_view_count": null,
            "disabled": false,
            "_view_module_version": "1.5.0",
            "description_tooltip": null,
            "_model_module": "@jupyter-widgets/controls",
            "layout": "IPY_MODEL_ddfe7d434180417db8bb2f5a45a39855"
          }
        },
        "054a799a3e9c48efaab73b946da85247": {
          "model_module": "@jupyter-widgets/output",
          "model_name": "OutputModel",
          "model_module_version": "1.0.0",
          "state": {
            "_view_name": "OutputView",
            "msg_id": "",
            "_dom_classes": [],
            "_model_name": "OutputModel",
            "outputs": [
              {
                "output_type": "display_data",
                "data": {
                  "image/png": "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\n",
                  "text/plain": "<Figure size 432x288 with 1 Axes>"
                },
                "metadata": {}
              }
            ],
            "_view_module": "@jupyter-widgets/output",
            "_model_module_version": "1.0.0",
            "_view_count": null,
            "_view_module_version": "1.0.0",
            "layout": "IPY_MODEL_b0ef03bb1a0c493caabd22e782afddae",
            "_model_module": "@jupyter-widgets/output"
          }
        },
        "9cb88b3d82b84eaf8b513e3525c95f23": {
          "model_module": "@jupyter-widgets/controls",
          "model_name": "DescriptionStyleModel",
          "model_module_version": "1.5.0",
          "state": {
            "_view_name": "StyleView",
            "_model_name": "DescriptionStyleModel",
            "description_width": "",
            "_view_module": "@jupyter-widgets/base",
            "_model_module_version": "1.5.0",
            "_view_count": null,
            "_view_module_version": "1.2.0",
            "_model_module": "@jupyter-widgets/controls"
          }
        },
        "ddfe7d434180417db8bb2f5a45a39855": {
          "model_module": "@jupyter-widgets/base",
          "model_name": "LayoutModel",
          "model_module_version": "1.2.0",
          "state": {
            "_view_name": "LayoutView",
            "grid_template_rows": null,
            "right": null,
            "justify_content": null,
            "_view_module": "@jupyter-widgets/base",
            "overflow": null,
            "_model_module_version": "1.2.0",
            "_view_count": null,
            "flex_flow": null,
            "width": null,
            "min_width": null,
            "border": null,
            "align_items": null,
            "bottom": null,
            "_model_module": "@jupyter-widgets/base",
            "top": null,
            "grid_column": null,
            "overflow_y": null,
            "overflow_x": null,
            "grid_auto_flow": null,
            "grid_area": null,
            "grid_template_columns": null,
            "flex": null,
            "_model_name": "LayoutModel",
            "justify_items": null,
            "grid_row": null,
            "max_height": null,
            "align_content": null,
            "visibility": null,
            "align_self": null,
            "height": null,
            "min_height": null,
            "padding": null,
            "grid_auto_rows": null,
            "grid_gap": null,
            "max_width": null,
            "order": null,
            "_view_module_version": "1.2.0",
            "grid_template_areas": null,
            "object_position": null,
            "object_fit": null,
            "grid_auto_columns": null,
            "margin": null,
            "display": null,
            "left": null
          }
        },
        "b0ef03bb1a0c493caabd22e782afddae": {
          "model_module": "@jupyter-widgets/base",
          "model_name": "LayoutModel",
          "model_module_version": "1.2.0",
          "state": {
            "_view_name": "LayoutView",
            "grid_template_rows": null,
            "right": null,
            "justify_content": null,
            "_view_module": "@jupyter-widgets/base",
            "overflow": null,
            "_model_module_version": "1.2.0",
            "_view_count": null,
            "flex_flow": null,
            "width": null,
            "min_width": null,
            "border": null,
            "align_items": null,
            "bottom": null,
            "_model_module": "@jupyter-widgets/base",
            "top": null,
            "grid_column": null,
            "overflow_y": null,
            "overflow_x": null,
            "grid_auto_flow": null,
            "grid_area": null,
            "grid_template_columns": null,
            "flex": null,
            "_model_name": "LayoutModel",
            "justify_items": null,
            "grid_row": null,
            "max_height": null,
            "align_content": null,
            "visibility": null,
            "align_self": null,
            "height": null,
            "min_height": null,
            "padding": null,
            "grid_auto_rows": null,
            "grid_gap": null,
            "max_width": null,
            "order": null,
            "_view_module_version": "1.2.0",
            "grid_template_areas": null,
            "object_position": null,
            "object_fit": null,
            "grid_auto_columns": null,
            "margin": null,
            "display": null,
            "left": null
          }
        }
      }
    }
  },
  "cells": [
    {
      "cell_type": "markdown",
      "metadata": {
        "id": "view-in-github",
        "colab_type": "text"
      },
      "source": [
        "<a href=\"https://colab.research.google.com/github/UdirL18/Horizontalno-prekrivanje-poligonov/blob/main/Horizontalno_prekrivanje_poligonov.ipynb\" target=\"_parent\"><img src=\"https://colab.research.google.com/assets/colab-badge.svg\" alt=\"Open In Colab\"/></a>"
      ]
    },
    {
      "cell_type": "markdown",
      "metadata": {
        "id": "yQkYH3kvCOGn"
      },
      "source": [
        "# **Horizontalno prekrivanje poligonov**"
      ],
      "id": "yQkYH3kvCOGn"
    },
    {
      "cell_type": "code",
      "metadata": {
        "id": "ebf6e80d"
      },
      "source": [
        "import numpy as np\n",
        "import math\n",
        "import matplotlib.pyplot as plt\n",
        "from matplotlib.cm import get_cmap\n",
        "import ipywidgets as widgets\n",
        "from shapely.geometry import Polygon\n",
        "import scipy.optimize\n",
        "import random\n",
        "from math import atan2\n",
        "from scipy.spatial import ConvexHull, convex_hull_plot_2d\n",
        "\n",
        "# plt.style.use('science')"
      ],
      "id": "ebf6e80d",
      "execution_count": 1,
      "outputs": []
    },
    {
      "cell_type": "markdown",
      "metadata": {
        "id": "4lZwjNCZES2p"
      },
      "source": [
        "Za generiranje poligonov bova uporabila tri metode."
      ],
      "id": "4lZwjNCZES2p"
    },
    {
      "cell_type": "markdown",
      "metadata": {
        "id": "7QtawwOhASdC"
      },
      "source": [
        "## 1. način\n",
        "\n"
      ],
      "id": "7QtawwOhASdC"
    },
    {
      "cell_type": "code",
      "metadata": {
        "id": "O7dmG7tVtqz4"
      },
      "source": [
        "def to_convex_contour(vertices_count,\n",
        "                      x_generator=random.random,\n",
        "                      y_generator=random.random):\n",
        "\n",
        "    xs = [x_generator() for _ in range(vertices_count)]\n",
        "    ys = [y_generator() for _ in range(vertices_count)]\n",
        "    xs = sorted(xs)\n",
        "    ys = sorted(ys)\n",
        "    min_x, *xs, max_x = xs\n",
        "    min_y, *ys, max_y = ys\n",
        "    vectors_xs = _to_vectors_coordinates(xs, min_x, max_x)\n",
        "    vectors_ys = _to_vectors_coordinates(ys, min_y, max_y)\n",
        "    random.shuffle(vectors_ys)\n",
        "\n",
        "    def to_vector_angle(vector):\n",
        "        x, y = vector\n",
        "        return atan2(y, x)\n",
        "\n",
        "    vectors = sorted(zip(vectors_xs, vectors_ys),\n",
        "                     key=to_vector_angle)\n",
        "    point_x = point_y = 0\n",
        "    min_polygon_x = min_polygon_y = 0\n",
        "    points = []\n",
        "    for vector_x, vector_y in vectors:\n",
        "        points.append((point_x, point_y))\n",
        "        point_x += vector_x\n",
        "        point_y += vector_y\n",
        "        min_polygon_x = min(min_polygon_x, point_x)\n",
        "        min_polygon_y = min(min_polygon_y, point_y)\n",
        "    shift_x, shift_y = min_x - min_polygon_x, min_y - min_polygon_y\n",
        "    return [(point_x + shift_x, point_y + shift_y)\n",
        "            for point_x, point_y in points]\n",
        "\n",
        "\n",
        "def _to_vectors_coordinates(coordinates, min_coordinate, max_coordinate):\n",
        "    last_min = last_max = min_coordinate\n",
        "    result = []\n",
        "    for coordinate in coordinates:\n",
        "        if _to_random_boolean():\n",
        "            result.append(coordinate - last_min)\n",
        "            last_min = coordinate\n",
        "        else:\n",
        "            result.append(last_max - coordinate)\n",
        "            last_max = coordinate\n",
        "    result.extend((max_coordinate - last_min,\n",
        "                   last_max - max_coordinate))\n",
        "    return result\n",
        "\n",
        "\n",
        "def _to_random_boolean():\n",
        "    return random.getrandbits(1)"
      ],
      "id": "O7dmG7tVtqz4",
      "execution_count": 2,
      "outputs": []
    },
    {
      "cell_type": "code",
      "metadata": {
        "id": "LmKj1V08t-8J"
      },
      "source": [
        "#1. primer: 1000 in 10000 kotnik\n",
        "poly1_1 = Polygon(to_convex_contour(10000000))\n",
        "poly2_1 = Polygon(to_convex_contour(10000000))"
      ],
      "id": "LmKj1V08t-8J",
      "execution_count": 3,
      "outputs": []
    },
    {
      "cell_type": "code",
      "metadata": {
        "colab": {
          "base_uri": "https://localhost:8080/",
          "height": 265
        },
        "id": "bm9Pndm_txAv",
        "outputId": "13a0b9e3-9f8f-43bc-96eb-7f76a6f9d021"
      },
      "source": [
        "# Izrisane generirane random tocke (1000 stranega konveksnega poligona)\n",
        "# izrise nov poligon ne tistega od zgoraj\n",
        "x, y = np.array(to_convex_contour(100)).T\n",
        "x = np.append(x, x[0])\n",
        "y = np.append(y, y[0])\n",
        "plt.savefig('nacin_1.pdf', bbox_inches='tight') \n",
        "\n",
        "plt.plot(x,y, '.-')\n",
        "plt.savefig('nacin_1.pdf', bbox_inches='tight')"
      ],
      "id": "bm9Pndm_txAv",
      "execution_count": 4,
      "outputs": [
        {
          "output_type": "display_data",
          "data": {
            "image/png": "[encoded data removed]",
            "text/plain": [
              "<Figure size 432x288 with 1 Axes>"
            ]
          },
          "metadata": {
            "needs_background": "light"
          }
        }
      ]
    },
    {
      "cell_type": "markdown",
      "metadata": {
        "id": "9KUPGlq_wRoe"
      },
      "source": [
        "## 2. način generiraja - s pomočjo konveksne ovojnice."
      ],
      "id": "9KUPGlq_wRoe"
    },
    {
      "cell_type": "code",
      "metadata": {
        "id": "9PwUFOVosK8A"
      },
      "source": [
        "points = np.random.randn(1000, 2)   # 1000 random points normalno porazdaljene in 2-D\n",
        "hull = ConvexHull(points)"
      ],
      "id": "9PwUFOVosK8A",
      "execution_count": 5,
      "outputs": []
    },
    {
      "cell_type": "code",
      "metadata": {
        "colab": {
          "base_uri": "https://localhost:8080/",
          "height": 265
        },
        "id": "SBXSeLTIsQMg",
        "outputId": "cf18096b-155f-4087-ea2c-9bde03b5ac48"
      },
      "source": [
        "plt.plot(points[:,0], points[:,1], 'o')\n",
        "for simplex in hull.simplices:\n",
        "    plt.plot(points[simplex, 0], points[simplex, 1], 'k-')\n",
        "\n",
        "# ZA SHRANJEVANJE SLIKE ZA pdf\n",
        "#plt.savefig('nacin_2.pdf', bbox_inches='tight')    "
      ],
      "id": "SBXSeLTIsQMg",
      "execution_count": 6,
      "outputs": [
        {
          "output_type": "display_data",
          "data": {
            "image/png": "[encoded data removed]",
            "text/plain": [
              "<Figure size 432x288 with 1 Axes>"
            ]
          },
          "metadata": {
            "needs_background": "light"
          }
        }
      ]
    },
    {
      "cell_type": "code",
      "metadata": {
        "id": "_j1Ciz4QBcyu"
      },
      "source": [
        "# 2. primer\n",
        "points = np.random.randn(1000, 2)   # 1000 random points normalno porazdaljene in 2-D\n",
        "hull = ConvexHull(points)\n",
        "poly1_2 = Polygon(points[hull.vertices,:])\n",
        "\n",
        "points = np.random.randn(100, 2)   # 1000 random points normalno porazdaljene in 2-D\n",
        "hull = ConvexHull(points)\n",
        "poly2_2 = Polygon(points[hull.vertices,:])"
      ],
      "id": "_j1Ciz4QBcyu",
      "execution_count": 7,
      "outputs": []
    },
    {
      "cell_type": "markdown",
      "metadata": {
        "id": "A5HHMkivGm9N"
      },
      "source": [
        "## 3. način - počasna za velike n-je (na roke implementirana metoda)"
      ],
      "id": "A5HHMkivGm9N"
    },
    {
      "cell_type": "code",
      "metadata": {
        "colab": {
          "base_uri": "https://localhost:8080/",
          "height": 248
        },
        "id": "4ee4c17d",
        "outputId": "5317f84d-45e5-4cfd-e754-dd89d8f49c1f"
      },
      "source": [
        "# GENERIRANJE POLJUBNEGA 3-KOTNIKA V RAVNINI\n",
        "np.random.seed(9)  # zacetnja vrednost za generator nakljucnih stevil\n",
        "poly1 = Polygon(np.random.rand(3,2))  # np.random.rand(m,n) matrika mxn nakljucnih stevil\n",
        "poly2 = Polygon(np.random.rand(3,2))  # Polygon izrise poligon z danimi koordinatami (3-kotnik, v 2D) \n",
        "\n",
        "poly_inter = poly1.intersection(poly2)  # presek teh dveh poligonov -vrne koordinate preseka\n",
        "\n",
        "# GRAF\n",
        "p1 = plt.Polygon(poly1.exterior.coords, color='r')  # zapise tocke ogljisc, naredi poligon iz teh tock\n",
        "plt.gca().add_patch(p1)  # doda ta poligon na sliko\n",
        "\n",
        "p2 = plt.Polygon(poly2.exterior.coords, color='b')\n",
        "plt.gca().add_patch(p2)\n",
        "\n",
        "p3 = plt.Polygon(poly_inter.exterior.coords, color='g')\n",
        "plt.gca().add_patch(p3)\n",
        "\n",
        "plt.tick_params(bottom=False, left=False, labelleft=False, labelbottom=False)  # koordinatni sistem nima oznak"
      ],
      "id": "4ee4c17d",
      "execution_count": 8,
      "outputs": [
        {
          "output_type": "display_data",
          "data": {
            "image/png": "[encoded data removed]",
            "text/plain": [
              "<Figure size 432x288 with 1 Axes>"
            ]
          },
          "metadata": {}
        }
      ]
    },
    {
      "cell_type": "markdown",
      "metadata": {
        "id": "CdRdFBMcElNw"
      },
      "source": [
        "Trikotniki so vedno konveksni. Problem bi radi resevali za poljubne konveksne mnogokotnike. V ta namen moramo sestaviti funkcijo, ki bo preverila ali je poligon konveksen in funkcijo, ki bo zgenerirala taksen poligon."
      ],
      "id": "CdRdFBMcElNw"
    },
    {
      "cell_type": "code",
      "metadata": {
        "id": "361ae81d"
      },
      "source": [
        "# FUNKCIJA ZA PREVERJANJE ALI JE POLIGON KONVEKSEN\n",
        "TWO_PI = 2 * math.pi\n",
        "\n",
        "def is_convex_polygon(polygon):\n",
        "    \"\"\"Return True if the polynomial defined by the sequence of 2D\n",
        "    points is 'strictly convex': points are valid, side lengths non-\n",
        "    zero, interior angles are strictly between zero and a straight\n",
        "    angle, and the polygon does not intersect itself.\n",
        "\n",
        "    NOTES:  1.  Algorithm: the signed changes of the direction angles\n",
        "                from one side to the next side must be all positive or\n",
        "                all negative, and their sum must equal plus-or-minus\n",
        "                one full turn (2 pi radians). Also check for too few,\n",
        "                invalid, or repeated points.\n",
        "            2.  No check is explicitly done for zero internal angles\n",
        "                (180 degree direction-change angle) as this is covered\n",
        "                in other ways, including the `n < 3` check.\n",
        "    \"\"\"\n",
        "    try:  # needed for any bad points or direction changes   # ce pride do errorja gre koda v except\n",
        "        # Check for too few points\n",
        "        if len(polygon) < 3:  # ce ni vsaj trikotnik\n",
        "            return False\n",
        "        # Get starting information\n",
        "        old_x, old_y = polygon[-2]  # predzadnji x in y iz polygon \n",
        "        new_x, new_y = polygon[-1]  # zadnji x in y iz polygon\n",
        "        new_direction = math.atan2(new_y - old_y, new_x - old_x)  # vrne arctg(new_y - old_y / new_x - old_x) v radijanih med pi in -pi \n",
        "        angle_sum = 0.0\n",
        "        # Check each point (the side ending there, its angle) and accum. angles\n",
        "        for ndx, newpoint in enumerate(polygon):  # ostevilcimo\n",
        "            # Update point coordinates and side directions, check side length\n",
        "            old_x, old_y, old_direction = new_x, new_y, new_direction\n",
        "            new_x, new_y = newpoint\n",
        "            new_direction = math.atan2(new_y - old_y, new_x - old_x)\n",
        "            if old_x == new_x and old_y == new_y:\n",
        "                return False  # ce je spet ista tocka ni ok\n",
        "            # Calculate & check the normalized direction-change angle\n",
        "            angle = new_direction - old_direction  # razlika dveh kotov\n",
        "            if angle <= -math.pi:  # ce je kot manjsi od -pi \n",
        "                angle += TWO_PI  # make it in half-open interval (-Pi, Pi]\n",
        "            elif angle > math.pi:\n",
        "                angle -= TWO_PI\n",
        "            if ndx == 0:  # if first time through loop, initialize orientation\n",
        "                if angle == 0.0:\n",
        "                    return False\n",
        "                orientation = 1.0 if angle > 0.0 else -1.0\n",
        "            else:  # if other time through loop, check orientation is stable\n",
        "                if orientation * angle <= 0.0:  # not both pos. or both neg.\n",
        "                    return False\n",
        "            # Accumulate the direction-change angle\n",
        "            angle_sum += angle\n",
        "        # Check that the total number of full turns is plus-or-minus 1\n",
        "        return abs(round(angle_sum / TWO_PI)) == 1\n",
        "    except (ArithmeticError, TypeError, ValueError):\n",
        "        return False  # any exception means not a proper convex polygon"
      ],
      "id": "361ae81d",
      "execution_count": 9,
      "outputs": []
    },
    {
      "cell_type": "code",
      "metadata": {
        "id": "b5643290"
      },
      "source": [
        "# FUNKCIJA ZA GENERIRANJE NAKLJUCNIH POLIGONOV\n",
        "def gen_rand_poly(n=3):\n",
        "    for i in range(1_000_000):\n",
        "        cords = np.random.rand(n, 2)  # matrika z n vrsticami in 2 stolpcema \n",
        "        u = np.argsort(np.arctan2(*cords.T))  # .T transponira koordinate, argsort vrne indekse ki bi uredili array\n",
        " \n",
        "        cords = cords[u, :]  # uredimo koordinate po velikosti\n",
        "        if is_convex_polygon(cords):\n",
        "            return Polygon(cords)  # ce je poligon konveksen \"izrise\" poligon"
      ],
      "id": "b5643290",
      "execution_count": 10,
      "outputs": []
    },
    {
      "cell_type": "code",
      "metadata": {
        "id": "7446f4d5"
      },
      "source": [
        "# IZRIS POLIGONOV\n",
        "def plot_polys(*args):\n",
        "    for i, poly in enumerate(args):\n",
        "        cords = np.array(poly.exterior.coords)[:-1, :]\n",
        "        plt.scatter(*cords.T, s=0)  # narise tocke\n",
        "        p = plt.Polygon(cords, color=get_cmap('Set1')(i), alpha=0.7)\n",
        "        plt.gca().add_patch(p)\n",
        "        plt.tick_params(bottom=False, left=False, labelleft=False, labelbottom=False)"
      ],
      "id": "7446f4d5",
      "execution_count": 11,
      "outputs": []
    },
    {
      "cell_type": "code",
      "metadata": {
        "colab": {
          "base_uri": "https://localhost:8080/",
          "height": 248
        },
        "id": "F5vTHGAeIINd",
        "outputId": "5bbe332a-074a-4988-cf10-67a9d442baae"
      },
      "source": [
        "# 3. primer\n",
        "poly1_3 = gen_rand_poly(5)\n",
        "poly2_3 = gen_rand_poly(8)\n",
        "\n",
        "plot_polys(poly1_3, poly2_3)"
      ],
      "id": "F5vTHGAeIINd",
      "execution_count": 12,
      "outputs": [
        {
          "output_type": "display_data",
          "data": {
            "image/png": "[encoded data removed]",
            "text/plain": [
              "<Figure size 432x288 with 1 Axes>"
            ]
          },
          "metadata": {}
        }
      ]
    },
    {
      "cell_type": "markdown",
      "metadata": {
        "id": "x-f44KxBI-9o"
      },
      "source": [
        "## Iskanje minimalnega premika"
      ],
      "id": "x-f44KxBI-9o"
    },
    {
      "cell_type": "markdown",
      "metadata": {
        "id": "gHs178tYINjH"
      },
      "source": [
        "Za iskanje minimalnega vodoravnega premika sestavimo funkcijo, ki omogoca premikanje poligonov na sliki."
      ],
      "id": "gHs178tYINjH"
    },
    {
      "cell_type": "code",
      "metadata": {
        "id": "1d7965d1"
      },
      "source": [
        "def move_polygon(poly, x):\n",
        "    cords = np.array(poly.exterior.coords)[:-1,:]  # koordinate oglisc zapise v np.array\n",
        "    cords[:, 0] += x  # vse x koordinate premakne za dani x\n",
        "    poly = Polygon(cords) \n",
        "    return poly  # vrne premaknen poligon"
      ],
      "id": "1d7965d1",
      "execution_count": 13,
      "outputs": []
    },
    {
      "cell_type": "code",
      "metadata": {
        "colab": {
          "base_uri": "https://localhost:8080/",
          "height": 312,
          "referenced_widgets": [
            "1b9d5ede68e145adade50b9881719e75",
            "2f43cec940ef4906b8bb354fcc1a7821",
            "dc9d48fc44a74b138b1fda67b3d2fb30",
            "4562269e4ead4fcab9ba70c847f603bc",
            "fa09dcc91ca34d9a9b938a8a85af67eb",
            "47a22b0f438441cfb773e17b2ef59c69",
            "d68283787cc743c49d3b6008947f3e89",
            "e22f678867dc4c23adcba9df1fed5f08",
            "b446bbf4b8444fa49e5f88162eb7ff66",
            "13f9993bbfae4596978bf25a4e3f016d"
          ]
        },
        "id": "813029c3",
        "scrolled": true,
        "outputId": "c3906d83-f300-4f35-95d8-9ea8bb043e3e"
      },
      "source": [
        "poligoni = {1: (poly1_1, poly2_1),\n",
        "            2: (poly1_2, poly2_2),\n",
        "            3: (poly1_3, poly2_3)}\n",
        "# FUNKCIJA, KI NAM OMOGOCA PREMIKANJE POLIGONOV S POMOCJO 'SLAJDERJA'.\n",
        "def move_windget_fun(x=0, nacin=3):\n",
        "    poly_slider_1, poly_slider_2 = poligoni[nacin]\n",
        "\n",
        "    fig, ax = plt.subplots()\n",
        "    \n",
        "    poly = move_polygon(poly_slider_1, x=x)\n",
        "    plot_polys(poly_slider_2, poly)\n",
        "    \n",
        "    dist = poly.distance(poly_slider_2)\n",
        "    txt = f'presek = 0.0000\\nrazdalja = {dist:.4f}'\n",
        "\n",
        "    if poly.intersects(poly_slider_2):\n",
        "        poly3 = poly.intersection(poly_slider_2)\n",
        "        p3 = plt.Polygon(poly3.exterior.coords, color=get_cmap('Set1')(2))\n",
        "        ax.add_patch(p3)\n",
        "        txt = f'presek = {poly3.area:.4f}\\nrazdalja = {dist:.4f}'\n",
        "    \n",
        "    ax.text(1,1,txt, transform=ax.transAxes, horizontalalignment='right', verticalalignment='top')\n",
        "    \n",
        "#     plt.xlim(-1, 1)\n",
        "#     plt.ylim(-1, 1)\n",
        "    plt.tick_params(bottom=False, left=False, labelleft=False, labelbottom=False)\n",
        "    \n",
        "    plt.show()\n",
        "\n",
        "widgets.interact(move_windget_fun, x=(-5, 5, 0.1), nacin=[1,2,3]);"
      ],
      "id": "813029c3",
      "execution_count": 14,
      "outputs": [
        {
          "output_type": "display_data",
          "data": {
            "application/vnd.jupyter.widget-view+json": {
              "model_id": "1b9d5ede68e145adade50b9881719e75",
              "version_minor": 0,
              "version_major": 2
            },
            "text/plain": [
              "interactive(children=(FloatSlider(value=0.0, description='x', max=5.0, min=-5.0), Dropdown(description='nacin'…"
            ]
          },
          "metadata": {}
        }
      ]
    },
    {
      "cell_type": "markdown",
      "metadata": {
        "id": "KJRGrr2o9LEE"
      },
      "source": [
        "Zapiseva funkcijo, ki bo poiskala potreben minimalni premik rdečega poligona v smeri abcisne osi, da rdeč in moder poligon postaneta disjunkta."
      ],
      "id": "KJRGrr2o9LEE"
    },
    {
      "cell_type": "code",
      "metadata": {
        "id": "27e12e6d"
      },
      "source": [
        "def optimize_fun(x, poly1, poly2):\n",
        "    poly = move_polygon(poly1, x)\n",
        "    A = poly.intersection(poly2).area  # ploscina (npr. 0.010113566098373444)\n",
        "    d = poly.distance(poly2)  # ce se prekrivata\n",
        "    return A - d  # ko bosta poligona disjunktna se bo d poveceval in bo ta vrednost vedno manjsa, ko no A > 0 bo d enak nic, poiskati moramo ničlo te funkcije"
      ],
      "id": "27e12e6d",
      "execution_count": 15,
      "outputs": []
    },
    {
      "cell_type": "code",
      "metadata": {
        "colab": {
          "base_uri": "https://localhost:8080/",
          "height": 364,
          "referenced_widgets": [
            "2907816eabf8433593154b618157bd3a",
            "7f5da2f0b5b849809656ceb64a0ee9ea",
            "c06cd04bac77453a8ea623826c8ab7ea",
            "4f76125b2ea34ccc8a79f2b1b226ce29",
            "7c830394ac7f4064835a0199f9564d83",
            "b60a00957d8c421c89722a8ebc221528",
            "13c492c1a1dd42e38c746872d4abe8a8"
          ]
        },
        "id": "d24b6a36",
        "outputId": "f13909fd-a465-4e19-f62c-4191fafbc960"
      },
      "source": [
        "poligoni = {1: (poly1_1, poly2_1),\n",
        "            2: (poly1_2, poly2_2),\n",
        "            3: (poly1_3, poly2_3)}\n",
        "\n",
        "def widget_fun(nacin=3):\n",
        "    poly1, poly2 = poligoni[nacin]\n",
        "\n",
        "    # IZRIS GRAFA\n",
        "    xx = np.linspace(-5, 5, 100)\n",
        "    y = np.vectorize(optimize_fun)(xx, poly1, poly2)\n",
        "\n",
        "    fig, ax = plt.subplots(figsize=(6,4))\n",
        "    ax.axhline(0, c='k', ls='--', alpha=0.8)\n",
        "    ax.plot(xx, y)\n",
        "    ax.set_xlabel(\"razdalja od izhodišča\")\n",
        "    # ax.grid(ls='--')\n",
        "\n",
        "    # ISKANJE NIČEL - tj rdeči pikici na grafu\n",
        "    x1 = scipy.optimize.newton(optimize_fun, x0=0.5, args=(poly1, poly2))\n",
        "    ax.plot(x1, 0, 'ro')\n",
        "    ax.text(x1, 0, f'{x1:.4f}', fontsize=14, c='r')\n",
        "\n",
        "    x2 = scipy.optimize.newton(optimize_fun, x0=-0.5, args=(poly1, poly2))\n",
        "    ax.plot(x2, 0, 'ro')\n",
        "    ax.text(x2, 0, f'{x2:.4f}', fontsize=14, c='r', horizontalalignment='right')\n",
        "\n",
        "# ZA SHRANJEVANJE SLIKE ZA pdf\n",
        "#plt.savefig('funkcija.pdf', bbox_inches='tight')\n",
        "\n",
        "widgets.interact(widget_fun, nacin=[1,2,3]);\n"
      ],
      "id": "d24b6a36",
      "execution_count": 16,
      "outputs": [
        {
          "output_type": "display_data",
          "data": {
            "application/vnd.jupyter.widget-view+json": {
              "model_id": "2907816eabf8433593154b618157bd3a",
              "version_minor": 0,
              "version_major": 2
            },
            "text/plain": [
              "interactive(children=(Dropdown(description='nacin', index=2, options=(1, 2, 3), value=3), Output()), _dom_clas…"
            ]
          },
          "metadata": {}
        }
      ]
    },
    {
      "cell_type": "markdown",
      "metadata": {
        "id": "uB-9-jbUAWYQ"
      },
      "source": [
        "Izračun najmanjse ničle po absolutni vrednosti zgornje funkcije."
      ],
      "id": "uB-9-jbUAWYQ"
    },
    {
      "cell_type": "code",
      "metadata": {
        "id": "22c5f79b"
      },
      "source": [
        "def calc_min_distance(poly1, poly2):\n",
        "    min_dist_p = scipy.optimize.newton(optimize_fun, x0=0.5, args=(poly1, poly2))\n",
        "    min_dist_m = scipy.optimize.newton(optimize_fun, x0=-0.5, args=(poly1, poly2))\n",
        "\n",
        "    razdalje = np.array([min_dist_p, min_dist_m])\n",
        "    id_min = np.argmin(np.abs(razdalje))\n",
        "\n",
        "    return razdalje[id_min]"
      ],
      "id": "22c5f79b",
      "execution_count": 17,
      "outputs": []
    },
    {
      "cell_type": "code",
      "metadata": {
        "colab": {
          "base_uri": "https://localhost:8080/"
        },
        "id": "SrsYExXLRvWt",
        "outputId": "0b4fd31a-35e0-4847-9fe6-03715659b702"
      },
      "source": [
        "min_dist = calc_min_distance(poly1_3, poly2_3)\n",
        "print(f'Najmanjša razdalja za premik rdečega poligona je {min_dist:.10f}')"
      ],
      "id": "SrsYExXLRvWt",
      "execution_count": 18,
      "outputs": [
        {
          "output_type": "stream",
          "name": "stdout",
          "text": [
            "Najmanjša razdalja za premik rdečega poligona je 0.6098096057\n"
          ]
        }
      ]
    },
    {
      "cell_type": "code",
      "metadata": {
        "colab": {
          "base_uri": "https://localhost:8080/",
          "height": 296,
          "referenced_widgets": [
            "4bed0a757ed94a379ace59c20243e09f",
            "3e9d1b00f89d499e98aa00b5be916baf",
            "1a15c0ef57e54cdf8cd4899e22cd3f6d",
            "054a799a3e9c48efaab73b946da85247",
            "9cb88b3d82b84eaf8b513e3525c95f23",
            "ddfe7d434180417db8bb2f5a45a39855",
            "b0ef03bb1a0c493caabd22e782afddae"
          ]
        },
        "id": "fmW6D_pKSRdS",
        "outputId": "645c6f51-7e9e-4e13-cf4a-9fcdcc705ffd"
      },
      "source": [
        "poligoni = {1: (poly1_1, poly2_1),\n",
        "            2: (poly1_2, poly2_2),\n",
        "            3: (poly1_3, poly2_3)}\n",
        "# FUNKCIJA, KI NAM OMOGOCA PREMIKANJE POLIGONOV S POMOCJO 'SLAJDERJA'.\n",
        "def move_windget_fun(nacin=3):\n",
        "    poly_slider_1, poly_slider_2 = poligoni[nacin]\n",
        "\n",
        "    fig, ax = plt.subplots()\n",
        "    \n",
        "    plot_polys(poly_slider_1, poly_slider_2)\n",
        "    min_dist = calc_min_distance(poly_slider_1, poly_slider_2)\n",
        "    poly = move_polygon(poly_slider_1, x=min_dist)\n",
        "    plot_polys(poly)\n",
        "\n",
        "    plt.tick_params(bottom=False, left=False, labelleft=False, labelbottom=False)\n",
        "\n",
        "    plt.title(f'Najmanjša razdalja za premik rdečega poligona') #je {min_dist:.10f}')\n",
        "    #plt.savefig('premikr.pdf', bbox_inches='tight')\n",
        "    plt.show()\n",
        "    \n",
        "\n",
        "widgets.interact(move_windget_fun, nacin=[1,2,3]); "
      ],
      "id": "fmW6D_pKSRdS",
      "execution_count": 19,
      "outputs": [
        {
          "output_type": "display_data",
          "data": {
            "application/vnd.jupyter.widget-view+json": {
              "model_id": "4bed0a757ed94a379ace59c20243e09f",
              "version_minor": 0,
              "version_major": 2
            },
            "text/plain": [
              "interactive(children=(Dropdown(description='nacin', index=2, options=(1, 2, 3), value=3), Output()), _dom_clas…"
            ]
          },
          "metadata": {}
        }
      ]
    },
    {
      "cell_type": "code",
      "metadata": {
        "id": "UE0ITjQCS1a1"
      },
      "source": [
        ""
      ],
      "id": "UE0ITjQCS1a1",
      "execution_count": 19,
      "outputs": []
    }
  ]
}