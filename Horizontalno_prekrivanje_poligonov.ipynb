{
  "nbformat": 4,
  "nbformat_minor": 5,
  "metadata": {
    "colab": {
      "name": "Horizontalno_prekrivanje_poligonov.ipynb",
      "provenance": [],
      "collapsed_sections": [],
      "toc_visible": true,
      "include_colab_link": true
    },
    "kernelspec": {
      "display_name": "Python 3 (ipykernel)",
      "language": "python",
      "name": "python3"
    },
    "language_info": {
      "codemirror_mode": {
        "name": "ipython",
        "version": 3
      },
      "file_extension": ".py",
      "mimetype": "text/x-python",
      "name": "python",
      "nbconvert_exporter": "python",
      "pygments_lexer": "ipython3",
      "version": "3.7.9"
    },
    "toc": {
      "base_numbering": 1,
      "nav_menu": {},
      "number_sections": true,
      "sideBar": true,
      "skip_h1_title": false,
      "title_cell": "Table of Contents",
      "title_sidebar": "Contents",
      "toc_cell": false,
      "toc_position": {},
      "toc_section_display": true,
      "toc_window_display": false
    },
    "widgets": {
      "application/vnd.jupyter.widget-state+json": {
        "0c101750d7ca42df896e7c19d8c5eec5": {
          "model_module": "@jupyter-widgets/controls",
          "model_name": "VBoxModel",
          "model_module_version": "1.5.0",
          "state": {
            "_view_name": "VBoxView",
            "_dom_classes": [
              "widget-interact"
            ],
            "_model_name": "VBoxModel",
            "_view_module": "@jupyter-widgets/controls",
            "_model_module_version": "1.5.0",
            "_view_count": null,
            "_view_module_version": "1.5.0",
            "box_style": "",
            "layout": "IPY_MODEL_039a8256abeb437db4065a3b294b6024",
            "_model_module": "@jupyter-widgets/controls",
            "children": [
              "IPY_MODEL_6d1e80f220074a78872692721a751f91",
              "IPY_MODEL_39ded93195eb4792a41bf218eaf5bd47",
              "IPY_MODEL_05a4941f857840199269a7be4295d1fd"
            ]
          }
        },
        "039a8256abeb437db4065a3b294b6024": {
          "model_module": "@jupyter-widgets/base",
          "model_name": "LayoutModel",
          "model_module_version": "1.2.0",
          "state": {
            "_view_name": "LayoutView",
            "grid_template_rows": null,
            "right": null,
            "justify_content": null,
            "_view_module": "@jupyter-widgets/base",
            "overflow": null,
            "_model_module_version": "1.2.0",
            "_view_count": null,
            "flex_flow": null,
            "width": null,
            "min_width": null,
            "border": null,
            "align_items": null,
            "bottom": null,
            "_model_module": "@jupyter-widgets/base",
            "top": null,
            "grid_column": null,
            "overflow_y": null,
            "overflow_x": null,
            "grid_auto_flow": null,
            "grid_area": null,
            "grid_template_columns": null,
            "flex": null,
            "_model_name": "LayoutModel",
            "justify_items": null,
            "grid_row": null,
            "max_height": null,
            "align_content": null,
            "visibility": null,
            "align_self": null,
            "height": null,
            "min_height": null,
            "padding": null,
            "grid_auto_rows": null,
            "grid_gap": null,
            "max_width": null,
            "order": null,
            "_view_module_version": "1.2.0",
            "grid_template_areas": null,
            "object_position": null,
            "object_fit": null,
            "grid_auto_columns": null,
            "margin": null,
            "display": null,
            "left": null
          }
        },
        "6d1e80f220074a78872692721a751f91": {
          "model_module": "@jupyter-widgets/controls",
          "model_name": "FloatSliderModel",
          "model_module_version": "1.5.0",
          "state": {
            "_view_name": "FloatSliderView",
            "style": "IPY_MODEL_7756bedad70548eaacd8d1b59ccc2103",
            "_dom_classes": [],
            "description": "x",
            "step": 0.1,
            "_model_name": "FloatSliderModel",
            "orientation": "horizontal",
            "max": 5,
            "_view_module": "@jupyter-widgets/controls",
            "_model_module_version": "1.5.0",
            "value": 0,
            "_view_count": null,
            "disabled": false,
            "_view_module_version": "1.5.0",
            "min": -5,
            "continuous_update": true,
            "readout_format": ".2f",
            "description_tooltip": null,
            "readout": true,
            "_model_module": "@jupyter-widgets/controls",
            "layout": "IPY_MODEL_d6bd9a2e7c2f46728b144f50e84c4886"
          }
        },
        "39ded93195eb4792a41bf218eaf5bd47": {
          "model_module": "@jupyter-widgets/controls",
          "model_name": "DropdownModel",
          "model_module_version": "1.5.0",
          "state": {
            "_options_labels": [
              "1",
              "2",
              "3"
            ],
            "_view_name": "DropdownView",
            "style": "IPY_MODEL_9e8b1d5f248d443d8da12783893c1a98",
            "_dom_classes": [],
            "description": "nacin",
            "_model_name": "DropdownModel",
            "index": 2,
            "_view_module": "@jupyter-widgets/controls",
            "_model_module_version": "1.5.0",
            "_view_count": null,
            "disabled": false,
            "_view_module_version": "1.5.0",
            "description_tooltip": null,
            "_model_module": "@jupyter-widgets/controls",
            "layout": "IPY_MODEL_6ee407a86aa84ef8ba64cab61311eae1"
          }
        },
        "05a4941f857840199269a7be4295d1fd": {
          "model_module": "@jupyter-widgets/output",
          "model_name": "OutputModel",
          "model_module_version": "1.0.0",
          "state": {
            "_view_name": "OutputView",
            "msg_id": "",
            "_dom_classes": [],
            "_model_name": "OutputModel",
            "outputs": [
              {
                "output_type": "display_data",
                "data": {
                  "image/png": "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\n",
                  "text/plain": "<Figure size 432x288 with 1 Axes>"
                },
                "metadata": {}
              }
            ],
            "_view_module": "@jupyter-widgets/output",
            "_model_module_version": "1.0.0",
            "_view_count": null,
            "_view_module_version": "1.0.0",
            "layout": "IPY_MODEL_7c84757058bf444e9cdef60cf0e48fe4",
            "_model_module": "@jupyter-widgets/output"
          }
        },
        "7756bedad70548eaacd8d1b59ccc2103": {
          "model_module": "@jupyter-widgets/controls",
          "model_name": "SliderStyleModel",
          "model_module_version": "1.5.0",
          "state": {
            "_view_name": "StyleView",
            "handle_color": null,
            "_model_name": "SliderStyleModel",
            "description_width": "",
            "_view_module": "@jupyter-widgets/base",
            "_model_module_version": "1.5.0",
            "_view_count": null,
            "_view_module_version": "1.2.0",
            "_model_module": "@jupyter-widgets/controls"
          }
        },
        "d6bd9a2e7c2f46728b144f50e84c4886": {
          "model_module": "@jupyter-widgets/base",
          "model_name": "LayoutModel",
          "model_module_version": "1.2.0",
          "state": {
            "_view_name": "LayoutView",
            "grid_template_rows": null,
            "right": null,
            "justify_content": null,
            "_view_module": "@jupyter-widgets/base",
            "overflow": null,
            "_model_module_version": "1.2.0",
            "_view_count": null,
            "flex_flow": null,
            "width": null,
            "min_width": null,
            "border": null,
            "align_items": null,
            "bottom": null,
            "_model_module": "@jupyter-widgets/base",
            "top": null,
            "grid_column": null,
            "overflow_y": null,
            "overflow_x": null,
            "grid_auto_flow": null,
            "grid_area": null,
            "grid_template_columns": null,
            "flex": null,
            "_model_name": "LayoutModel",
            "justify_items": null,
            "grid_row": null,
            "max_height": null,
            "align_content": null,
            "visibility": null,
            "align_self": null,
            "height": null,
            "min_height": null,
            "padding": null,
            "grid_auto_rows": null,
            "grid_gap": null,
            "max_width": null,
            "order": null,
            "_view_module_version": "1.2.0",
            "grid_template_areas": null,
            "object_position": null,
            "object_fit": null,
            "grid_auto_columns": null,
            "margin": null,
            "display": null,
            "left": null
          }
        },
        "9e8b1d5f248d443d8da12783893c1a98": {
          "model_module": "@jupyter-widgets/controls",
          "model_name": "DescriptionStyleModel",
          "model_module_version": "1.5.0",
          "state": {
            "_view_name": "StyleView",
            "_model_name": "DescriptionStyleModel",
            "description_width": "",
            "_view_module": "@jupyter-widgets/base",
            "_model_module_version": "1.5.0",
            "_view_count": null,
            "_view_module_version": "1.2.0",
            "_model_module": "@jupyter-widgets/controls"
          }
        },
        "6ee407a86aa84ef8ba64cab61311eae1": {
          "model_module": "@jupyter-widgets/base",
          "model_name": "LayoutModel",
          "model_module_version": "1.2.0",
          "state": {
            "_view_name": "LayoutView",
            "grid_template_rows": null,
            "right": null,
            "justify_content": null,
            "_view_module": "@jupyter-widgets/base",
            "overflow": null,
            "_model_module_version": "1.2.0",
            "_view_count": null,
            "flex_flow": null,
            "width": null,
            "min_width": null,
            "border": null,
            "align_items": null,
            "bottom": null,
            "_model_module": "@jupyter-widgets/base",
            "top": null,
            "grid_column": null,
            "overflow_y": null,
            "overflow_x": null,
            "grid_auto_flow": null,
            "grid_area": null,
            "grid_template_columns": null,
            "flex": null,
            "_model_name": "LayoutModel",
            "justify_items": null,
            "grid_row": null,
            "max_height": null,
            "align_content": null,
            "visibility": null,
            "align_self": null,
            "height": null,
            "min_height": null,
            "padding": null,
            "grid_auto_rows": null,
            "grid_gap": null,
            "max_width": null,
            "order": null,
            "_view_module_version": "1.2.0",
            "grid_template_areas": null,
            "object_position": null,
            "object_fit": null,
            "grid_auto_columns": null,
            "margin": null,
            "display": null,
            "left": null
          }
        },
        "7c84757058bf444e9cdef60cf0e48fe4": {
          "model_module": "@jupyter-widgets/base",
          "model_name": "LayoutModel",
          "model_module_version": "1.2.0",
          "state": {
            "_view_name": "LayoutView",
            "grid_template_rows": null,
            "right": null,
            "justify_content": null,
            "_view_module": "@jupyter-widgets/base",
            "overflow": null,
            "_model_module_version": "1.2.0",
            "_view_count": null,
            "flex_flow": null,
            "width": null,
            "min_width": null,
            "border": null,
            "align_items": null,
            "bottom": null,
            "_model_module": "@jupyter-widgets/base",
            "top": null,
            "grid_column": null,
            "overflow_y": null,
            "overflow_x": null,
            "grid_auto_flow": null,
            "grid_area": null,
            "grid_template_columns": null,
            "flex": null,
            "_model_name": "LayoutModel",
            "justify_items": null,
            "grid_row": null,
            "max_height": null,
            "align_content": null,
            "visibility": null,
            "align_self": null,
            "height": null,
            "min_height": null,
            "padding": null,
            "grid_auto_rows": null,
            "grid_gap": null,
            "max_width": null,
            "order": null,
            "_view_module_version": "1.2.0",
            "grid_template_areas": null,
            "object_position": null,
            "object_fit": null,
            "grid_auto_columns": null,
            "margin": null,
            "display": null,
            "left": null
          }
        },
        "0931f15f1078408b9ad3554c6072e9d0": {
          "model_module": "@jupyter-widgets/controls",
          "model_name": "VBoxModel",
          "model_module_version": "1.5.0",
          "state": {
            "_view_name": "VBoxView",
            "_dom_classes": [
              "widget-interact"
            ],
            "_model_name": "VBoxModel",
            "_view_module": "@jupyter-widgets/controls",
            "_model_module_version": "1.5.0",
            "_view_count": null,
            "_view_module_version": "1.5.0",
            "box_style": "",
            "layout": "IPY_MODEL_806e58b04a344cc295ef43c5537a4607",
            "_model_module": "@jupyter-widgets/controls",
            "children": [
              "IPY_MODEL_16ba407d433d48afb92748e7f0ebeb4d",
              "IPY_MODEL_f7c9e6fb49064de78c232c42053c7629"
            ]
          }
        },
        "806e58b04a344cc295ef43c5537a4607": {
          "model_module": "@jupyter-widgets/base",
          "model_name": "LayoutModel",
          "model_module_version": "1.2.0",
          "state": {
            "_view_name": "LayoutView",
            "grid_template_rows": null,
            "right": null,
            "justify_content": null,
            "_view_module": "@jupyter-widgets/base",
            "overflow": null,
            "_model_module_version": "1.2.0",
            "_view_count": null,
            "flex_flow": null,
            "width": null,
            "min_width": null,
            "border": null,
            "align_items": null,
            "bottom": null,
            "_model_module": "@jupyter-widgets/base",
            "top": null,
            "grid_column": null,
            "overflow_y": null,
            "overflow_x": null,
            "grid_auto_flow": null,
            "grid_area": null,
            "grid_template_columns": null,
            "flex": null,
            "_model_name": "LayoutModel",
            "justify_items": null,
            "grid_row": null,
            "max_height": null,
            "align_content": null,
            "visibility": null,
            "align_self": null,
            "height": null,
            "min_height": null,
            "padding": null,
            "grid_auto_rows": null,
            "grid_gap": null,
            "max_width": null,
            "order": null,
            "_view_module_version": "1.2.0",
            "grid_template_areas": null,
            "object_position": null,
            "object_fit": null,
            "grid_auto_columns": null,
            "margin": null,
            "display": null,
            "left": null
          }
        },
        "16ba407d433d48afb92748e7f0ebeb4d": {
          "model_module": "@jupyter-widgets/controls",
          "model_name": "DropdownModel",
          "model_module_version": "1.5.0",
          "state": {
            "_options_labels": [
              "1",
              "2",
              "3"
            ],
            "_view_name": "DropdownView",
            "style": "IPY_MODEL_1e8af4f7bb054f9b8581465c09dd7023",
            "_dom_classes": [],
            "description": "nacin",
            "_model_name": "DropdownModel",
            "index": 2,
            "_view_module": "@jupyter-widgets/controls",
            "_model_module_version": "1.5.0",
            "_view_count": null,
            "disabled": false,
            "_view_module_version": "1.5.0",
            "description_tooltip": null,
            "_model_module": "@jupyter-widgets/controls",
            "layout": "IPY_MODEL_34dd7ea4e28b4ad1bd59fcb145d5c10c"
          }
        },
        "f7c9e6fb49064de78c232c42053c7629": {
          "model_module": "@jupyter-widgets/output",
          "model_name": "OutputModel",
          "model_module_version": "1.0.0",
          "state": {
            "_view_name": "OutputView",
            "msg_id": "",
            "_dom_classes": [],
            "_model_name": "OutputModel",
            "outputs": [
              {
                "output_type": "stream",
                "name": "stderr",
                "text": [
                  "/usr/local/lib/python3.7/dist-packages/numpy/lib/function_base.py:2192: RuntimeWarning: overflow encountered in ? (vectorized)\n",
                  "  outputs = ufunc(*inputs)\n"
                ]
              },
              {
                "output_type": "display_data",
                "data": {
                  "image/png": "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\n",
                  "text/plain": "<Figure size 432x288 with 1 Axes>"
                },
                "metadata": {
                  "needs_background": "light"
                }
              }
            ],
            "_view_module": "@jupyter-widgets/output",
            "_model_module_version": "1.0.0",
            "_view_count": null,
            "_view_module_version": "1.0.0",
            "layout": "IPY_MODEL_34dcb475bc074ec19e825533ca71045c",
            "_model_module": "@jupyter-widgets/output"
          }
        },
        "1e8af4f7bb054f9b8581465c09dd7023": {
          "model_module": "@jupyter-widgets/controls",
          "model_name": "DescriptionStyleModel",
          "model_module_version": "1.5.0",
          "state": {
            "_view_name": "StyleView",
            "_model_name": "DescriptionStyleModel",
            "description_width": "",
            "_view_module": "@jupyter-widgets/base",
            "_model_module_version": "1.5.0",
            "_view_count": null,
            "_view_module_version": "1.2.0",
            "_model_module": "@jupyter-widgets/controls"
          }
        },
        "34dd7ea4e28b4ad1bd59fcb145d5c10c": {
          "model_module": "@jupyter-widgets/base",
          "model_name": "LayoutModel",
          "model_module_version": "1.2.0",
          "state": {
            "_view_name": "LayoutView",
            "grid_template_rows": null,
            "right": null,
            "justify_content": null,
            "_view_module": "@jupyter-widgets/base",
            "overflow": null,
            "_model_module_version": "1.2.0",
            "_view_count": null,
            "flex_flow": null,
            "width": null,
            "min_width": null,
            "border": null,
            "align_items": null,
            "bottom": null,
            "_model_module": "@jupyter-widgets/base",
            "top": null,
            "grid_column": null,
            "overflow_y": null,
            "overflow_x": null,
            "grid_auto_flow": null,
            "grid_area": null,
            "grid_template_columns": null,
            "flex": null,
            "_model_name": "LayoutModel",
            "justify_items": null,
            "grid_row": null,
            "max_height": null,
            "align_content": null,
            "visibility": null,
            "align_self": null,
            "height": null,
            "min_height": null,
            "padding": null,
            "grid_auto_rows": null,
            "grid_gap": null,
            "max_width": null,
            "order": null,
            "_view_module_version": "1.2.0",
            "grid_template_areas": null,
            "object_position": null,
            "object_fit": null,
            "grid_auto_columns": null,
            "margin": null,
            "display": null,
            "left": null
          }
        },
        "34dcb475bc074ec19e825533ca71045c": {
          "model_module": "@jupyter-widgets/base",
          "model_name": "LayoutModel",
          "model_module_version": "1.2.0",
          "state": {
            "_view_name": "LayoutView",
            "grid_template_rows": null,
            "right": null,
            "justify_content": null,
            "_view_module": "@jupyter-widgets/base",
            "overflow": null,
            "_model_module_version": "1.2.0",
            "_view_count": null,
            "flex_flow": null,
            "width": null,
            "min_width": null,
            "border": null,
            "align_items": null,
            "bottom": null,
            "_model_module": "@jupyter-widgets/base",
            "top": null,
            "grid_column": null,
            "overflow_y": null,
            "overflow_x": null,
            "grid_auto_flow": null,
            "grid_area": null,
            "grid_template_columns": null,
            "flex": null,
            "_model_name": "LayoutModel",
            "justify_items": null,
            "grid_row": null,
            "max_height": null,
            "align_content": null,
            "visibility": null,
            "align_self": null,
            "height": null,
            "min_height": null,
            "padding": null,
            "grid_auto_rows": null,
            "grid_gap": null,
            "max_width": null,
            "order": null,
            "_view_module_version": "1.2.0",
            "grid_template_areas": null,
            "object_position": null,
            "object_fit": null,
            "grid_auto_columns": null,
            "margin": null,
            "display": null,
            "left": null
          }
        },
        "f3d3401e164c4460b3135631e539764f": {
          "model_module": "@jupyter-widgets/controls",
          "model_name": "VBoxModel",
          "model_module_version": "1.5.0",
          "state": {
            "_view_name": "VBoxView",
            "_dom_classes": [
              "widget-interact"
            ],
            "_model_name": "VBoxModel",
            "_view_module": "@jupyter-widgets/controls",
            "_model_module_version": "1.5.0",
            "_view_count": null,
            "_view_module_version": "1.5.0",
            "box_style": "",
            "layout": "IPY_MODEL_25979792eb194c79989526987c96e19b",
            "_model_module": "@jupyter-widgets/controls",
            "children": [
              "IPY_MODEL_7b66a4feacd24c26881d7be48724d0d8",
              "IPY_MODEL_6a79186d3c384638934a3effbdcd890b"
            ]
          }
        },
        "25979792eb194c79989526987c96e19b": {
          "model_module": "@jupyter-widgets/base",
          "model_name": "LayoutModel",
          "model_module_version": "1.2.0",
          "state": {
            "_view_name": "LayoutView",
            "grid_template_rows": null,
            "right": null,
            "justify_content": null,
            "_view_module": "@jupyter-widgets/base",
            "overflow": null,
            "_model_module_version": "1.2.0",
            "_view_count": null,
            "flex_flow": null,
            "width": null,
            "min_width": null,
            "border": null,
            "align_items": null,
            "bottom": null,
            "_model_module": "@jupyter-widgets/base",
            "top": null,
            "grid_column": null,
            "overflow_y": null,
            "overflow_x": null,
            "grid_auto_flow": null,
            "grid_area": null,
            "grid_template_columns": null,
            "flex": null,
            "_model_name": "LayoutModel",
            "justify_items": null,
            "grid_row": null,
            "max_height": null,
            "align_content": null,
            "visibility": null,
            "align_self": null,
            "height": null,
            "min_height": null,
            "padding": null,
            "grid_auto_rows": null,
            "grid_gap": null,
            "max_width": null,
            "order": null,
            "_view_module_version": "1.2.0",
            "grid_template_areas": null,
            "object_position": null,
            "object_fit": null,
            "grid_auto_columns": null,
            "margin": null,
            "display": null,
            "left": null
          }
        },
        "7b66a4feacd24c26881d7be48724d0d8": {
          "model_module": "@jupyter-widgets/controls",
          "model_name": "DropdownModel",
          "model_module_version": "1.5.0",
          "state": {
            "_options_labels": [
              "1",
              "2",
              "3"
            ],
            "_view_name": "DropdownView",
            "style": "IPY_MODEL_f5e2290404de4bcd8bb610207dfebaf1",
            "_dom_classes": [],
            "description": "nacin",
            "_model_name": "DropdownModel",
            "index": 2,
            "_view_module": "@jupyter-widgets/controls",
            "_model_module_version": "1.5.0",
            "_view_count": null,
            "disabled": false,
            "_view_module_version": "1.5.0",
            "description_tooltip": null,
            "_model_module": "@jupyter-widgets/controls",
            "layout": "IPY_MODEL_e75389c030a44018a74fc3ed83a47465"
          }
        },
        "6a79186d3c384638934a3effbdcd890b": {
          "model_module": "@jupyter-widgets/output",
          "model_name": "OutputModel",
          "model_module_version": "1.0.0",
          "state": {
            "_view_name": "OutputView",
            "msg_id": "",
            "_dom_classes": [],
            "_model_name": "OutputModel",
            "outputs": [
              {
                "output_type": "display_data",
                "data": {
                  "image/png": "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\n",
                  "text/plain": "<Figure size 432x288 with 1 Axes>"
                },
                "metadata": {}
              }
            ],
            "_view_module": "@jupyter-widgets/output",
            "_model_module_version": "1.0.0",
            "_view_count": null,
            "_view_module_version": "1.0.0",
            "layout": "IPY_MODEL_0808614c2199413d86134f7b0df31627",
            "_model_module": "@jupyter-widgets/output"
          }
        },
        "f5e2290404de4bcd8bb610207dfebaf1": {
          "model_module": "@jupyter-widgets/controls",
          "model_name": "DescriptionStyleModel",
          "model_module_version": "1.5.0",
          "state": {
            "_view_name": "StyleView",
            "_model_name": "DescriptionStyleModel",
            "description_width": "",
            "_view_module": "@jupyter-widgets/base",
            "_model_module_version": "1.5.0",
            "_view_count": null,
            "_view_module_version": "1.2.0",
            "_model_module": "@jupyter-widgets/controls"
          }
        },
        "e75389c030a44018a74fc3ed83a47465": {
          "model_module": "@jupyter-widgets/base",
          "model_name": "LayoutModel",
          "model_module_version": "1.2.0",
          "state": {
            "_view_name": "LayoutView",
            "grid_template_rows": null,
            "right": null,
            "justify_content": null,
            "_view_module": "@jupyter-widgets/base",
            "overflow": null,
            "_model_module_version": "1.2.0",
            "_view_count": null,
            "flex_flow": null,
            "width": null,
            "min_width": null,
            "border": null,
            "align_items": null,
            "bottom": null,
            "_model_module": "@jupyter-widgets/base",
            "top": null,
            "grid_column": null,
            "overflow_y": null,
            "overflow_x": null,
            "grid_auto_flow": null,
            "grid_area": null,
            "grid_template_columns": null,
            "flex": null,
            "_model_name": "LayoutModel",
            "justify_items": null,
            "grid_row": null,
            "max_height": null,
            "align_content": null,
            "visibility": null,
            "align_self": null,
            "height": null,
            "min_height": null,
            "padding": null,
            "grid_auto_rows": null,
            "grid_gap": null,
            "max_width": null,
            "order": null,
            "_view_module_version": "1.2.0",
            "grid_template_areas": null,
            "object_position": null,
            "object_fit": null,
            "grid_auto_columns": null,
            "margin": null,
            "display": null,
            "left": null
          }
        },
        "0808614c2199413d86134f7b0df31627": {
          "model_module": "@jupyter-widgets/base",
          "model_name": "LayoutModel",
          "model_module_version": "1.2.0",
          "state": {
            "_view_name": "LayoutView",
            "grid_template_rows": null,
            "right": null,
            "justify_content": null,
            "_view_module": "@jupyter-widgets/base",
            "overflow": null,
            "_model_module_version": "1.2.0",
            "_view_count": null,
            "flex_flow": null,
            "width": null,
            "min_width": null,
            "border": null,
            "align_items": null,
            "bottom": null,
            "_model_module": "@jupyter-widgets/base",
            "top": null,
            "grid_column": null,
            "overflow_y": null,
            "overflow_x": null,
            "grid_auto_flow": null,
            "grid_area": null,
            "grid_template_columns": null,
            "flex": null,
            "_model_name": "LayoutModel",
            "justify_items": null,
            "grid_row": null,
            "max_height": null,
            "align_content": null,
            "visibility": null,
            "align_self": null,
            "height": null,
            "min_height": null,
            "padding": null,
            "grid_auto_rows": null,
            "grid_gap": null,
            "max_width": null,
            "order": null,
            "_view_module_version": "1.2.0",
            "grid_template_areas": null,
            "object_position": null,
            "object_fit": null,
            "grid_auto_columns": null,
            "margin": null,
            "display": null,
            "left": null
          }
        }
      }
    }
  },
  "cells": [
    {
      "cell_type": "markdown",
      "metadata": {
        "id": "view-in-github",
        "colab_type": "text"
      },
      "source": [
        "<a href=\"https://colab.research.google.com/github/UdirL18/Horizontalno-prekrivanje-poligonov/blob/main/Horizontalno_prekrivanje_poligonov.ipynb\" target=\"_parent\"><img src=\"https://colab.research.google.com/assets/colab-badge.svg\" alt=\"Open In Colab\"/></a>"
      ]
    },
    {
      "cell_type": "markdown",
      "metadata": {
        "id": "yQkYH3kvCOGn"
      },
      "source": [
        "# **Horizontalno prekrivanje poligonov**"
      ],
      "id": "yQkYH3kvCOGn"
    },
    {
      "cell_type": "code",
      "metadata": {
        "id": "ebf6e80d"
      },
      "source": [
        "import numpy as np\n",
        "import math\n",
        "import matplotlib.pyplot as plt\n",
        "from matplotlib.cm import get_cmap\n",
        "import ipywidgets as widgets\n",
        "from shapely.geometry import Polygon\n",
        "import scipy.optimize\n",
        "import random\n",
        "from math import atan2\n",
        "from scipy.spatial import ConvexHull, convex_hull_plot_2d\n",
        "\n",
        "# plt.style.use('science')"
      ],
      "id": "ebf6e80d",
      "execution_count": 1,
      "outputs": []
    },
    {
      "cell_type": "markdown",
      "metadata": {
        "id": "4lZwjNCZES2p"
      },
      "source": [
        "Za generiranje poligonov bova uporabila tri metode."
      ],
      "id": "4lZwjNCZES2p"
    },
    {
      "cell_type": "markdown",
      "metadata": {
        "id": "7QtawwOhASdC"
      },
      "source": [
        "## 1. način\n",
        "\n"
      ],
      "id": "7QtawwOhASdC"
    },
    {
      "cell_type": "code",
      "metadata": {
        "id": "O7dmG7tVtqz4"
      },
      "source": [
        "def to_convex_contour(vertices_count,\n",
        "                      x_generator=random.random,\n",
        "                      y_generator=random.random):\n",
        "\n",
        "    xs = [x_generator() for _ in range(vertices_count)]\n",
        "    ys = [y_generator() for _ in range(vertices_count)]\n",
        "    xs = sorted(xs)\n",
        "    ys = sorted(ys)\n",
        "    min_x, *xs, max_x = xs\n",
        "    min_y, *ys, max_y = ys\n",
        "    vectors_xs = _to_vectors_coordinates(xs, min_x, max_x)\n",
        "    vectors_ys = _to_vectors_coordinates(ys, min_y, max_y)\n",
        "    random.shuffle(vectors_ys)\n",
        "\n",
        "    def to_vector_angle(vector):\n",
        "        x, y = vector\n",
        "        return atan2(y, x)\n",
        "\n",
        "    vectors = sorted(zip(vectors_xs, vectors_ys),\n",
        "                     key=to_vector_angle)\n",
        "    point_x = point_y = 0\n",
        "    min_polygon_x = min_polygon_y = 0\n",
        "    points = []\n",
        "    for vector_x, vector_y in vectors:\n",
        "        points.append((point_x, point_y))\n",
        "        point_x += vector_x\n",
        "        point_y += vector_y\n",
        "        min_polygon_x = min(min_polygon_x, point_x)\n",
        "        min_polygon_y = min(min_polygon_y, point_y)\n",
        "    shift_x, shift_y = min_x - min_polygon_x, min_y - min_polygon_y\n",
        "    return [(point_x + shift_x, point_y + shift_y)\n",
        "            for point_x, point_y in points]\n",
        "\n",
        "\n",
        "def _to_vectors_coordinates(coordinates, min_coordinate, max_coordinate):\n",
        "    last_min = last_max = min_coordinate\n",
        "    result = []\n",
        "    for coordinate in coordinates:\n",
        "        if _to_random_boolean():\n",
        "            result.append(coordinate - last_min)\n",
        "            last_min = coordinate\n",
        "        else:\n",
        "            result.append(last_max - coordinate)\n",
        "            last_max = coordinate\n",
        "    result.extend((max_coordinate - last_min,\n",
        "                   last_max - max_coordinate))\n",
        "    return result\n",
        "\n",
        "\n",
        "def _to_random_boolean():\n",
        "    return random.getrandbits(1)"
      ],
      "id": "O7dmG7tVtqz4",
      "execution_count": 2,
      "outputs": []
    },
    {
      "cell_type": "code",
      "metadata": {
        "id": "LmKj1V08t-8J"
      },
      "source": [
        "#1. primer: 1000 in 10000 kotnik\n",
        "poly1_1 = Polygon(to_convex_contour(10000))\n",
        "poly2_1 = Polygon(to_convex_contour(1000))\n"
      ],
      "id": "LmKj1V08t-8J",
      "execution_count": 3,
      "outputs": []
    },
    {
      "cell_type": "code",
      "metadata": {
        "colab": {
          "base_uri": "https://localhost:8080/",
          "height": 0
        },
        "id": "bm9Pndm_txAv",
        "outputId": "25c40cad-5341-47c9-98f6-575afe913b44"
      },
      "source": [
        "# Izrisane generirane random tocke (1000 stranega konveksnega poligona)\n",
        "# izrise nov poligon ne tistega od zgoraj\n",
        "x, y = np.array(to_convex_contour(1000)).T\n",
        "x = np.append(x, x[0])\n",
        "y = np.append(y, y[0])\n",
        "\n",
        "plt.plot(x,y, '.-')"
      ],
      "id": "bm9Pndm_txAv",
      "execution_count": 4,
      "outputs": [
        {
          "output_type": "execute_result",
          "data": {
            "text/plain": [
              "[<matplotlib.lines.Line2D at 0x7f5d6b805350>]"
            ]
          },
          "metadata": {},
          "execution_count": 4
        },
        {
          "output_type": "display_data",
          "data": {
            "image/png": "[encoded data removed]",
            "text/plain": [
              "<Figure size 432x288 with 1 Axes>"
            ]
          },
          "metadata": {
            "needs_background": "light"
          }
        }
      ]
    },
    {
      "cell_type": "markdown",
      "metadata": {
        "id": "9KUPGlq_wRoe"
      },
      "source": [
        "## 2. način generiraja - s pomočjo konveksne ovojnice."
      ],
      "id": "9KUPGlq_wRoe"
    },
    {
      "cell_type": "code",
      "metadata": {
        "id": "9PwUFOVosK8A"
      },
      "source": [
        "points = np.random.randn(1000, 2)   # 1000 random points normalno porazdaljene in 2-D\n",
        "hull = ConvexHull(points)"
      ],
      "id": "9PwUFOVosK8A",
      "execution_count": 5,
      "outputs": []
    },
    {
      "cell_type": "code",
      "metadata": {
        "colab": {
          "base_uri": "https://localhost:8080/",
          "height": 0
        },
        "id": "SBXSeLTIsQMg",
        "outputId": "585bf00c-c50d-4b84-96e1-75781a594174"
      },
      "source": [
        "plt.plot(points[:,0], points[:,1], 'o')\n",
        "for simplex in hull.simplices:\n",
        "    plt.plot(points[simplex, 0], points[simplex, 1], 'k-')"
      ],
      "id": "SBXSeLTIsQMg",
      "execution_count": 6,
      "outputs": [
        {
          "output_type": "display_data",
          "data": {
            "image/png": "[encoded data removed]",
            "text/plain": [
              "<Figure size 432x288 with 1 Axes>"
            ]
          },
          "metadata": {
            "needs_background": "light"
          }
        }
      ]
    },
    {
      "cell_type": "code",
      "metadata": {
        "id": "_j1Ciz4QBcyu"
      },
      "source": [
        "# 2. primer\n",
        "points = np.random.randn(1000, 2)   # 1000 random points normalno porazdaljene in 2-D\n",
        "hull = ConvexHull(points)\n",
        "poly1_2 = Polygon(points[hull.vertices,:])\n",
        "\n",
        "points = np.random.randn(100, 2)   # 1000 random points normalno porazdaljene in 2-D\n",
        "hull = ConvexHull(points)\n",
        "poly2_2 = Polygon(points[hull.vertices,:])"
      ],
      "id": "_j1Ciz4QBcyu",
      "execution_count": 7,
      "outputs": []
    },
    {
      "cell_type": "markdown",
      "metadata": {
        "id": "A5HHMkivGm9N"
      },
      "source": [
        "## 3. način - počasna za velike n-je (na roke implementirana metoda)"
      ],
      "id": "A5HHMkivGm9N"
    },
    {
      "cell_type": "code",
      "metadata": {
        "colab": {
          "base_uri": "https://localhost:8080/",
          "height": 248
        },
        "id": "4ee4c17d",
        "outputId": "c233289e-efde-45f6-8c2f-1a8ad98982e6"
      },
      "source": [
        "# GENERIRANJE POLJUBNEGA 3-KOTNIKA V RAVNINI\n",
        "np.random.seed(9)  # zacetnja vrednost za generator nakljucnih stevil\n",
        "poly1 = Polygon(np.random.rand(3,2))  # np.random.rand(m,n) matrika mxn nakljucnih stevil\n",
        "poly2 = Polygon(np.random.rand(3,2))  # Polygon izrise poligon z danimi koordinatami (3-kotnik, v 2D) \n",
        "\n",
        "poly_inter = poly1.intersection(poly2)  # presek teh dveh poligonov -vrne koordinate preseka\n",
        "\n",
        "# GRAF\n",
        "p1 = plt.Polygon(poly1.exterior.coords, color='r')  # zapise tocke ogljisc, naredi poligon iz teh tock\n",
        "plt.gca().add_patch(p1)  # doda ta poligon na sliko\n",
        "\n",
        "p2 = plt.Polygon(poly2.exterior.coords, color='b')\n",
        "plt.gca().add_patch(p2)\n",
        "\n",
        "p3 = plt.Polygon(poly_inter.exterior.coords, color='g')\n",
        "plt.gca().add_patch(p3)\n",
        "\n",
        "plt.tick_params(bottom=False, left=False, labelleft=False, labelbottom=False)  # koordinatni sistem nima oznak"
      ],
      "id": "4ee4c17d",
      "execution_count": 8,
      "outputs": [
        {
          "output_type": "display_data",
          "data": {
            "image/png": "[encoded data removed]",
            "text/plain": [
              "<Figure size 432x288 with 1 Axes>"
            ]
          },
          "metadata": {}
        }
      ]
    },
    {
      "cell_type": "markdown",
      "metadata": {
        "id": "CdRdFBMcElNw"
      },
      "source": [
        "Trikotniki so vedno konveksni. Problem bi radi resevali za poljubne konveksne mnogokotnike. V ta namen moramo sestaviti funkcijo, ki bo preverila ali je poligon konveksen in funkcijo, ki bo zgenerirala taksen poligon."
      ],
      "id": "CdRdFBMcElNw"
    },
    {
      "cell_type": "code",
      "metadata": {
        "id": "361ae81d"
      },
      "source": [
        "# FUNKCIJA ZA PREVERJANJE ALI JE POLIGON KONVEKSEN\n",
        "TWO_PI = 2 * math.pi\n",
        "\n",
        "def is_convex_polygon(polygon):\n",
        "    \"\"\"Return True if the polynomial defined by the sequence of 2D\n",
        "    points is 'strictly convex': points are valid, side lengths non-\n",
        "    zero, interior angles are strictly between zero and a straight\n",
        "    angle, and the polygon does not intersect itself.\n",
        "\n",
        "    NOTES:  1.  Algorithm: the signed changes of the direction angles\n",
        "                from one side to the next side must be all positive or\n",
        "                all negative, and their sum must equal plus-or-minus\n",
        "                one full turn (2 pi radians). Also check for too few,\n",
        "                invalid, or repeated points.\n",
        "            2.  No check is explicitly done for zero internal angles\n",
        "                (180 degree direction-change angle) as this is covered\n",
        "                in other ways, including the `n < 3` check.\n",
        "    \"\"\"\n",
        "    try:  # needed for any bad points or direction changes   # ce pride do errorja gre koda v except\n",
        "        # Check for too few points\n",
        "        if len(polygon) < 3:  # ce ni vsaj trikotnik\n",
        "            return False\n",
        "        # Get starting information\n",
        "        old_x, old_y = polygon[-2]  # predzadnji x in y iz polygon \n",
        "        new_x, new_y = polygon[-1]  # zadnji x in y iz polygon\n",
        "        new_direction = math.atan2(new_y - old_y, new_x - old_x)  # vrne arctg(new_y - old_y / new_x - old_x) v radijanih med pi in -pi \n",
        "        angle_sum = 0.0\n",
        "        # Check each point (the side ending there, its angle) and accum. angles\n",
        "        for ndx, newpoint in enumerate(polygon):  # ostevilcimo\n",
        "            # Update point coordinates and side directions, check side length\n",
        "            old_x, old_y, old_direction = new_x, new_y, new_direction\n",
        "            new_x, new_y = newpoint\n",
        "            new_direction = math.atan2(new_y - old_y, new_x - old_x)\n",
        "            if old_x == new_x and old_y == new_y:\n",
        "                return False  # ce je spet ista tocka ni ok\n",
        "            # Calculate & check the normalized direction-change angle\n",
        "            angle = new_direction - old_direction  # razlika dveh kotov\n",
        "            if angle <= -math.pi:  # ce je kot manjsi od -pi \n",
        "                angle += TWO_PI  # make it in half-open interval (-Pi, Pi]\n",
        "            elif angle > math.pi:\n",
        "                angle -= TWO_PI\n",
        "            if ndx == 0:  # if first time through loop, initialize orientation\n",
        "                if angle == 0.0:\n",
        "                    return False\n",
        "                orientation = 1.0 if angle > 0.0 else -1.0\n",
        "            else:  # if other time through loop, check orientation is stable\n",
        "                if orientation * angle <= 0.0:  # not both pos. or both neg.\n",
        "                    return False\n",
        "            # Accumulate the direction-change angle\n",
        "            angle_sum += angle\n",
        "        # Check that the total number of full turns is plus-or-minus 1\n",
        "        return abs(round(angle_sum / TWO_PI)) == 1\n",
        "    except (ArithmeticError, TypeError, ValueError):\n",
        "        return False  # any exception means not a proper convex polygon"
      ],
      "id": "361ae81d",
      "execution_count": 9,
      "outputs": []
    },
    {
      "cell_type": "code",
      "metadata": {
        "id": "b5643290"
      },
      "source": [
        "# FUNKCIJA ZA GENERIRANJE NAKLJUCNIH POLIGONOV\n",
        "def gen_rand_poly(n=3):\n",
        "    for i in range(1_000_000):\n",
        "        cords = np.random.rand(n, 2)  # matrika z n vrsticami in 2 stolpcema \n",
        "        u = np.argsort(np.arctan2(*cords.T))  # .T transponira koordinate, argsort vrne indekse ki bi uredili array\n",
        " \n",
        "        cords = cords[u, :]  # uredimo koordinate po velikosti\n",
        "        if is_convex_polygon(cords):\n",
        "            return Polygon(cords)  # ce je poligon konveksen \"izrise\" poligon"
      ],
      "id": "b5643290",
      "execution_count": 10,
      "outputs": []
    },
    {
      "cell_type": "code",
      "metadata": {
        "id": "7446f4d5"
      },
      "source": [
        "# IZRIS POLIGONOV\n",
        "def plot_polys(*args):\n",
        "    for i, poly in enumerate(args):\n",
        "        cords = np.array(poly.exterior.coords)[:-1, :]\n",
        "        plt.scatter(*cords.T, s=0)  # narise tocke\n",
        "        p = plt.Polygon(cords, color=get_cmap('Set1')(i), alpha=0.7)\n",
        "        plt.gca().add_patch(p)\n",
        "        plt.tick_params(bottom=False, left=False, labelleft=False, labelbottom=False)"
      ],
      "id": "7446f4d5",
      "execution_count": 11,
      "outputs": []
    },
    {
      "cell_type": "code",
      "metadata": {
        "colab": {
          "base_uri": "https://localhost:8080/",
          "height": 248
        },
        "id": "F5vTHGAeIINd",
        "outputId": "8884d596-ac3c-4f34-b0ab-95e2fc8315ac"
      },
      "source": [
        "# 3. primer\n",
        "poly1_3 = gen_rand_poly(5)\n",
        "poly2_3 = gen_rand_poly(8)\n",
        "\n",
        "plot_polys(poly1_3, poly2_3)"
      ],
      "id": "F5vTHGAeIINd",
      "execution_count": 12,
      "outputs": [
        {
          "output_type": "display_data",
          "data": {
            "image/png": "[encoded data removed]",
            "text/plain": [
              "<Figure size 432x288 with 1 Axes>"
            ]
          },
          "metadata": {}
        }
      ]
    },
    {
      "cell_type": "markdown",
      "metadata": {
        "id": "x-f44KxBI-9o"
      },
      "source": [
        "## Iskanje minimalnega premika"
      ],
      "id": "x-f44KxBI-9o"
    },
    {
      "cell_type": "markdown",
      "metadata": {
        "id": "gHs178tYINjH"
      },
      "source": [
        "Za iskanje minimalnega vodoravnega premika sestavimo funkcijo, ki omogoca premikanje poligonov na sliki."
      ],
      "id": "gHs178tYINjH"
    },
    {
      "cell_type": "code",
      "metadata": {
        "id": "1d7965d1"
      },
      "source": [
        "def move_polygon(poly, x):\n",
        "    cords = np.array(poly.exterior.coords)[:-1,:]  # koordinate oglisc zapise v np.array\n",
        "    cords[:, 0] += x  # vse x koordinate premakne za dani x\n",
        "    poly = Polygon(cords) \n",
        "    return poly  # vrne premaknen poligon"
      ],
      "id": "1d7965d1",
      "execution_count": 13,
      "outputs": []
    },
    {
      "cell_type": "code",
      "metadata": {
        "colab": {
          "base_uri": "https://localhost:8080/",
          "height": 312,
          "referenced_widgets": [
            "0c101750d7ca42df896e7c19d8c5eec5",
            "039a8256abeb437db4065a3b294b6024",
            "6d1e80f220074a78872692721a751f91",
            "39ded93195eb4792a41bf218eaf5bd47",
            "05a4941f857840199269a7be4295d1fd",
            "7756bedad70548eaacd8d1b59ccc2103",
            "d6bd9a2e7c2f46728b144f50e84c4886",
            "9e8b1d5f248d443d8da12783893c1a98",
            "6ee407a86aa84ef8ba64cab61311eae1",
            "7c84757058bf444e9cdef60cf0e48fe4"
          ]
        },
        "id": "813029c3",
        "scrolled": true,
        "outputId": "ff093bd3-8e92-4810-de70-2113c50c8e22"
      },
      "source": [
        "poligoni = {1: (poly1_1, poly2_1),\n",
        "            2: (poly1_2, poly2_2),\n",
        "            3: (poly1_3, poly2_3)}\n",
        "# FUNKCIJA, KI NAM OMOGOCA PREMIKANJE POLIGONOV S POMOCJO 'SLAJDERJA'.\n",
        "def move_windget_fun(x=0, nacin=3):\n",
        "    poly_slider_1, poly_slider_2 = poligoni[nacin]\n",
        "\n",
        "    fig, ax = plt.subplots()\n",
        "    \n",
        "    poly = move_polygon(poly_slider_1, x=x)\n",
        "    plot_polys(poly_slider_2, poly)\n",
        "    \n",
        "    dist = poly.distance(poly_slider_2)\n",
        "    txt = f'presek = 0.0000\\nrazdalja = {dist:.4f}'\n",
        "\n",
        "    if poly.intersects(poly_slider_2):\n",
        "        poly3 = poly.intersection(poly_slider_2)\n",
        "        p3 = plt.Polygon(poly3.exterior.coords, color=get_cmap('Set1')(2))\n",
        "        ax.add_patch(p3)\n",
        "        txt = f'presek = {poly3.area:.4f}\\nrazdalja = {dist:.4f}'\n",
        "    \n",
        "    ax.text(1,1,txt, transform=ax.transAxes, horizontalalignment='right', verticalalignment='top')\n",
        "    \n",
        "#     plt.xlim(-1, 1)\n",
        "#     plt.ylim(-1, 1)\n",
        "    plt.tick_params(bottom=False, left=False, labelleft=False, labelbottom=False)\n",
        "    \n",
        "    plt.show()\n",
        "\n",
        "widgets.interact(move_windget_fun, x=(-5, 5, 0.1), nacin=[1,2,3]);"
      ],
      "id": "813029c3",
      "execution_count": 14,
      "outputs": [
        {
          "output_type": "display_data",
          "data": {
            "application/vnd.jupyter.widget-view+json": {
              "model_id": "0c101750d7ca42df896e7c19d8c5eec5",
              "version_minor": 0,
              "version_major": 2
            },
            "text/plain": [
              "interactive(children=(FloatSlider(value=0.0, description='x', max=5.0, min=-5.0), Dropdown(description='nacin'…"
            ]
          },
          "metadata": {}
        }
      ]
    },
    {
      "cell_type": "markdown",
      "metadata": {
        "id": "KJRGrr2o9LEE"
      },
      "source": [
        "Zapiseva funkcijo, ki bo poiskala potreben minimalni premik rdečega poligona v smeri abcisne osi, da rdeč in moder poligon postaneta disjunkta."
      ],
      "id": "KJRGrr2o9LEE"
    },
    {
      "cell_type": "code",
      "metadata": {
        "id": "27e12e6d"
      },
      "source": [
        "def optimize_fun(x, poly1, poly2):\n",
        "    poly = move_polygon(poly1, x)\n",
        "    A = poly.intersection(poly2).area  # ploscina (npr. 0.010113566098373444)\n",
        "    d = poly.distance(poly2)  # ce se prekrivata\n",
        "    return A - d  # ko bosta poligona disjunktna se bo d poveceval in bo ta vrednost vedno manjsa, ko no A > 0 bo d enak nic, poiskati moramo ničlo te funkcije"
      ],
      "id": "27e12e6d",
      "execution_count": 15,
      "outputs": []
    },
    {
      "cell_type": "code",
      "metadata": {
        "colab": {
          "base_uri": "https://localhost:8080/",
          "height": 364,
          "referenced_widgets": [
            "0931f15f1078408b9ad3554c6072e9d0",
            "806e58b04a344cc295ef43c5537a4607",
            "16ba407d433d48afb92748e7f0ebeb4d",
            "f7c9e6fb49064de78c232c42053c7629",
            "1e8af4f7bb054f9b8581465c09dd7023",
            "34dd7ea4e28b4ad1bd59fcb145d5c10c",
            "34dcb475bc074ec19e825533ca71045c"
          ]
        },
        "id": "d24b6a36",
        "outputId": "5fb84ca9-dc8f-4b33-ec4b-ae4667172cc7"
      },
      "source": [
        "poligoni = {1: (poly1_1, poly2_1),\n",
        "            2: (poly1_2, poly2_2),\n",
        "            3: (poly1_3, poly2_3)}\n",
        "\n",
        "def widget_fun(nacin=3):\n",
        "    poly1, poly2 = poligoni[nacin]\n",
        "\n",
        "    # IZRIS GRAFA\n",
        "    xx = np.linspace(-5, 5, 100)\n",
        "    y = np.vectorize(optimize_fun)(xx, poly1, poly2)\n",
        "\n",
        "    fig, ax = plt.subplots(figsize=(6,4))\n",
        "    ax.axhline(0, c='k', ls='--', alpha=0.8)\n",
        "    ax.plot(xx, y)\n",
        "    ax.set_xlabel(\"razdalja od izhodišča\")\n",
        "    # ax.grid(ls='--')\n",
        "\n",
        "    # ISKANJE NIČEL - tj rdeči pikici na grafu\n",
        "    x1 = scipy.optimize.newton(optimize_fun, x0=0.5, args=(poly1, poly2))\n",
        "    ax.plot(x1, 0, 'ro')\n",
        "    ax.text(x1, 0, f'{x1:.4f}', fontsize=14, c='r')\n",
        "\n",
        "    x2 = scipy.optimize.newton(optimize_fun, x0=-0.5, args=(poly1, poly2))\n",
        "    ax.plot(x2, 0, 'ro')\n",
        "    ax.text(x2, 0, f'{x2:.4f}', fontsize=14, c='r', horizontalalignment='right')\n",
        "\n",
        "# ZA SHRANJEVANJE SLIKE ZA pdf\n",
        "#plt.savefig('funkcija.pdf', bbox_inches='tight')\n",
        "\n",
        "widgets.interact(widget_fun, nacin=[1,2,3]);\n"
      ],
      "id": "d24b6a36",
      "execution_count": 16,
      "outputs": [
        {
          "output_type": "display_data",
          "data": {
            "application/vnd.jupyter.widget-view+json": {
              "model_id": "0931f15f1078408b9ad3554c6072e9d0",
              "version_minor": 0,
              "version_major": 2
            },
            "text/plain": [
              "interactive(children=(Dropdown(description='nacin', index=2, options=(1, 2, 3), value=3), Output()), _dom_clas…"
            ]
          },
          "metadata": {}
        }
      ]
    },
    {
      "cell_type": "markdown",
      "metadata": {
        "id": "uB-9-jbUAWYQ"
      },
      "source": [
        "Izračun najmanjse ničle po absolutni vrednosti zgornje funkcije."
      ],
      "id": "uB-9-jbUAWYQ"
    },
    {
      "cell_type": "code",
      "metadata": {
        "id": "22c5f79b"
      },
      "source": [
        "def calc_min_distance(poly1, poly2):\n",
        "    min_dist_p = scipy.optimize.newton(optimize_fun, x0=0.5, args=(poly1, poly2))\n",
        "    min_dist_m = scipy.optimize.newton(optimize_fun, x0=-0.5, args=(poly1, poly2))\n",
        "\n",
        "    razdalje = np.array([min_dist_p, min_dist_m])\n",
        "    id_min = np.argmin(np.abs(razdalje))\n",
        "\n",
        "    return razdalje[id_min]"
      ],
      "id": "22c5f79b",
      "execution_count": 17,
      "outputs": []
    },
    {
      "cell_type": "code",
      "metadata": {
        "colab": {
          "base_uri": "https://localhost:8080/"
        },
        "id": "SrsYExXLRvWt",
        "outputId": "d551e672-8ac9-4114-d11e-41954f7a41c0"
      },
      "source": [
        "min_dist = calc_min_distance(poly1_3, poly2_3)\n",
        "print(f'Najmanjša razdalja za premik rdečega poligona je {min_dist:.10f}')"
      ],
      "id": "SrsYExXLRvWt",
      "execution_count": 18,
      "outputs": [
        {
          "output_type": "stream",
          "name": "stdout",
          "text": [
            "Najmanjša razdalja za premik rdečega poligona je 0.6098096057\n"
          ]
        }
      ]
    },
    {
      "cell_type": "code",
      "metadata": {
        "colab": {
          "base_uri": "https://localhost:8080/",
          "height": 296,
          "referenced_widgets": [
            "f3d3401e164c4460b3135631e539764f",
            "25979792eb194c79989526987c96e19b",
            "7b66a4feacd24c26881d7be48724d0d8",
            "6a79186d3c384638934a3effbdcd890b",
            "f5e2290404de4bcd8bb610207dfebaf1",
            "e75389c030a44018a74fc3ed83a47465",
            "0808614c2199413d86134f7b0df31627"
          ]
        },
        "id": "fmW6D_pKSRdS",
        "outputId": "4e4233db-bcc6-4c4e-925c-551604c2fcd4"
      },
      "source": [
        "poligoni = {1: (poly1_1, poly2_1),\n",
        "            2: (poly1_2, poly2_2),\n",
        "            3: (poly1_3, poly2_3)}\n",
        "# FUNKCIJA, KI NAM OMOGOCA PREMIKANJE POLIGONOV S POMOCJO 'SLAJDERJA'.\n",
        "def move_windget_fun(nacin=3):\n",
        "    poly_slider_1, poly_slider_2 = poligoni[nacin]\n",
        "\n",
        "    fig, ax = plt.subplots()\n",
        "    \n",
        "    plot_polys(poly_slider_1, poly_slider_2)\n",
        "    min_dist = calc_min_distance(poly_slider_1, poly_slider_2)\n",
        "    poly = move_polygon(poly_slider_1, x=min_dist)\n",
        "    plot_polys(poly)\n",
        "\n",
        "    plt.tick_params(bottom=False, left=False, labelleft=False, labelbottom=False)\n",
        "\n",
        "    plt.title(f'Najmanjša razdalja za premik rdečega poligona je {min_dist:.10f}')\n",
        "    \n",
        "    plt.show()\n",
        "\n",
        "widgets.interact(move_windget_fun, nacin=[1,2,3]);"
      ],
      "id": "fmW6D_pKSRdS",
      "execution_count": 19,
      "outputs": [
        {
          "output_type": "display_data",
          "data": {
            "application/vnd.jupyter.widget-view+json": {
              "model_id": "f3d3401e164c4460b3135631e539764f",
              "version_minor": 0,
              "version_major": 2
            },
            "text/plain": [
              "interactive(children=(Dropdown(description='nacin', index=2, options=(1, 2, 3), value=3), Output()), _dom_clas…"
            ]
          },
          "metadata": {}
        }
      ]
    },
    {
      "cell_type": "code",
      "metadata": {
        "id": "UE0ITjQCS1a1"
      },
      "source": [
        ""
      ],
      "id": "UE0ITjQCS1a1",
      "execution_count": 19,
      "outputs": []
    }
  ]
}