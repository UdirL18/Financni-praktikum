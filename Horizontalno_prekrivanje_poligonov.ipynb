{
  "nbformat": 4,
  "nbformat_minor": 5,
  "metadata": {
    "kernelspec": {
      "display_name": "Python 3 (ipykernel)",
      "language": "python",
      "name": "python3"
    },
    "language_info": {
      "codemirror_mode": {
        "name": "ipython",
        "version": 3
      },
      "file_extension": ".py",
      "mimetype": "text/x-python",
      "name": "python",
      "nbconvert_exporter": "python",
      "pygments_lexer": "ipython3",
      "version": "3.7.9"
    },
    "toc": {
      "base_numbering": 1,
      "nav_menu": {},
      "number_sections": true,
      "sideBar": true,
      "skip_h1_title": false,
      "title_cell": "Table of Contents",
      "title_sidebar": "Contents",
      "toc_cell": false,
      "toc_position": {},
      "toc_section_display": true,
      "toc_window_display": false
    },
    "colab": {
      "name": "Horizontalno_prekrivanje_poligonov.ipynb",
      "provenance": [],
      "collapsed_sections": [],
      "include_colab_link": true
    },
    "widgets": {
      "application/vnd.jupyter.widget-state+json": {
        "344a5e509add48829ca9766b5f76a7dc": {
          "model_module": "@jupyter-widgets/controls",
          "model_name": "VBoxModel",
          "model_module_version": "1.5.0",
          "state": {
            "_view_name": "VBoxView",
            "_dom_classes": [
              "widget-interact"
            ],
            "_model_name": "VBoxModel",
            "_view_module": "@jupyter-widgets/controls",
            "_model_module_version": "1.5.0",
            "_view_count": null,
            "_view_module_version": "1.5.0",
            "box_style": "",
            "layout": "IPY_MODEL_b5e85a051a62474eb817a9b3af169ab6",
            "_model_module": "@jupyter-widgets/controls",
            "children": [
              "IPY_MODEL_b91d6d4b466549e0bdf7856afa4825a8",
              "IPY_MODEL_b566399565ee4e4999a9d25992ab29f6"
            ]
          }
        },
        "b5e85a051a62474eb817a9b3af169ab6": {
          "model_module": "@jupyter-widgets/base",
          "model_name": "LayoutModel",
          "model_module_version": "1.2.0",
          "state": {
            "_view_name": "LayoutView",
            "grid_template_rows": null,
            "right": null,
            "justify_content": null,
            "_view_module": "@jupyter-widgets/base",
            "overflow": null,
            "_model_module_version": "1.2.0",
            "_view_count": null,
            "flex_flow": null,
            "width": null,
            "min_width": null,
            "border": null,
            "align_items": null,
            "bottom": null,
            "_model_module": "@jupyter-widgets/base",
            "top": null,
            "grid_column": null,
            "overflow_y": null,
            "overflow_x": null,
            "grid_auto_flow": null,
            "grid_area": null,
            "grid_template_columns": null,
            "flex": null,
            "_model_name": "LayoutModel",
            "justify_items": null,
            "grid_row": null,
            "max_height": null,
            "align_content": null,
            "visibility": null,
            "align_self": null,
            "height": null,
            "min_height": null,
            "padding": null,
            "grid_auto_rows": null,
            "grid_gap": null,
            "max_width": null,
            "order": null,
            "_view_module_version": "1.2.0",
            "grid_template_areas": null,
            "object_position": null,
            "object_fit": null,
            "grid_auto_columns": null,
            "margin": null,
            "display": null,
            "left": null
          }
        },
        "b91d6d4b466549e0bdf7856afa4825a8": {
          "model_module": "@jupyter-widgets/controls",
          "model_name": "FloatSliderModel",
          "model_module_version": "1.5.0",
          "state": {
            "_view_name": "FloatSliderView",
            "style": "IPY_MODEL_9994e999e8e64397a5b287cb1655a2a3",
            "_dom_classes": [],
            "description": "x",
            "step": 0.05,
            "_model_name": "FloatSliderModel",
            "orientation": "horizontal",
            "max": 1,
            "_view_module": "@jupyter-widgets/controls",
            "_model_module_version": "1.5.0",
            "value": 0,
            "_view_count": null,
            "disabled": false,
            "_view_module_version": "1.5.0",
            "min": -1,
            "continuous_update": true,
            "readout_format": ".2f",
            "description_tooltip": null,
            "readout": true,
            "_model_module": "@jupyter-widgets/controls",
            "layout": "IPY_MODEL_a7f85856e28b4eb59443c7e5d3bff1b6"
          }
        },
        "b566399565ee4e4999a9d25992ab29f6": {
          "model_module": "@jupyter-widgets/output",
          "model_name": "OutputModel",
          "model_module_version": "1.0.0",
          "state": {
            "_view_name": "OutputView",
            "msg_id": "",
            "_dom_classes": [],
            "_model_name": "OutputModel",
            "outputs": [
              {
                "output_type": "display_data",
                "data": {
                  "image/png": "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\n",
                  "text/plain": "<Figure size 432x288 with 1 Axes>"
                },
                "metadata": {}
              }
            ],
            "_view_module": "@jupyter-widgets/output",
            "_model_module_version": "1.0.0",
            "_view_count": null,
            "_view_module_version": "1.0.0",
            "layout": "IPY_MODEL_2cab1d99133444cd90ab003f442e0b91",
            "_model_module": "@jupyter-widgets/output"
          }
        },
        "9994e999e8e64397a5b287cb1655a2a3": {
          "model_module": "@jupyter-widgets/controls",
          "model_name": "SliderStyleModel",
          "model_module_version": "1.5.0",
          "state": {
            "_view_name": "StyleView",
            "handle_color": null,
            "_model_name": "SliderStyleModel",
            "description_width": "",
            "_view_module": "@jupyter-widgets/base",
            "_model_module_version": "1.5.0",
            "_view_count": null,
            "_view_module_version": "1.2.0",
            "_model_module": "@jupyter-widgets/controls"
          }
        },
        "a7f85856e28b4eb59443c7e5d3bff1b6": {
          "model_module": "@jupyter-widgets/base",
          "model_name": "LayoutModel",
          "model_module_version": "1.2.0",
          "state": {
            "_view_name": "LayoutView",
            "grid_template_rows": null,
            "right": null,
            "justify_content": null,
            "_view_module": "@jupyter-widgets/base",
            "overflow": null,
            "_model_module_version": "1.2.0",
            "_view_count": null,
            "flex_flow": null,
            "width": null,
            "min_width": null,
            "border": null,
            "align_items": null,
            "bottom": null,
            "_model_module": "@jupyter-widgets/base",
            "top": null,
            "grid_column": null,
            "overflow_y": null,
            "overflow_x": null,
            "grid_auto_flow": null,
            "grid_area": null,
            "grid_template_columns": null,
            "flex": null,
            "_model_name": "LayoutModel",
            "justify_items": null,
            "grid_row": null,
            "max_height": null,
            "align_content": null,
            "visibility": null,
            "align_self": null,
            "height": null,
            "min_height": null,
            "padding": null,
            "grid_auto_rows": null,
            "grid_gap": null,
            "max_width": null,
            "order": null,
            "_view_module_version": "1.2.0",
            "grid_template_areas": null,
            "object_position": null,
            "object_fit": null,
            "grid_auto_columns": null,
            "margin": null,
            "display": null,
            "left": null
          }
        },
        "2cab1d99133444cd90ab003f442e0b91": {
          "model_module": "@jupyter-widgets/base",
          "model_name": "LayoutModel",
          "model_module_version": "1.2.0",
          "state": {
            "_view_name": "LayoutView",
            "grid_template_rows": null,
            "right": null,
            "justify_content": null,
            "_view_module": "@jupyter-widgets/base",
            "overflow": null,
            "_model_module_version": "1.2.0",
            "_view_count": null,
            "flex_flow": null,
            "width": null,
            "min_width": null,
            "border": null,
            "align_items": null,
            "bottom": null,
            "_model_module": "@jupyter-widgets/base",
            "top": null,
            "grid_column": null,
            "overflow_y": null,
            "overflow_x": null,
            "grid_auto_flow": null,
            "grid_area": null,
            "grid_template_columns": null,
            "flex": null,
            "_model_name": "LayoutModel",
            "justify_items": null,
            "grid_row": null,
            "max_height": null,
            "align_content": null,
            "visibility": null,
            "align_self": null,
            "height": null,
            "min_height": null,
            "padding": null,
            "grid_auto_rows": null,
            "grid_gap": null,
            "max_width": null,
            "order": null,
            "_view_module_version": "1.2.0",
            "grid_template_areas": null,
            "object_position": null,
            "object_fit": null,
            "grid_auto_columns": null,
            "margin": null,
            "display": null,
            "left": null
          }
        },
        "ba980535c67b48b19d58e24f90d4c54d": {
          "model_module": "@jupyter-widgets/controls",
          "model_name": "VBoxModel",
          "model_module_version": "1.5.0",
          "state": {
            "_view_name": "VBoxView",
            "_dom_classes": [
              "widget-interact"
            ],
            "_model_name": "VBoxModel",
            "_view_module": "@jupyter-widgets/controls",
            "_model_module_version": "1.5.0",
            "_view_count": null,
            "_view_module_version": "1.5.0",
            "box_style": "",
            "layout": "IPY_MODEL_477cbb59a9754fd2968bce24a3322a0d",
            "_model_module": "@jupyter-widgets/controls",
            "children": [
              "IPY_MODEL_929709f2691b420780351f38fe63c1dc",
              "IPY_MODEL_c3349abc2107426eb488c5b34e8887a3"
            ]
          }
        },
        "477cbb59a9754fd2968bce24a3322a0d": {
          "model_module": "@jupyter-widgets/base",
          "model_name": "LayoutModel",
          "model_module_version": "1.2.0",
          "state": {
            "_view_name": "LayoutView",
            "grid_template_rows": null,
            "right": null,
            "justify_content": null,
            "_view_module": "@jupyter-widgets/base",
            "overflow": null,
            "_model_module_version": "1.2.0",
            "_view_count": null,
            "flex_flow": null,
            "width": null,
            "min_width": null,
            "border": null,
            "align_items": null,
            "bottom": null,
            "_model_module": "@jupyter-widgets/base",
            "top": null,
            "grid_column": null,
            "overflow_y": null,
            "overflow_x": null,
            "grid_auto_flow": null,
            "grid_area": null,
            "grid_template_columns": null,
            "flex": null,
            "_model_name": "LayoutModel",
            "justify_items": null,
            "grid_row": null,
            "max_height": null,
            "align_content": null,
            "visibility": null,
            "align_self": null,
            "height": null,
            "min_height": null,
            "padding": null,
            "grid_auto_rows": null,
            "grid_gap": null,
            "max_width": null,
            "order": null,
            "_view_module_version": "1.2.0",
            "grid_template_areas": null,
            "object_position": null,
            "object_fit": null,
            "grid_auto_columns": null,
            "margin": null,
            "display": null,
            "left": null
          }
        },
        "929709f2691b420780351f38fe63c1dc": {
          "model_module": "@jupyter-widgets/controls",
          "model_name": "FloatSliderModel",
          "model_module_version": "1.5.0",
          "state": {
            "_view_name": "FloatSliderView",
            "style": "IPY_MODEL_bac0affe9e53400590fdfc7ace6b2428",
            "_dom_classes": [],
            "description": "x",
            "step": 0.1,
            "_model_name": "FloatSliderModel",
            "orientation": "horizontal",
            "max": 2,
            "_view_module": "@jupyter-widgets/controls",
            "_model_module_version": "1.5.0",
            "value": 0.7,
            "_view_count": null,
            "disabled": false,
            "_view_module_version": "1.5.0",
            "min": -2,
            "continuous_update": true,
            "readout_format": ".2f",
            "description_tooltip": null,
            "readout": true,
            "_model_module": "@jupyter-widgets/controls",
            "layout": "IPY_MODEL_2688251b25e647c190cf0981332154b5"
          }
        },
        "c3349abc2107426eb488c5b34e8887a3": {
          "model_module": "@jupyter-widgets/output",
          "model_name": "OutputModel",
          "model_module_version": "1.0.0",
          "state": {
            "_view_name": "OutputView",
            "msg_id": "",
            "_dom_classes": [],
            "_model_name": "OutputModel",
            "outputs": [
              {
                "output_type": "display_data",
                "data": {
                  "image/png": "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\n",
                  "text/plain": "<Figure size 432x288 with 1 Axes>"
                },
                "metadata": {}
              }
            ],
            "_view_module": "@jupyter-widgets/output",
            "_model_module_version": "1.0.0",
            "_view_count": null,
            "_view_module_version": "1.0.0",
            "layout": "IPY_MODEL_be2501b64b104ba0870f36df1f01c336",
            "_model_module": "@jupyter-widgets/output"
          }
        },
        "bac0affe9e53400590fdfc7ace6b2428": {
          "model_module": "@jupyter-widgets/controls",
          "model_name": "SliderStyleModel",
          "model_module_version": "1.5.0",
          "state": {
            "_view_name": "StyleView",
            "handle_color": null,
            "_model_name": "SliderStyleModel",
            "description_width": "",
            "_view_module": "@jupyter-widgets/base",
            "_model_module_version": "1.5.0",
            "_view_count": null,
            "_view_module_version": "1.2.0",
            "_model_module": "@jupyter-widgets/controls"
          }
        },
        "2688251b25e647c190cf0981332154b5": {
          "model_module": "@jupyter-widgets/base",
          "model_name": "LayoutModel",
          "model_module_version": "1.2.0",
          "state": {
            "_view_name": "LayoutView",
            "grid_template_rows": null,
            "right": null,
            "justify_content": null,
            "_view_module": "@jupyter-widgets/base",
            "overflow": null,
            "_model_module_version": "1.2.0",
            "_view_count": null,
            "flex_flow": null,
            "width": null,
            "min_width": null,
            "border": null,
            "align_items": null,
            "bottom": null,
            "_model_module": "@jupyter-widgets/base",
            "top": null,
            "grid_column": null,
            "overflow_y": null,
            "overflow_x": null,
            "grid_auto_flow": null,
            "grid_area": null,
            "grid_template_columns": null,
            "flex": null,
            "_model_name": "LayoutModel",
            "justify_items": null,
            "grid_row": null,
            "max_height": null,
            "align_content": null,
            "visibility": null,
            "align_self": null,
            "height": null,
            "min_height": null,
            "padding": null,
            "grid_auto_rows": null,
            "grid_gap": null,
            "max_width": null,
            "order": null,
            "_view_module_version": "1.2.0",
            "grid_template_areas": null,
            "object_position": null,
            "object_fit": null,
            "grid_auto_columns": null,
            "margin": null,
            "display": null,
            "left": null
          }
        },
        "be2501b64b104ba0870f36df1f01c336": {
          "model_module": "@jupyter-widgets/base",
          "model_name": "LayoutModel",
          "model_module_version": "1.2.0",
          "state": {
            "_view_name": "LayoutView",
            "grid_template_rows": null,
            "right": null,
            "justify_content": null,
            "_view_module": "@jupyter-widgets/base",
            "overflow": null,
            "_model_module_version": "1.2.0",
            "_view_count": null,
            "flex_flow": null,
            "width": null,
            "min_width": null,
            "border": null,
            "align_items": null,
            "bottom": null,
            "_model_module": "@jupyter-widgets/base",
            "top": null,
            "grid_column": null,
            "overflow_y": null,
            "overflow_x": null,
            "grid_auto_flow": null,
            "grid_area": null,
            "grid_template_columns": null,
            "flex": null,
            "_model_name": "LayoutModel",
            "justify_items": null,
            "grid_row": null,
            "max_height": null,
            "align_content": null,
            "visibility": null,
            "align_self": null,
            "height": null,
            "min_height": null,
            "padding": null,
            "grid_auto_rows": null,
            "grid_gap": null,
            "max_width": null,
            "order": null,
            "_view_module_version": "1.2.0",
            "grid_template_areas": null,
            "object_position": null,
            "object_fit": null,
            "grid_auto_columns": null,
            "margin": null,
            "display": null,
            "left": null
          }
        }
      }
    }
  },
  "cells": [
    {
      "cell_type": "markdown",
      "metadata": {
        "id": "view-in-github",
        "colab_type": "text"
      },
      "source": [
        "<a href=\"https://colab.research.google.com/github/UdirL18/Horizontalno-prekrivanje-poligonov/blob/main/Horizontalno_prekrivanje_poligonov.ipynb\" target=\"_parent\"><img src=\"https://colab.research.google.com/assets/colab-badge.svg\" alt=\"Open In Colab\"/></a>"
      ]
    },
    {
      "cell_type": "markdown",
      "metadata": {
        "id": "yQkYH3kvCOGn"
      },
      "source": [
        "# **Horizontalno prekrivanje poligonov**"
      ],
      "id": "yQkYH3kvCOGn"
    },
    {
      "cell_type": "code",
      "metadata": {
        "ExecuteTime": {
          "end_time": "2021-11-03T21:15:03.631217Z",
          "start_time": "2021-11-03T21:15:02.868727Z"
        },
        "id": "ebf6e80d"
      },
      "source": [
        "import numpy as np\n",
        "import math\n",
        "import matplotlib.pyplot as plt\n",
        "from matplotlib.cm import get_cmap\n",
        "import ipywidgets as widgets\n",
        "from shapely.geometry import Polygon\n",
        "import scipy.optimize\n",
        "\n",
        "# plt.style.use('science')"
      ],
      "id": "ebf6e80d",
      "execution_count": 1,
      "outputs": []
    },
    {
      "cell_type": "markdown",
      "metadata": {
        "id": "4lZwjNCZES2p"
      },
      "source": [
        "Najprej poskusimo generirati problem na trikotnikih"
      ],
      "id": "4lZwjNCZES2p"
    },
    {
      "cell_type": "code",
      "metadata": {
        "id": "GgPIdMJg759D"
      },
      "source": [
        "#poly1 = Polygon(np.random.rand(3,2))  # np.random.rand(m,n) matrika mxn nakljucnih stevil\n",
        "#poly2 = Polygon(np.random.rand(3,2))  # Polygon \"izrise\" poligon z danimi koordinatami (3-kotnik, v 2D) \n",
        "\n",
        "#poly_inter = poly1.intersection(poly2)\n"
      ],
      "id": "GgPIdMJg759D",
      "execution_count": 2,
      "outputs": []
    },
    {
      "cell_type": "code",
      "metadata": {
        "ExecuteTime": {
          "end_time": "2021-11-03T21:15:03.756680Z",
          "start_time": "2021-11-03T21:15:03.632251Z"
        },
        "colab": {
          "base_uri": "https://localhost:8080/",
          "height": 248
        },
        "id": "4ee4c17d",
        "outputId": "0de944cf-8a3c-47dd-ab83-19dbcda08c09"
      },
      "source": [
        "# GENERIRANJE POLJUBNEGA 3-KOTNIKA V RAVNINI\n",
        "np.random.seed(9)  # zacetnja vrednost za generator nakljucnih stevil\n",
        "poly1 = Polygon(np.random.rand(3,2))  # np.random.rand(m,n) matrika mxn nakljucnih stevil\n",
        "poly2 = Polygon(np.random.rand(3,2))  # Polygon izrise poligon z danimi koordinatami (3-kotnik, v 2D) \n",
        "\n",
        "poly_inter = poly1.intersection(poly2)  # presek teh dveh poligonov -vrne koordinate preseka\n",
        "\n",
        "# GRAF\n",
        "p1 = plt.Polygon(poly1.exterior.coords, color='r')  # zapise tocke ogljisc, naredi poligon iz teh tock\n",
        "plt.gca().add_patch(p1)  # doda ta poligon na sliko\n",
        "\n",
        "p2 = plt.Polygon(poly2.exterior.coords, color='b')\n",
        "plt.gca().add_patch(p2)\n",
        "\n",
        "p3 = plt.Polygon(poly_inter.exterior.coords, color='g')\n",
        "plt.gca().add_patch(p3)\n",
        "\n",
        "plt.tick_params(bottom=False, left=False, labelleft=False, labelbottom=False)  # koordinatni sistem nima oznak"
      ],
      "id": "4ee4c17d",
      "execution_count": 3,
      "outputs": [
        {
          "output_type": "display_data",
          "data": {
            "image/png": "[encoded data removed]",
            "text/plain": [
              "<Figure size 432x288 with 1 Axes>"
            ]
          },
          "metadata": {}
        }
      ]
    },
    {
      "cell_type": "markdown",
      "metadata": {
        "id": "CdRdFBMcElNw"
      },
      "source": [
        "Trikotniki so vedno konveksni. Problem bi radi resevali za poljubne konveksne mnogokotnike. V ta namen moramo sestaviti funkcijo, ki bo preverila ali je poligon konveksen in funkcijo, ki bo zgenerirala taksen poligon."
      ],
      "id": "CdRdFBMcElNw"
    },
    {
      "cell_type": "code",
      "metadata": {
        "ExecuteTime": {
          "end_time": "2021-11-03T21:15:03.772642Z",
          "start_time": "2021-11-03T21:15:03.759677Z"
        },
        "id": "361ae81d"
      },
      "source": [
        "# FUNKCIJA ZA PREVERJANJE ALI JE POLIGON KONVEKSEN\n",
        "TWO_PI = 2 * math.pi\n",
        "\n",
        "def is_convex_polygon(polygon):\n",
        "    \"\"\"Return True if the polynomial defined by the sequence of 2D\n",
        "    points is 'strictly convex': points are valid, side lengths non-\n",
        "    zero, interior angles are strictly between zero and a straight\n",
        "    angle, and the polygon does not intersect itself.\n",
        "\n",
        "    NOTES:  1.  Algorithm: the signed changes of the direction angles\n",
        "                from one side to the next side must be all positive or\n",
        "                all negative, and their sum must equal plus-or-minus\n",
        "                one full turn (2 pi radians). Also check for too few,\n",
        "                invalid, or repeated points.\n",
        "            2.  No check is explicitly done for zero internal angles\n",
        "                (180 degree direction-change angle) as this is covered\n",
        "                in other ways, including the `n < 3` check.\n",
        "    \"\"\"\n",
        "    try:  # needed for any bad points or direction changes   # ce pride do errorja gre koda v except\n",
        "        # Check for too few points\n",
        "        if len(polygon) < 3:  # ce ni vsaj trikotnik\n",
        "            return False\n",
        "        # Get starting information\n",
        "        old_x, old_y = polygon[-2]  # predzadnji x in y iz polygon \n",
        "        new_x, new_y = polygon[-1]  # zadnji x in y iz polygon\n",
        "        new_direction = math.atan2(new_y - old_y, new_x - old_x)  # vrne arctg(new_y - old_y / new_x - old_x) v radijanih med pi in -pi \n",
        "        angle_sum = 0.0\n",
        "        # Check each point (the side ending there, its angle) and accum. angles\n",
        "        for ndx, newpoint in enumerate(polygon):  # ostevilcimo\n",
        "            # Update point coordinates and side directions, check side length\n",
        "            old_x, old_y, old_direction = new_x, new_y, new_direction\n",
        "            new_x, new_y = newpoint\n",
        "            new_direction = math.atan2(new_y - old_y, new_x - old_x)\n",
        "            if old_x == new_x and old_y == new_y:\n",
        "                return False  # ce je spet ista tocka ni ok\n",
        "            # Calculate & check the normalized direction-change angle\n",
        "            angle = new_direction - old_direction  # razlika dveh kotov\n",
        "            if angle <= -math.pi:  # ce je kot manjsi od -pi \n",
        "                angle += TWO_PI  # make it in half-open interval (-Pi, Pi]\n",
        "            elif angle > math.pi:\n",
        "                angle -= TWO_PI\n",
        "            if ndx == 0:  # if first time through loop, initialize orientation\n",
        "                if angle == 0.0:\n",
        "                    return False\n",
        "                orientation = 1.0 if angle > 0.0 else -1.0\n",
        "            else:  # if other time through loop, check orientation is stable\n",
        "                if orientation * angle <= 0.0:  # not both pos. or both neg.\n",
        "                    return False\n",
        "            # Accumulate the direction-change angle\n",
        "            angle_sum += angle\n",
        "        # Check that the total number of full turns is plus-or-minus 1\n",
        "        return abs(round(angle_sum / TWO_PI)) == 1\n",
        "    except (ArithmeticError, TypeError, ValueError):\n",
        "        return False  # any exception means not a proper convex polygon"
      ],
      "id": "361ae81d",
      "execution_count": 4,
      "outputs": []
    },
    {
      "cell_type": "code",
      "metadata": {
        "ExecuteTime": {
          "end_time": "2021-11-03T21:15:05.738790Z",
          "start_time": "2021-11-03T21:15:05.732783Z"
        },
        "id": "b5643290"
      },
      "source": [
        "# FUNKCIJA ZA GENERIRANJE NAKLJUCNIH POLIGONOV\n",
        "def gen_rand_poly(n=3):\n",
        "    for i in range(1_000_000):\n",
        "        cords = np.random.rand(n, 2)  # matrika z n vrsticami in 2 stolpcema \n",
        "        u = np.argsort(np.arctan2(*cords.T))  # .T transponira koordinate, argsort vrne indekse ki bi uredili array\n",
        " \n",
        "        cords = cords[u, :]  # uredimo koordinate po velikosti\n",
        "        if is_convex_polygon(cords):\n",
        "            return Polygon(cords)  # ce je poligon konveksen \"izrise\" poligon"
      ],
      "id": "b5643290",
      "execution_count": 5,
      "outputs": []
    },
    {
      "cell_type": "code",
      "metadata": {
        "ExecuteTime": {
          "end_time": "2021-11-03T21:15:06.610243Z",
          "start_time": "2021-11-03T21:15:06.599358Z"
        },
        "id": "7446f4d5"
      },
      "source": [
        "# IZRIS POLIGONOV\n",
        "def plot_polys(*args):\n",
        "    for i, poly in enumerate(args):\n",
        "        cords = np.array(poly.exterior.coords)[:-1, :]\n",
        "        plt.scatter(*cords.T, s=0)  # narise tocke\n",
        "        p = plt.Polygon(cords, color=get_cmap('Set1')(i), alpha=0.7)\n",
        "        plt.gca().add_patch(p)\n",
        "        plt.tick_params(bottom=False, left=False, labelleft=False, labelbottom=False)"
      ],
      "id": "7446f4d5",
      "execution_count": 6,
      "outputs": []
    },
    {
      "cell_type": "code",
      "metadata": {
        "ExecuteTime": {
          "end_time": "2021-11-03T21:15:07.841705Z",
          "start_time": "2021-11-03T21:15:07.683385Z"
        },
        "id": "f9a15c43"
      },
      "source": [
        "#plot_polys(poly1, poly2)  # takole narises dva poligona na isto sliko"
      ],
      "id": "f9a15c43",
      "execution_count": null,
      "outputs": []
    },
    {
      "cell_type": "markdown",
      "metadata": {
        "id": "gHs178tYINjH"
      },
      "source": [
        "Za iskanje minimalnega vodoravnega premika sestavimo funkcijo, ki omogoca premikanje poligonov na sliki."
      ],
      "id": "gHs178tYINjH"
    },
    {
      "cell_type": "code",
      "metadata": {
        "ExecuteTime": {
          "end_time": "2021-11-03T21:15:10.748025Z",
          "start_time": "2021-11-03T21:15:10.737998Z"
        },
        "id": "1d7965d1"
      },
      "source": [
        "def move_polygon(poly, x):\n",
        "    cords = np.array(poly.exterior.coords)[:-1,:]  # koordinate oglisc zapise v np.array\n",
        "    cords[:, 0] += x  # vse x koordinate premakne za dani x\n",
        "    poly = Polygon(cords) \n",
        "    return poly  # vrne premaknen poligon"
      ],
      "id": "1d7965d1",
      "execution_count": 7,
      "outputs": []
    },
    {
      "cell_type": "code",
      "metadata": {
        "ExecuteTime": {
          "end_time": "2021-11-03T21:15:11.440387Z",
          "start_time": "2021-11-03T21:15:11.225422Z"
        },
        "scrolled": true,
        "colab": {
          "base_uri": "https://localhost:8080/",
          "height": 280,
          "referenced_widgets": [
            "344a5e509add48829ca9766b5f76a7dc",
            "b5e85a051a62474eb817a9b3af169ab6",
            "b91d6d4b466549e0bdf7856afa4825a8",
            "b566399565ee4e4999a9d25992ab29f6",
            "9994e999e8e64397a5b287cb1655a2a3",
            "a7f85856e28b4eb59443c7e5d3bff1b6",
            "2cab1d99133444cd90ab003f442e0b91"
          ]
        },
        "id": "813029c3",
        "outputId": "083c62ea-f38d-4c8a-dd88-ab1450c5fe1c"
      },
      "source": [
        "p1 = plt.Polygon(poly1.exterior.coords, color='r')\n",
        "\n",
        "# FUNKCIJA, KI NAM OMOGOCA PREMIKANJE POLIGONOV S POMOCJO 'SLAJDERJA'.\n",
        "def move_windget_fun(x=0):\n",
        "    fig, ax = plt.subplots()\n",
        "    \n",
        "    poly = move_polygon(poly1, x=x)\n",
        "    plot_polys(poly, poly2)\n",
        "#     p1 = plt.Polygon(poly.exterior.coords, color='r')\n",
        "#     ax.add_patch(p1)\n",
        "    \n",
        "#     p2 = plt.Polygon(poly2.exterior.coords, color='g')\n",
        "#     ax.add_patch(p2)\n",
        "    \n",
        "    txt = f'A_intersect = 0.0000'\n",
        "\n",
        "    if poly.intersects(poly2):\n",
        "        poly3 = poly.intersection(poly2)\n",
        "        p3 = plt.Polygon(poly3.exterior.coords, color=get_cmap('Set1')(2))\n",
        "        ax.add_patch(p3)\n",
        "        txt = f'A_intersect = {poly3.area:.4f}'\n",
        "    \n",
        "    ax.text(1,1,txt, transform=ax.transAxes, horizontalalignment='right', verticalalignment='top')\n",
        "    \n",
        "#     plt.xlim(-1, 1)\n",
        "#     plt.ylim(-1, 1)\n",
        "    plt.tick_params(bottom=False, left=False, labelleft=False, labelbottom=False)\n",
        "    \n",
        "    plt.show()\n",
        "\n",
        "widgets.interact(move_windget_fun, x=(-1, 1, 0.05));"
      ],
      "id": "813029c3",
      "execution_count": 8,
      "outputs": [
        {
          "output_type": "display_data",
          "data": {
            "application/vnd.jupyter.widget-view+json": {
              "model_id": "344a5e509add48829ca9766b5f76a7dc",
              "version_minor": 0,
              "version_major": 2
            },
            "text/plain": [
              "interactive(children=(FloatSlider(value=0.0, description='x', max=1.0, min=-1.0, step=0.05), Output()), _dom_c…"
            ]
          },
          "metadata": {}
        }
      ]
    },
    {
      "cell_type": "markdown",
      "metadata": {
        "id": "KJRGrr2o9LEE"
      },
      "source": [
        "Zapiseva funkcijo, ki bo poiskala potreben minimalni premik rdečega poligona v smeri abcisne osi, da rdeč in moder poligon postaneta disjunkta."
      ],
      "id": "KJRGrr2o9LEE"
    },
    {
      "cell_type": "code",
      "metadata": {
        "ExecuteTime": {
          "end_time": "2021-11-03T21:15:17.727695Z",
          "start_time": "2021-11-03T21:15:17.717722Z"
        },
        "id": "27e12e6d"
      },
      "source": [
        "def min_dist_f(x, poly1, poly2):\n",
        "    poly = move_polygon(poly1, x)\n",
        "    A = poly.intersection(poly2).area  # ploscina (npr. 0.010113566098373444)\n",
        "    d = poly.distance(poly2)  # ce se prekrivata\n",
        "    return A - d  # ko bosta poligona disjunktna se bo d poveceval in bo ta vrednost vedno manjsa, ko no A > 0 bo d enak nic, poiskati moramo ničlo te funkcije"
      ],
      "id": "27e12e6d",
      "execution_count": 9,
      "outputs": []
    },
    {
      "cell_type": "code",
      "metadata": {
        "colab": {
          "base_uri": "https://localhost:8080/"
        },
        "id": "-185Ra7R8Rqq",
        "outputId": "613c9261-7be6-4aaa-9e87-a8230b6564cf"
      },
      "source": [
        "# IZRACUN NA ZACETNEM PRIMERU\n",
        "min_dist_f(0.1, poly1, poly2)\n",
        "# min_dist_f(-0.1, poly1, poly2)"
      ],
      "id": "-185Ra7R8Rqq",
      "execution_count": 11,
      "outputs": [
        {
          "output_type": "execute_result",
          "data": {
            "text/plain": [
              "0.02102339168383386"
            ]
          },
          "metadata": {},
          "execution_count": 11
        }
      ]
    },
    {
      "cell_type": "code",
      "metadata": {
        "ExecuteTime": {
          "end_time": "2021-11-03T21:15:18.258426Z",
          "start_time": "2021-11-03T21:15:18.097016Z"
        },
        "colab": {
          "base_uri": "https://localhost:8080/",
          "height": 332
        },
        "id": "d24b6a36",
        "outputId": "4150f0fe-16ee-4ad9-d542-0dda336200a1"
      },
      "source": [
        "# IZRIS GRAFA\n",
        "xx = np.linspace(-1, 1, 100)\n",
        "y = np.vectorize(min_dist_f)(xx, poly1, poly2)\n",
        "#plt.style.use(['science', 'notebook'])\n",
        "fig, ax = plt.subplots(figsize=(6,4))\n",
        "ax.axhline(0, c='k', ls='--', alpha=0.8)\n",
        "ax.plot(xx, y)\n",
        "ax.set_xlabel(\"razdalja od izhodišča\")\n",
        "# ax.grid(ls='--')\n",
        "\n",
        "# ISKANJE NIČEL - tj rdeči pikici na grafu\n",
        "x1 = scipy.optimize.newton(min_dist_f, x0=0.5, args=(poly1, poly2))\n",
        "ax.plot(x1, 0, 'ro')\n",
        "ax.text(x1, 0, f'{x1:.2f}', fontsize=15, c='r')\n",
        "\n",
        "x2 = scipy.optimize.newton(min_dist_f, x0=-0.5, args=(poly1, poly2))\n",
        "ax.plot(x2, 0, 'ro')\n",
        "ax.text(x2, 0, f'{x2:.2f}', fontsize=15, c='r', horizontalalignment='right')\n",
        "\n",
        "# ZA SHRANJEVANJE SLIKE ZA pdf\n",
        "#plt.savefig('funkcija.pdf', bbox_inches='tight')"
      ],
      "id": "d24b6a36",
      "execution_count": 13,
      "outputs": [
        {
          "output_type": "stream",
          "name": "stderr",
          "text": [
            "/usr/local/lib/python3.7/dist-packages/numpy/lib/function_base.py:2192: RuntimeWarning: overflow encountered in ? (vectorized)\n",
            "  outputs = ufunc(*inputs)\n"
          ]
        },
        {
          "output_type": "execute_result",
          "data": {
            "text/plain": [
              "Text(-0.13255216255988858, 0, '-0.13')"
            ]
          },
          "metadata": {},
          "execution_count": 13
        },
        {
          "output_type": "display_data",
          "data": {
            "image/png": "[encoded data removed]",
            "text/plain": [
              "<Figure size 432x288 with 1 Axes>"
            ]
          },
          "metadata": {
            "needs_background": "light"
          }
        }
      ]
    },
    {
      "cell_type": "markdown",
      "metadata": {
        "id": "uB-9-jbUAWYQ"
      },
      "source": [
        "Izračun najmanjse ničle po absolutni vrednosti zgornje funkcije."
      ],
      "id": "uB-9-jbUAWYQ"
    },
    {
      "cell_type": "code",
      "metadata": {
        "ExecuteTime": {
          "end_time": "2021-11-03T21:15:19.841267Z",
          "start_time": "2021-11-03T21:15:19.812939Z"
        },
        "colab": {
          "base_uri": "https://localhost:8080/"
        },
        "id": "22c5f79b",
        "outputId": "392683c9-8a07-4a36-dabc-d7eff9bbe758"
      },
      "source": [
        "min_dist = scipy.optimize.newton(min_dist_f, x0=1e-3, args=(poly1, poly2))\n",
        "\n",
        "print(f'Najmanjša razdalja za premik rdečega poligona je {min_dist:.4f}')"
      ],
      "id": "22c5f79b",
      "execution_count": 18,
      "outputs": [
        {
          "output_type": "stream",
          "name": "stdout",
          "text": [
            "Najmanjša razdalja za premik rdečega poligona je -0.4799\n"
          ]
        }
      ]
    },
    {
      "cell_type": "code",
      "metadata": {
        "ExecuteTime": {
          "end_time": "2021-11-03T21:15:20.745729Z",
          "start_time": "2021-11-03T21:15:20.441908Z"
        },
        "colab": {
          "base_uri": "https://localhost:8080/",
          "height": 280,
          "referenced_widgets": [
            "ba980535c67b48b19d58e24f90d4c54d",
            "477cbb59a9754fd2968bce24a3322a0d",
            "929709f2691b420780351f38fe63c1dc",
            "c3349abc2107426eb488c5b34e8887a3",
            "bac0affe9e53400590fdfc7ace6b2428",
            "2688251b25e647c190cf0981332154b5",
            "be2501b64b104ba0870f36df1f01c336"
          ]
        },
        "id": "0eb2c4a8",
        "outputId": "d5ca70ee-1526-400b-a2ef-820437c96477"
      },
      "source": [
        "# Primer\n",
        "poly1 = gen_rand_poly(n=6)\n",
        "poly2 = gen_rand_poly(n=9)\n",
        "\n",
        "widgets.interact(move_windget_fun, x=(-2, 2, 0.1));"
      ],
      "id": "0eb2c4a8",
      "execution_count": 15,
      "outputs": [
        {
          "output_type": "display_data",
          "data": {
            "application/vnd.jupyter.widget-view+json": {
              "model_id": "ba980535c67b48b19d58e24f90d4c54d",
              "version_minor": 0,
              "version_major": 2
            },
            "text/plain": [
              "interactive(children=(FloatSlider(value=0.0, description='x', max=2.0, min=-2.0), Output()), _dom_classes=('wi…"
            ]
          },
          "metadata": {}
        }
      ]
    },
    {
      "cell_type": "code",
      "metadata": {
        "ExecuteTime": {
          "end_time": "2021-11-03T21:15:29.060492Z",
          "start_time": "2021-11-03T21:15:29.046497Z"
        },
        "colab": {
          "base_uri": "https://localhost:8080/"
        },
        "id": "8723e29f",
        "outputId": "4dbc5f9a-95cf-411d-b16c-d2e3dae278d3"
      },
      "source": [
        "min_dist = scipy.optimize.newton(min_dist_f, x0=1e-3, args=(poly1, poly2))\n",
        "\n",
        "print(f'Najmanjša razdalja za premik rdečega poligona je {min_dist:.4f}')"
      ],
      "id": "8723e29f",
      "execution_count": 19,
      "outputs": [
        {
          "output_type": "stream",
          "name": "stdout",
          "text": [
            "Najmanjša razdalja za premik rdečega poligona je -0.4799\n"
          ]
        }
      ]
    },
    {
      "cell_type": "code",
      "metadata": {
        "id": "7bd30f0b",
        "colab": {
          "base_uri": "https://localhost:8080/",
          "height": 350
        },
        "outputId": "6cbb21e9-3b44-47aa-9744-3aec0b35781e"
      },
      "source": [
        "# Primer\n",
        "poly1 = gen_rand_poly(n=4)\n",
        "poly2 = gen_rand_poly(n=5)\n",
        "\n",
        "p1 = plt.Polygon(poly1.exterior.coords, color='tab:red', alpha=0.7, label='poligon 1')  # zapise tocke ogljisc, naredi poligon iz teh tock\n",
        "plt.gca().add_patch(p1)  # doda ta poligon na sliko\n",
        "\n",
        "p2 = plt.Polygon(poly2.exterior.coords, color='tab:blue', alpha=0.7, label='poligon 2')\n",
        "plt.gca().add_patch(p2)\n",
        "\n",
        "poly_inter = poly1.intersection(poly2)\n",
        "p3 = plt.Polygon(poly_inter.exterior.coords, color='tab:green', alpha=0.7, label='presek')\n",
        "plt.gca().add_patch(p3)\n",
        "\n",
        "plt.tick_params(which='both', bottom=False, left=False, top=False, right=False,  labelleft=False, labelbottom=False, axis='both')  # koordinatni sistem nima oznak\n",
        "plt.legend()\n",
        "plt.savefig('poligona.pdf', bbox_inches='tight')"
      ],
      "id": "7bd30f0b",
      "execution_count": null,
      "outputs": [
        {
          "output_type": "display_data",
          "data": {
            "image/png": "[encoded data removed]",
            "text/plain": [
              "<Figure size 576x432 with 1 Axes>"
            ]
          },
          "metadata": {}
        }
      ]
    },
    {
      "cell_type": "code",
      "metadata": {
        "id": "a8ef1b16"
      },
      "source": [
        ""
      ],
      "id": "a8ef1b16",
      "execution_count": null,
      "outputs": []
    }
  ]
}