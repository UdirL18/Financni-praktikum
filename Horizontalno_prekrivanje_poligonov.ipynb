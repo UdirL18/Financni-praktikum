{
  "nbformat": 4,
  "nbformat_minor": 5,
  "metadata": {
    "colab": {
      "name": "Horizontalno_prekrivanje_poligonov.ipynb",
      "provenance": [],
      "collapsed_sections": [],
      "include_colab_link": true
    },
    "kernelspec": {
      "display_name": "Python 3 (ipykernel)",
      "language": "python",
      "name": "python3"
    },
    "language_info": {
      "codemirror_mode": {
        "name": "ipython",
        "version": 3
      },
      "file_extension": ".py",
      "mimetype": "text/x-python",
      "name": "python",
      "nbconvert_exporter": "python",
      "pygments_lexer": "ipython3",
      "version": "3.7.9"
    },
    "toc": {
      "base_numbering": 1,
      "nav_menu": {},
      "number_sections": true,
      "sideBar": true,
      "skip_h1_title": false,
      "title_cell": "Table of Contents",
      "title_sidebar": "Contents",
      "toc_cell": false,
      "toc_position": {},
      "toc_section_display": true,
      "toc_window_display": false
    },
    "widgets": {
      "application/vnd.jupyter.widget-state+json": {
        "0b02cceab1a44e2d982c85887f065a0e": {
          "model_module": "@jupyter-widgets/controls",
          "model_name": "VBoxModel",
          "model_module_version": "1.5.0",
          "state": {
            "_view_name": "VBoxView",
            "_dom_classes": [
              "widget-interact"
            ],
            "_model_name": "VBoxModel",
            "_view_module": "@jupyter-widgets/controls",
            "_model_module_version": "1.5.0",
            "_view_count": null,
            "_view_module_version": "1.5.0",
            "box_style": "",
            "layout": "IPY_MODEL_16e6d5a8d5a0446c9f93572e2410d1e8",
            "_model_module": "@jupyter-widgets/controls",
            "children": [
              "IPY_MODEL_6a3e6bbdfeea48f4bc61ce06c301e01e",
              "IPY_MODEL_a0d6cee8d9b14422bcb6b356def4ebd5",
              "IPY_MODEL_c43c664027a441838fc5301693426350"
            ]
          }
        },
        "16e6d5a8d5a0446c9f93572e2410d1e8": {
          "model_module": "@jupyter-widgets/base",
          "model_name": "LayoutModel",
          "model_module_version": "1.2.0",
          "state": {
            "_view_name": "LayoutView",
            "grid_template_rows": null,
            "right": null,
            "justify_content": null,
            "_view_module": "@jupyter-widgets/base",
            "overflow": null,
            "_model_module_version": "1.2.0",
            "_view_count": null,
            "flex_flow": null,
            "width": null,
            "min_width": null,
            "border": null,
            "align_items": null,
            "bottom": null,
            "_model_module": "@jupyter-widgets/base",
            "top": null,
            "grid_column": null,
            "overflow_y": null,
            "overflow_x": null,
            "grid_auto_flow": null,
            "grid_area": null,
            "grid_template_columns": null,
            "flex": null,
            "_model_name": "LayoutModel",
            "justify_items": null,
            "grid_row": null,
            "max_height": null,
            "align_content": null,
            "visibility": null,
            "align_self": null,
            "height": null,
            "min_height": null,
            "padding": null,
            "grid_auto_rows": null,
            "grid_gap": null,
            "max_width": null,
            "order": null,
            "_view_module_version": "1.2.0",
            "grid_template_areas": null,
            "object_position": null,
            "object_fit": null,
            "grid_auto_columns": null,
            "margin": null,
            "display": null,
            "left": null
          }
        },
        "6a3e6bbdfeea48f4bc61ce06c301e01e": {
          "model_module": "@jupyter-widgets/controls",
          "model_name": "FloatSliderModel",
          "model_module_version": "1.5.0",
          "state": {
            "_view_name": "FloatSliderView",
            "style": "IPY_MODEL_a9c29af3d8334f71a13e032e8f42af61",
            "_dom_classes": [],
            "description": "x",
            "step": 0.1,
            "_model_name": "FloatSliderModel",
            "orientation": "horizontal",
            "max": 5,
            "_view_module": "@jupyter-widgets/controls",
            "_model_module_version": "1.5.0",
            "value": 0,
            "_view_count": null,
            "disabled": false,
            "_view_module_version": "1.5.0",
            "min": -5,
            "continuous_update": true,
            "readout_format": ".2f",
            "description_tooltip": null,
            "readout": true,
            "_model_module": "@jupyter-widgets/controls",
            "layout": "IPY_MODEL_1d1adae5917b453191bff2b3754d3e3a"
          }
        },
        "a0d6cee8d9b14422bcb6b356def4ebd5": {
          "model_module": "@jupyter-widgets/controls",
          "model_name": "DropdownModel",
          "model_module_version": "1.5.0",
          "state": {
            "_options_labels": [
              "1",
              "2",
              "3"
            ],
            "_view_name": "DropdownView",
            "style": "IPY_MODEL_f79e802b7bb54861a145d8eaac25dd79",
            "_dom_classes": [],
            "description": "nacin",
            "_model_name": "DropdownModel",
            "index": 2,
            "_view_module": "@jupyter-widgets/controls",
            "_model_module_version": "1.5.0",
            "_view_count": null,
            "disabled": false,
            "_view_module_version": "1.5.0",
            "description_tooltip": null,
            "_model_module": "@jupyter-widgets/controls",
            "layout": "IPY_MODEL_f91088d1985b458fb07d6c50a6a1de09"
          }
        },
        "c43c664027a441838fc5301693426350": {
          "model_module": "@jupyter-widgets/output",
          "model_name": "OutputModel",
          "model_module_version": "1.0.0",
          "state": {
            "_view_name": "OutputView",
            "msg_id": "",
            "_dom_classes": [],
            "_model_name": "OutputModel",
            "outputs": [
              {
                "output_type": "display_data",
                "data": {
                  "image/png": "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\n",
                  "text/plain": "<Figure size 432x288 with 1 Axes>"
                },
                "metadata": {}
              }
            ],
            "_view_module": "@jupyter-widgets/output",
            "_model_module_version": "1.0.0",
            "_view_count": null,
            "_view_module_version": "1.0.0",
            "layout": "IPY_MODEL_3f8101b6a5a543c4b4885933d45db6cd",
            "_model_module": "@jupyter-widgets/output"
          }
        },
        "a9c29af3d8334f71a13e032e8f42af61": {
          "model_module": "@jupyter-widgets/controls",
          "model_name": "SliderStyleModel",
          "model_module_version": "1.5.0",
          "state": {
            "_view_name": "StyleView",
            "handle_color": null,
            "_model_name": "SliderStyleModel",
            "description_width": "",
            "_view_module": "@jupyter-widgets/base",
            "_model_module_version": "1.5.0",
            "_view_count": null,
            "_view_module_version": "1.2.0",
            "_model_module": "@jupyter-widgets/controls"
          }
        },
        "1d1adae5917b453191bff2b3754d3e3a": {
          "model_module": "@jupyter-widgets/base",
          "model_name": "LayoutModel",
          "model_module_version": "1.2.0",
          "state": {
            "_view_name": "LayoutView",
            "grid_template_rows": null,
            "right": null,
            "justify_content": null,
            "_view_module": "@jupyter-widgets/base",
            "overflow": null,
            "_model_module_version": "1.2.0",
            "_view_count": null,
            "flex_flow": null,
            "width": null,
            "min_width": null,
            "border": null,
            "align_items": null,
            "bottom": null,
            "_model_module": "@jupyter-widgets/base",
            "top": null,
            "grid_column": null,
            "overflow_y": null,
            "overflow_x": null,
            "grid_auto_flow": null,
            "grid_area": null,
            "grid_template_columns": null,
            "flex": null,
            "_model_name": "LayoutModel",
            "justify_items": null,
            "grid_row": null,
            "max_height": null,
            "align_content": null,
            "visibility": null,
            "align_self": null,
            "height": null,
            "min_height": null,
            "padding": null,
            "grid_auto_rows": null,
            "grid_gap": null,
            "max_width": null,
            "order": null,
            "_view_module_version": "1.2.0",
            "grid_template_areas": null,
            "object_position": null,
            "object_fit": null,
            "grid_auto_columns": null,
            "margin": null,
            "display": null,
            "left": null
          }
        },
        "f79e802b7bb54861a145d8eaac25dd79": {
          "model_module": "@jupyter-widgets/controls",
          "model_name": "DescriptionStyleModel",
          "model_module_version": "1.5.0",
          "state": {
            "_view_name": "StyleView",
            "_model_name": "DescriptionStyleModel",
            "description_width": "",
            "_view_module": "@jupyter-widgets/base",
            "_model_module_version": "1.5.0",
            "_view_count": null,
            "_view_module_version": "1.2.0",
            "_model_module": "@jupyter-widgets/controls"
          }
        },
        "f91088d1985b458fb07d6c50a6a1de09": {
          "model_module": "@jupyter-widgets/base",
          "model_name": "LayoutModel",
          "model_module_version": "1.2.0",
          "state": {
            "_view_name": "LayoutView",
            "grid_template_rows": null,
            "right": null,
            "justify_content": null,
            "_view_module": "@jupyter-widgets/base",
            "overflow": null,
            "_model_module_version": "1.2.0",
            "_view_count": null,
            "flex_flow": null,
            "width": null,
            "min_width": null,
            "border": null,
            "align_items": null,
            "bottom": null,
            "_model_module": "@jupyter-widgets/base",
            "top": null,
            "grid_column": null,
            "overflow_y": null,
            "overflow_x": null,
            "grid_auto_flow": null,
            "grid_area": null,
            "grid_template_columns": null,
            "flex": null,
            "_model_name": "LayoutModel",
            "justify_items": null,
            "grid_row": null,
            "max_height": null,
            "align_content": null,
            "visibility": null,
            "align_self": null,
            "height": null,
            "min_height": null,
            "padding": null,
            "grid_auto_rows": null,
            "grid_gap": null,
            "max_width": null,
            "order": null,
            "_view_module_version": "1.2.0",
            "grid_template_areas": null,
            "object_position": null,
            "object_fit": null,
            "grid_auto_columns": null,
            "margin": null,
            "display": null,
            "left": null
          }
        },
        "3f8101b6a5a543c4b4885933d45db6cd": {
          "model_module": "@jupyter-widgets/base",
          "model_name": "LayoutModel",
          "model_module_version": "1.2.0",
          "state": {
            "_view_name": "LayoutView",
            "grid_template_rows": null,
            "right": null,
            "justify_content": null,
            "_view_module": "@jupyter-widgets/base",
            "overflow": null,
            "_model_module_version": "1.2.0",
            "_view_count": null,
            "flex_flow": null,
            "width": null,
            "min_width": null,
            "border": null,
            "align_items": null,
            "bottom": null,
            "_model_module": "@jupyter-widgets/base",
            "top": null,
            "grid_column": null,
            "overflow_y": null,
            "overflow_x": null,
            "grid_auto_flow": null,
            "grid_area": null,
            "grid_template_columns": null,
            "flex": null,
            "_model_name": "LayoutModel",
            "justify_items": null,
            "grid_row": null,
            "max_height": null,
            "align_content": null,
            "visibility": null,
            "align_self": null,
            "height": null,
            "min_height": null,
            "padding": null,
            "grid_auto_rows": null,
            "grid_gap": null,
            "max_width": null,
            "order": null,
            "_view_module_version": "1.2.0",
            "grid_template_areas": null,
            "object_position": null,
            "object_fit": null,
            "grid_auto_columns": null,
            "margin": null,
            "display": null,
            "left": null
          }
        },
        "99f1eadd04ea45f6bc68b67aad399eb9": {
          "model_module": "@jupyter-widgets/controls",
          "model_name": "VBoxModel",
          "model_module_version": "1.5.0",
          "state": {
            "_view_name": "VBoxView",
            "_dom_classes": [
              "widget-interact"
            ],
            "_model_name": "VBoxModel",
            "_view_module": "@jupyter-widgets/controls",
            "_model_module_version": "1.5.0",
            "_view_count": null,
            "_view_module_version": "1.5.0",
            "box_style": "",
            "layout": "IPY_MODEL_3373036ab62a43aeb760c40705f9d6fa",
            "_model_module": "@jupyter-widgets/controls",
            "children": [
              "IPY_MODEL_b553913f926d4d5eb2a6a9873212be75",
              "IPY_MODEL_23bb761e671a444892f59faf7404aeb4"
            ]
          }
        },
        "3373036ab62a43aeb760c40705f9d6fa": {
          "model_module": "@jupyter-widgets/base",
          "model_name": "LayoutModel",
          "model_module_version": "1.2.0",
          "state": {
            "_view_name": "LayoutView",
            "grid_template_rows": null,
            "right": null,
            "justify_content": null,
            "_view_module": "@jupyter-widgets/base",
            "overflow": null,
            "_model_module_version": "1.2.0",
            "_view_count": null,
            "flex_flow": null,
            "width": null,
            "min_width": null,
            "border": null,
            "align_items": null,
            "bottom": null,
            "_model_module": "@jupyter-widgets/base",
            "top": null,
            "grid_column": null,
            "overflow_y": null,
            "overflow_x": null,
            "grid_auto_flow": null,
            "grid_area": null,
            "grid_template_columns": null,
            "flex": null,
            "_model_name": "LayoutModel",
            "justify_items": null,
            "grid_row": null,
            "max_height": null,
            "align_content": null,
            "visibility": null,
            "align_self": null,
            "height": null,
            "min_height": null,
            "padding": null,
            "grid_auto_rows": null,
            "grid_gap": null,
            "max_width": null,
            "order": null,
            "_view_module_version": "1.2.0",
            "grid_template_areas": null,
            "object_position": null,
            "object_fit": null,
            "grid_auto_columns": null,
            "margin": null,
            "display": null,
            "left": null
          }
        },
        "b553913f926d4d5eb2a6a9873212be75": {
          "model_module": "@jupyter-widgets/controls",
          "model_name": "DropdownModel",
          "model_module_version": "1.5.0",
          "state": {
            "_options_labels": [
              "1",
              "2",
              "3"
            ],
            "_view_name": "DropdownView",
            "style": "IPY_MODEL_5cfff8b7fd8d4d90829fca1411fe2df9",
            "_dom_classes": [],
            "description": "nacin",
            "_model_name": "DropdownModel",
            "index": 0,
            "_view_module": "@jupyter-widgets/controls",
            "_model_module_version": "1.5.0",
            "_view_count": null,
            "disabled": false,
            "_view_module_version": "1.5.0",
            "description_tooltip": null,
            "_model_module": "@jupyter-widgets/controls",
            "layout": "IPY_MODEL_ae4269e6d96d4bfe9761de8a5ab46d81"
          }
        },
        "23bb761e671a444892f59faf7404aeb4": {
          "model_module": "@jupyter-widgets/output",
          "model_name": "OutputModel",
          "model_module_version": "1.0.0",
          "state": {
            "_view_name": "OutputView",
            "msg_id": "",
            "_dom_classes": [],
            "_model_name": "OutputModel",
            "outputs": [
              {
                "output_type": "stream",
                "name": "stderr",
                "text": [
                  "/usr/local/lib/python3.7/dist-packages/numpy/lib/function_base.py:2192: RuntimeWarning: overflow encountered in ? (vectorized)\n",
                  "  outputs = ufunc(*inputs)\n"
                ]
              },
              {
                "output_type": "display_data",
                "data": {
                  "image/png": "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\n",
                  "text/plain": "<Figure size 432x288 with 1 Axes>"
                },
                "metadata": {
                  "needs_background": "light"
                }
              }
            ],
            "_view_module": "@jupyter-widgets/output",
            "_model_module_version": "1.0.0",
            "_view_count": null,
            "_view_module_version": "1.0.0",
            "layout": "IPY_MODEL_ab850cc592db47f4a82db8323f9da2a2",
            "_model_module": "@jupyter-widgets/output"
          }
        },
        "5cfff8b7fd8d4d90829fca1411fe2df9": {
          "model_module": "@jupyter-widgets/controls",
          "model_name": "DescriptionStyleModel",
          "model_module_version": "1.5.0",
          "state": {
            "_view_name": "StyleView",
            "_model_name": "DescriptionStyleModel",
            "description_width": "",
            "_view_module": "@jupyter-widgets/base",
            "_model_module_version": "1.5.0",
            "_view_count": null,
            "_view_module_version": "1.2.0",
            "_model_module": "@jupyter-widgets/controls"
          }
        },
        "ae4269e6d96d4bfe9761de8a5ab46d81": {
          "model_module": "@jupyter-widgets/base",
          "model_name": "LayoutModel",
          "model_module_version": "1.2.0",
          "state": {
            "_view_name": "LayoutView",
            "grid_template_rows": null,
            "right": null,
            "justify_content": null,
            "_view_module": "@jupyter-widgets/base",
            "overflow": null,
            "_model_module_version": "1.2.0",
            "_view_count": null,
            "flex_flow": null,
            "width": null,
            "min_width": null,
            "border": null,
            "align_items": null,
            "bottom": null,
            "_model_module": "@jupyter-widgets/base",
            "top": null,
            "grid_column": null,
            "overflow_y": null,
            "overflow_x": null,
            "grid_auto_flow": null,
            "grid_area": null,
            "grid_template_columns": null,
            "flex": null,
            "_model_name": "LayoutModel",
            "justify_items": null,
            "grid_row": null,
            "max_height": null,
            "align_content": null,
            "visibility": null,
            "align_self": null,
            "height": null,
            "min_height": null,
            "padding": null,
            "grid_auto_rows": null,
            "grid_gap": null,
            "max_width": null,
            "order": null,
            "_view_module_version": "1.2.0",
            "grid_template_areas": null,
            "object_position": null,
            "object_fit": null,
            "grid_auto_columns": null,
            "margin": null,
            "display": null,
            "left": null
          }
        },
        "ab850cc592db47f4a82db8323f9da2a2": {
          "model_module": "@jupyter-widgets/base",
          "model_name": "LayoutModel",
          "model_module_version": "1.2.0",
          "state": {
            "_view_name": "LayoutView",
            "grid_template_rows": null,
            "right": null,
            "justify_content": null,
            "_view_module": "@jupyter-widgets/base",
            "overflow": null,
            "_model_module_version": "1.2.0",
            "_view_count": null,
            "flex_flow": null,
            "width": null,
            "min_width": null,
            "border": null,
            "align_items": null,
            "bottom": null,
            "_model_module": "@jupyter-widgets/base",
            "top": null,
            "grid_column": null,
            "overflow_y": null,
            "overflow_x": null,
            "grid_auto_flow": null,
            "grid_area": null,
            "grid_template_columns": null,
            "flex": null,
            "_model_name": "LayoutModel",
            "justify_items": null,
            "grid_row": null,
            "max_height": null,
            "align_content": null,
            "visibility": null,
            "align_self": null,
            "height": null,
            "min_height": null,
            "padding": null,
            "grid_auto_rows": null,
            "grid_gap": null,
            "max_width": null,
            "order": null,
            "_view_module_version": "1.2.0",
            "grid_template_areas": null,
            "object_position": null,
            "object_fit": null,
            "grid_auto_columns": null,
            "margin": null,
            "display": null,
            "left": null
          }
        },
        "4d59b6b67e29442db4638b5a1467a96f": {
          "model_module": "@jupyter-widgets/controls",
          "model_name": "VBoxModel",
          "model_module_version": "1.5.0",
          "state": {
            "_view_name": "VBoxView",
            "_dom_classes": [
              "widget-interact"
            ],
            "_model_name": "VBoxModel",
            "_view_module": "@jupyter-widgets/controls",
            "_model_module_version": "1.5.0",
            "_view_count": null,
            "_view_module_version": "1.5.0",
            "box_style": "",
            "layout": "IPY_MODEL_b58c45e58de640d0ac062f6045aa1e75",
            "_model_module": "@jupyter-widgets/controls",
            "children": [
              "IPY_MODEL_1f669e6786b24e3cbf4eddcb92d20589",
              "IPY_MODEL_1e1ba55b8cd741e28825e352b2a7f2bc"
            ]
          }
        },
        "b58c45e58de640d0ac062f6045aa1e75": {
          "model_module": "@jupyter-widgets/base",
          "model_name": "LayoutModel",
          "model_module_version": "1.2.0",
          "state": {
            "_view_name": "LayoutView",
            "grid_template_rows": null,
            "right": null,
            "justify_content": null,
            "_view_module": "@jupyter-widgets/base",
            "overflow": null,
            "_model_module_version": "1.2.0",
            "_view_count": null,
            "flex_flow": null,
            "width": null,
            "min_width": null,
            "border": null,
            "align_items": null,
            "bottom": null,
            "_model_module": "@jupyter-widgets/base",
            "top": null,
            "grid_column": null,
            "overflow_y": null,
            "overflow_x": null,
            "grid_auto_flow": null,
            "grid_area": null,
            "grid_template_columns": null,
            "flex": null,
            "_model_name": "LayoutModel",
            "justify_items": null,
            "grid_row": null,
            "max_height": null,
            "align_content": null,
            "visibility": null,
            "align_self": null,
            "height": null,
            "min_height": null,
            "padding": null,
            "grid_auto_rows": null,
            "grid_gap": null,
            "max_width": null,
            "order": null,
            "_view_module_version": "1.2.0",
            "grid_template_areas": null,
            "object_position": null,
            "object_fit": null,
            "grid_auto_columns": null,
            "margin": null,
            "display": null,
            "left": null
          }
        },
        "1f669e6786b24e3cbf4eddcb92d20589": {
          "model_module": "@jupyter-widgets/controls",
          "model_name": "DropdownModel",
          "model_module_version": "1.5.0",
          "state": {
            "_options_labels": [
              "1",
              "2",
              "3"
            ],
            "_view_name": "DropdownView",
            "style": "IPY_MODEL_8054deeedd794a588ac1439e843a4a1a",
            "_dom_classes": [],
            "description": "nacin",
            "_model_name": "DropdownModel",
            "index": 0,
            "_view_module": "@jupyter-widgets/controls",
            "_model_module_version": "1.5.0",
            "_view_count": null,
            "disabled": false,
            "_view_module_version": "1.5.0",
            "description_tooltip": null,
            "_model_module": "@jupyter-widgets/controls",
            "layout": "IPY_MODEL_3521a38d9198418b9a52949959bed373"
          }
        },
        "1e1ba55b8cd741e28825e352b2a7f2bc": {
          "model_module": "@jupyter-widgets/output",
          "model_name": "OutputModel",
          "model_module_version": "1.0.0",
          "state": {
            "_view_name": "OutputView",
            "msg_id": "",
            "_dom_classes": [],
            "_model_name": "OutputModel",
            "outputs": [
              {
                "output_type": "display_data",
                "data": {
                  "image/png": "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\n",
                  "text/plain": "<Figure size 432x288 with 1 Axes>"
                },
                "metadata": {}
              }
            ],
            "_view_module": "@jupyter-widgets/output",
            "_model_module_version": "1.0.0",
            "_view_count": null,
            "_view_module_version": "1.0.0",
            "layout": "IPY_MODEL_faf9ef7ead584f9ca6ca596ff40f5405",
            "_model_module": "@jupyter-widgets/output"
          }
        },
        "8054deeedd794a588ac1439e843a4a1a": {
          "model_module": "@jupyter-widgets/controls",
          "model_name": "DescriptionStyleModel",
          "model_module_version": "1.5.0",
          "state": {
            "_view_name": "StyleView",
            "_model_name": "DescriptionStyleModel",
            "description_width": "",
            "_view_module": "@jupyter-widgets/base",
            "_model_module_version": "1.5.0",
            "_view_count": null,
            "_view_module_version": "1.2.0",
            "_model_module": "@jupyter-widgets/controls"
          }
        },
        "3521a38d9198418b9a52949959bed373": {
          "model_module": "@jupyter-widgets/base",
          "model_name": "LayoutModel",
          "model_module_version": "1.2.0",
          "state": {
            "_view_name": "LayoutView",
            "grid_template_rows": null,
            "right": null,
            "justify_content": null,
            "_view_module": "@jupyter-widgets/base",
            "overflow": null,
            "_model_module_version": "1.2.0",
            "_view_count": null,
            "flex_flow": null,
            "width": null,
            "min_width": null,
            "border": null,
            "align_items": null,
            "bottom": null,
            "_model_module": "@jupyter-widgets/base",
            "top": null,
            "grid_column": null,
            "overflow_y": null,
            "overflow_x": null,
            "grid_auto_flow": null,
            "grid_area": null,
            "grid_template_columns": null,
            "flex": null,
            "_model_name": "LayoutModel",
            "justify_items": null,
            "grid_row": null,
            "max_height": null,
            "align_content": null,
            "visibility": null,
            "align_self": null,
            "height": null,
            "min_height": null,
            "padding": null,
            "grid_auto_rows": null,
            "grid_gap": null,
            "max_width": null,
            "order": null,
            "_view_module_version": "1.2.0",
            "grid_template_areas": null,
            "object_position": null,
            "object_fit": null,
            "grid_auto_columns": null,
            "margin": null,
            "display": null,
            "left": null
          }
        },
        "faf9ef7ead584f9ca6ca596ff40f5405": {
          "model_module": "@jupyter-widgets/base",
          "model_name": "LayoutModel",
          "model_module_version": "1.2.0",
          "state": {
            "_view_name": "LayoutView",
            "grid_template_rows": null,
            "right": null,
            "justify_content": null,
            "_view_module": "@jupyter-widgets/base",
            "overflow": null,
            "_model_module_version": "1.2.0",
            "_view_count": null,
            "flex_flow": null,
            "width": null,
            "min_width": null,
            "border": null,
            "align_items": null,
            "bottom": null,
            "_model_module": "@jupyter-widgets/base",
            "top": null,
            "grid_column": null,
            "overflow_y": null,
            "overflow_x": null,
            "grid_auto_flow": null,
            "grid_area": null,
            "grid_template_columns": null,
            "flex": null,
            "_model_name": "LayoutModel",
            "justify_items": null,
            "grid_row": null,
            "max_height": null,
            "align_content": null,
            "visibility": null,
            "align_self": null,
            "height": null,
            "min_height": null,
            "padding": null,
            "grid_auto_rows": null,
            "grid_gap": null,
            "max_width": null,
            "order": null,
            "_view_module_version": "1.2.0",
            "grid_template_areas": null,
            "object_position": null,
            "object_fit": null,
            "grid_auto_columns": null,
            "margin": null,
            "display": null,
            "left": null
          }
        }
      }
    }
  },
  "cells": [
    {
      "cell_type": "markdown",
      "metadata": {
        "id": "view-in-github",
        "colab_type": "text"
      },
      "source": [
        "<a href=\"https://colab.research.google.com/github/UdirL18/Horizontalno-prekrivanje-poligonov/blob/main/Horizontalno_prekrivanje_poligonov.ipynb\" target=\"_parent\"><img src=\"https://colab.research.google.com/assets/colab-badge.svg\" alt=\"Open In Colab\"/></a>"
      ]
    },
    {
      "cell_type": "markdown",
      "metadata": {
        "id": "yQkYH3kvCOGn"
      },
      "source": [
        "# **Horizontalno prekrivanje poligonov**"
      ],
      "id": "yQkYH3kvCOGn"
    },
    {
      "cell_type": "markdown",
      "source": [
        "**Navodilo** : Generiraj moder in rdeč konveksen poligon v ravnini ter zapiši program, ki poišče potreben minimalni horizontalni premik enega izmed teh dveh poligonov, da postaneta disjunktna."
      ],
      "metadata": {
        "id": "bK1F44G9AW3w"
      },
      "id": "bK1F44G9AW3w"
    },
    {
      "cell_type": "code",
      "metadata": {
        "id": "ebf6e80d"
      },
      "source": [
        "import numpy as np  \n",
        "import math\n",
        "import matplotlib.pyplot as plt\n",
        "from matplotlib.cm import get_cmap  # za barve na grafih\n",
        "import ipywidgets as widgets\n",
        "from shapely.geometry import Polygon\n",
        "import scipy.optimize \n",
        "import random\n",
        "from math import atan2  #-pi/2 pi/2\n",
        "from scipy.spatial import ConvexHull, convex_hull_plot_2d\n",
        "\n",
        "# plt.style.use('science')"
      ],
      "id": "ebf6e80d",
      "execution_count": 1,
      "outputs": []
    },
    {
      "cell_type": "markdown",
      "metadata": {
        "id": "4lZwjNCZES2p"
      },
      "source": [
        "Za generiranje poligonov bova uporabila tri metode."
      ],
      "id": "4lZwjNCZES2p"
    },
    {
      "cell_type": "markdown",
      "metadata": {
        "id": "7QtawwOhASdC"
      },
      "source": [
        "## 1. način\n",
        "\n"
      ],
      "id": "7QtawwOhASdC"
    },
    {
      "cell_type": "markdown",
      "source": [
        "Algoritem generira konveksne poligone s casovno zahtevnostjo O(N log(N))\n",
        "in je zato prmeren tudi za generiranje poligonov z velikim stevilom kotov (1000,\n",
        "10000, itd.).\n",
        "*  Algoritem generira dva seznama xs in ys z N nakljucnimi celimi stevili med 0 in konstanto C.\n",
        "*  Razvrsti xs in ys po velikosti in si zapomni najmanjsa in najvecja elementa.\n",
        "* Ostale elemente nakljucno razdeli na dva nova seznama x1, x2 in y1, y2, s\n",
        "pomocjo funkcije to_vectors_coordinates .\n",
        "* Vsakemu izmed teh seznamom dodamo pripadajoci minimalni in maksimalni\n",
        "element.\n",
        "* Poisce zaporedne razlike x1[i + 1]- x1[i], ter obratno za drugi seznam x2[i]-\n",
        "x2[i + 1]. Te dva seznama shrani v nova seznama.\n",
        "* Iz novih seznamov naredi vectors_xs in vectors ys in premesa vectors_ys.\n",
        "* Uredi vektorje po kotu oziroma smeri.\n",
        "* Premakne poligon nazaj na prvotne koordinate."
      ],
      "metadata": {
        "id": "s8eadjdEBVGd"
      },
      "id": "s8eadjdEBVGd"
    },
    {
      "cell_type": "code",
      "metadata": {
        "id": "O7dmG7tVtqz4"
      },
      "source": [
        "def to_convex_contour(vertices_count,  # povem koliko N kotnik zelim\n",
        "                      x_generator=random.random,  # enakomerno porazdeljene tocke med 0 in 1\n",
        "                      y_generator=random.random):\n",
        "\n",
        "    xs = [x_generator() for _ in range(vertices_count)]  # seznam random tock velikosti vertices_count\n",
        "    ys = [y_generator() for _ in range(vertices_count)]  # za 3 kotnik imam v tem seznamu 3 točke\n",
        "    xs = sorted(xs)  # sortiramo po velikosti\n",
        "    ys = sorted(ys)\n",
        "    min_x, *xs, max_x = xs  # vzamemo najmanšega, vse vmes in največjega\n",
        "    min_y, *ys, max_y = ys\n",
        "    vectors_xs = _to_vectors_coordinates(xs, min_x, max_x)  # to je seznam koordinat\n",
        "    vectors_ys = _to_vectors_coordinates(ys, min_y, max_y)\n",
        "    random.shuffle(vectors_ys)  # random premešamo y koordinate\n",
        "\n",
        "    def to_vector_angle(vector):  # vrne polarni kot med x in y koordinato vektorja\n",
        "        x, y = vector\n",
        "        return atan2(y, x)\n",
        "\n",
        "    vectors = sorted(zip(vectors_xs, vectors_ys),  # naredimo vektorje [(x1,y1), (x2,y2),...]\n",
        "                     key=to_vector_angle)  # uredi od najmanjšega do največjega kota\n",
        "    point_x = point_y = 0  # za seštevanje x koordinat poligona, in y koordinat\n",
        "    min_polygon_x = min_polygon_y = 0   # sledi minimalni koordinati\n",
        "    points = []\n",
        "    for vector_x, vector_y in vectors:\n",
        "        points.append((point_x, point_y))\n",
        "        point_x += vector_x\n",
        "        point_y += vector_y\n",
        "        min_polygon_x = min(min_polygon_x, point_x)  # ali je dobljena point_x manjši od trenutnega min \"update minimuma\"\n",
        "        min_polygon_y = min(min_polygon_y, point_y)\n",
        "    shift_x, shift_y = min_x - min_polygon_x, min_y - min_polygon_y #izven zanke\n",
        "    return [(point_x + shift_x, point_y + shift_y)  # premakniti ga moramo ker bi se lahko zgodilo da lik ne bi bil več v prostoru med 0 in 1 \n",
        "            for point_x, point_y in points]\n",
        "\n",
        "# zakaj tako dela piše v članku\n",
        "def _to_vectors_coordinates(coordinates, min_coordinate, max_coordinate):\n",
        "    last_min = last_max = min_coordinate  # najprej je minimalna in maximalna koordinata enaka minimalni koorfinati\n",
        "    result = []  # pripravimo seznam v katerega bomo dodaajali koordinate\n",
        "    for coordinate in coordinates:\n",
        "        if _to_random_boolean():  # random 1 ali 0, T ali F. Če je 1, seznamu result doda kordinato - najmanjso\n",
        "            result.append(coordinate - last_min)\n",
        "            last_min = coordinate  # nova najmanjsa koordinata je ta koordinata\n",
        "        else:\n",
        "            result.append(last_max - coordinate)  # od maximalne koordinate odštejemo koordinato po kateri sedaj iteriramo\n",
        "            last_max = coordinate  # nova najvecja koordinata je ta koordinata\n",
        "    result.extend((max_coordinate - last_min,  # ko se for zanka konca, seznamu result dodamo še max koordinato ki smo jo podali funkciji - last_min, ki smo jo dobili ce je random 1. Druga točka: last_max (če je random 0) - max_coordinate\n",
        "                   last_max - max_coordinate))\n",
        "    return result  # vrne seznam \n",
        "\n",
        "\n",
        "def _to_random_boolean():\n",
        "    return random.getrandbits(1)  # random vrne 1 ali 0"
      ],
      "id": "O7dmG7tVtqz4",
      "execution_count": 2,
      "outputs": []
    },
    {
      "cell_type": "code",
      "metadata": {
        "id": "LmKj1V08t-8J"
      },
      "source": [
        "#1. primer: 1000 in 10000 kotnik\n",
        "poly1_1 = Polygon(to_convex_contour(1000))  # sprejme list tuple x,y koordinat točk  [(,), (,), ...], dobim objekt\n",
        "poly2_1 = Polygon(to_convex_contour(10000))"
      ],
      "id": "LmKj1V08t-8J",
      "execution_count": 3,
      "outputs": []
    },
    {
      "cell_type": "code",
      "metadata": {
        "colab": {
          "base_uri": "https://localhost:8080/",
          "height": 282
        },
        "id": "bm9Pndm_txAv",
        "outputId": "20613c87-2dbf-46dc-dda2-5dcbc862595c"
      },
      "source": [
        "# Izrisane generirane random tocke (1000 stranega konveksnega poligona)\n",
        "# izrise nov poligon ne tistega od zgoraj\n",
        "x, y = np.array(to_convex_contour(100)).T  # np.array spremeni v \"matriko - array\" in nato jo transponiramo da dobimo \"vrstici\" x in y (da jo lazje razpakiramo na x in y)\n",
        "x = np.append(x, x[0])  # da se zanji poveze s prvim \n",
        "y = np.append(y, y[0])\n",
        "#plt.savefig('nacin_1.pdf', bbox_inches='tight') \n",
        "\n",
        "plt.plot(x,y, '.-') \n",
        "#plt.savefig('nacin_1.pdf', bbox_inches='tight')"
      ],
      "id": "bm9Pndm_txAv",
      "execution_count": 4,
      "outputs": [
        {
          "output_type": "execute_result",
          "data": {
            "text/plain": [
              "[<matplotlib.lines.Line2D at 0x7fa6c67acd10>]"
            ]
          },
          "metadata": {},
          "execution_count": 4
        },
        {
          "output_type": "display_data",
          "data": {
            "image/png": "[encoded data removed]",
            "text/plain": [
              "<Figure size 432x288 with 1 Axes>"
            ]
          },
          "metadata": {
            "needs_background": "light"
          }
        }
      ]
    },
    {
      "cell_type": "markdown",
      "metadata": {
        "id": "9KUPGlq_wRoe"
      },
      "source": [
        "## 2. način generiraja - s pomočjo konveksne ovojnice."
      ],
      "id": "9KUPGlq_wRoe"
    },
    {
      "cell_type": "markdown",
      "source": [
        "S pomocjo knjiznice scipy.spatial in funkcije ConvexHull sva generirala\n",
        "konveksno ovojnico za podano stevilo tock. Casovna zahtevnost algoritma je O(N log(N)).\n",
        "* Za zacetno tocko izberemo tisto izmed generiranih tock, ki ima najmanjso y\n",
        "koordinato, ce je takih tock vec, izberemo tisto, ki ima najmanjso x koordinato.\n",
        "* Skozi zacetno tocko in vse ostale tocke naredimo vektorje in izracunamo smer\n",
        "vektorja.\n",
        "* Vektorje uredimo po velikosti in sicer od 0 do -inf ter od inf do 0.\n",
        "* Naredimo pregled treh tock v negativni smeri. Ce te tri tocke predstavljajo\n",
        "desni obrat, kar pomeni da je kot med temi tremi tockami med pi in 2pi, se\n",
        "premaknemo naprej, sicer izlocimo srednjo tocko."
      ],
      "metadata": {
        "id": "Ycx2Rx58Cah4"
      },
      "id": "Ycx2Rx58Cah4"
    },
    {
      "cell_type": "code",
      "metadata": {
        "id": "9PwUFOVosK8A"
      },
      "source": [
        "points = np.random.randn(1000, 2)   # 1000 random points normalno porazdaljene in 2-D\n",
        "hull = ConvexHull(points)  "
      ],
      "id": "9PwUFOVosK8A",
      "execution_count": 5,
      "outputs": []
    },
    {
      "cell_type": "code",
      "metadata": {
        "colab": {
          "base_uri": "https://localhost:8080/",
          "height": 266
        },
        "id": "SBXSeLTIsQMg",
        "outputId": "d50ab0de-37aa-4df4-ecaf-122fe979f36e"
      },
      "source": [
        "plt.plot(points[:,0], points[:,1], 'o')  # [:,0] vzemi vse vrstice in prvi stolpec\n",
        "for simplex in hull.simplices:  # iterira po robnih točkah ovojnice \n",
        "    plt.plot(points[simplex, 0], points[simplex, 1], 'k-')\n",
        "\n",
        "# ZA SHRANJEVANJE SLIKE ZA pdf\n",
        "#plt.savefig('nacin_2.pdf', bbox_inches='tight')    "
      ],
      "id": "SBXSeLTIsQMg",
      "execution_count": 6,
      "outputs": [
        {
          "output_type": "display_data",
          "data": {
            "image/png": "[encoded data removed]",
            "text/plain": [
              "<Figure size 432x288 with 1 Axes>"
            ]
          },
          "metadata": {
            "needs_background": "light"
          }
        }
      ]
    },
    {
      "cell_type": "code",
      "metadata": {
        "id": "_j1Ciz4QBcyu"
      },
      "source": [
        "# 2. primer  #KAJ JE RAZLIKA MED VERTICES IN SIMPLICES\n",
        "points = np.random.randn(1000, 2)   # 1000 random points normalno porazdaljene in 2-D\n",
        "hull = ConvexHull(points)\n",
        "poly1_2 = Polygon(points[hull.vertices,:])  # vzamemo le vrstice z robnimi točkami\n",
        "\n",
        "points = np.random.randn(100, 2)   # 1000 random points normalno porazdaljene in 2-D\n",
        "hull = ConvexHull(points)\n",
        "poly2_2 = Polygon(points[hull.vertices,:])"
      ],
      "id": "_j1Ciz4QBcyu",
      "execution_count": 7,
      "outputs": []
    },
    {
      "cell_type": "markdown",
      "metadata": {
        "id": "A5HHMkivGm9N"
      },
      "source": [
        "## 3. način - počasna za velike n-je (na roke implementirana metoda)"
      ],
      "id": "A5HHMkivGm9N"
    },
    {
      "cell_type": "code",
      "metadata": {
        "colab": {
          "base_uri": "https://localhost:8080/",
          "height": 248
        },
        "id": "4ee4c17d",
        "outputId": "75182e4c-9ffc-4ee5-aa34-6c231b18ffce"
      },
      "source": [
        "# GENERIRANJE POLJUBNEGA 3-KOTNIKA V RAVNINI\n",
        "np.random.seed(9)  # zacetnja vrednost za generator nakljucnih stevil\n",
        "poly1 = Polygon(np.random.rand(3,2))  # np.random.rand(m,n) matrika mxn nakljucnih stevil\n",
        "poly2 = Polygon(np.random.rand(3,2))  # Polygon izrise poligon z danimi koordinatami (3-kotnik, v 2D) \n",
        "\n",
        "poly_inter = poly1.intersection(poly2)  # presek teh dveh poligonov - vrne koordinate preseka\n",
        "\n",
        "# GRAF\n",
        "p1 = plt.Polygon(poly1.exterior.coords, color='r')  # zapise tocke ogljisc, naredi poligon iz teh tock\n",
        "plt.gca().add_patch(p1)  # doda ta poligon na sliko\n",
        "\n",
        "p2 = plt.Polygon(poly2.exterior.coords, color='b')\n",
        "plt.gca().add_patch(p2)\n",
        "\n",
        "p3 = plt.Polygon(poly_inter.exterior.coords, color='g')\n",
        "plt.gca().add_patch(p3)\n",
        "\n",
        "plt.tick_params(bottom=False, left=False, labelleft=False, labelbottom=False)  # koordinatni sistem nima oznak"
      ],
      "id": "4ee4c17d",
      "execution_count": 8,
      "outputs": [
        {
          "output_type": "display_data",
          "data": {
            "image/png": "[encoded data removed]",
            "text/plain": [
              "<Figure size 432x288 with 1 Axes>"
            ]
          },
          "metadata": {}
        }
      ]
    },
    {
      "cell_type": "markdown",
      "metadata": {
        "id": "CdRdFBMcElNw"
      },
      "source": [
        "Trikotniki so vedno konveksni. Problem bi radi resevali za poljubne konveksne mnogokotnike. V ta namen moramo sestaviti funkcijo, ki bo preverila ali je poligon konveksen in funkcijo, ki bo zgenerirala taksen poligon."
      ],
      "id": "CdRdFBMcElNw"
    },
    {
      "cell_type": "markdown",
      "source": [
        "Funkcija is_convex_polygon preveri ali je dani poligon konveksen. Torej bo funkcija preverila ali je vsak notranji kot manjsi ali enak pi."
      ],
      "metadata": {
        "id": "PYYIR_QfDwE_"
      },
      "id": "PYYIR_QfDwE_"
    },
    {
      "cell_type": "code",
      "metadata": {
        "id": "361ae81d"
      },
      "source": [
        "# FUNKCIJA ZA PREVERJANJE ALI JE POLIGON KONVEKSEN\n",
        "TWO_PI = 2 * math.pi\n",
        "\n",
        "def is_convex_polygon(polygon):\n",
        "  # preveri da so vsi koti pozitivni, vosta kotov mora biti 2pi\n",
        "\n",
        "    \"\"\"Return True if the polynomial defined by the sequence of 2D\n",
        "    points is 'strictly convex': points are valid, side lengths non-\n",
        "    zero, interior angles are strictly between zero and a straight\n",
        "    angle, and the polygon does not intersect itself.\n",
        "\n",
        "    NOTES:  1.  Algorithm: the signed changes of the direction angles\n",
        "                from one side to the next side must be all positive or\n",
        "                all negative, and their sum must equal plus-or-minus\n",
        "                one full turn (2 pi radians). Also check for too few,\n",
        "                invalid, or repeated points.\n",
        "            2.  No check is explicitly done for zero internal angles\n",
        "                (180 degree direction-change angle) as this is covered\n",
        "                in other ways, including the `n < 3` check.\n",
        "    \"\"\"\n",
        "    try:  # needed for any bad points or direction changes   # ce pride do errorja gre koda v except\n",
        "        # Check for too few points\n",
        "        if len(polygon) < 3:  # ce ni vsaj trikotnik\n",
        "            return False\n",
        "        # Get starting information\n",
        "        old_x, old_y = polygon[-2]  # predzadnji x in y iz polygon \n",
        "        new_x, new_y = polygon[-1]  # zadnji x in y iz polygon\n",
        "        new_direction = math.atan2(new_y - old_y, new_x - old_x)  # vrne arctg(new_y - old_y / new_x - old_x) v radijanih med pi/2 in -pi/2\n",
        "        angle_sum = 0.0\n",
        "        # Check each point (the side ending there, its angle) and accum. angles\n",
        "        #vzame dve daljici ki si delita oglišče in gleda kakšen je kot med njima\n",
        "        for ndx, newpoint in enumerate(polygon):  # ostevilcimo\n",
        "            # Update point coordinates and side directions, check side length\n",
        "            old_x, old_y, old_direction = new_x, new_y, new_direction\n",
        "            new_x, new_y = newpoint\n",
        "            new_direction = math.atan2(new_y - old_y, new_x - old_x)\n",
        "            if old_x == new_x and old_y == new_y:\n",
        "                return False  # ce je spet ista tocka ni ok\n",
        "            # Calculate & check the normalized direction-change angle\n",
        "            angle = new_direction - old_direction  # razlika dveh kotov\n",
        "            # po absolutni vrednosti bo kot manjsi od 180\n",
        "            if angle <= -math.pi:  # ce je kot manjsi od -pi \n",
        "                angle += TWO_PI  # make it in half-open interval (-Pi, Pi]\n",
        "            elif angle > math.pi:\n",
        "                angle -= TWO_PI\n",
        "            if ndx == 0:  # if first time through loop, initialize orientation\n",
        "                if angle == 0.0:\n",
        "                    return False\n",
        "                orientation = 1.0 if angle > 0.0 else -1.0\n",
        "            else:  # if other time through loop, check orientation is stable\n",
        "                if orientation * angle <= 0.0:  # not both pos. or both neg.\n",
        "                    return False\n",
        "            # Accumulate the direction-change angle\n",
        "            angle_sum += angle\n",
        "        # Check that the total number of full turns is plus-or-minus 1\n",
        "        return abs(round(angle_sum / TWO_PI)) == 1  # to vrne true če je vsota kotov 2pi\n",
        "    except (ArithmeticError, TypeError, ValueError):\n",
        "        return False  # any exception means not a proper convex polygon"
      ],
      "id": "361ae81d",
      "execution_count": 9,
      "outputs": []
    },
    {
      "cell_type": "markdown",
      "source": [
        "Funkcija gen_rand_poly, ki zgenerira nakljucen konveksen poligon s poljubnim stevilom oglisc."
      ],
      "metadata": {
        "id": "l7PU6bqvEBck"
      },
      "id": "l7PU6bqvEBck"
    },
    {
      "cell_type": "code",
      "metadata": {
        "id": "b5643290"
      },
      "source": [
        "# FUNKCIJA ZA GENERIRANJE NAKLJUCNIH POLIGONOV\n",
        "def gen_rand_poly(n=3):\n",
        "    for i in range(1_000_000):\n",
        "        cords = np.random.rand(n, 2)  # matrika z n vrsticami in 2 stolpcema \n",
        "        u = np.argsort(np.arctan2(*cords.T))  # .T transponira koordinate, argsort vrne indekse ki bi uredili array\n",
        " \n",
        "        cords = cords[u, :]  # uredimo koordinate po velikosti\n",
        "        if is_convex_polygon(cords):\n",
        "            return Polygon(cords)  # ce je poligon konveksen \"izrise\" poligon"
      ],
      "id": "b5643290",
      "execution_count": 10,
      "outputs": []
    },
    {
      "cell_type": "markdown",
      "source": [
        ""
      ],
      "metadata": {
        "id": "G8XejnWREL6v"
      },
      "id": "G8XejnWREL6v"
    },
    {
      "cell_type": "code",
      "metadata": {
        "id": "7446f4d5"
      },
      "source": [
        "# IZRIS POLIGONOV\n",
        "def plot_polys(*args):\n",
        "    for i, poly in enumerate(args):\n",
        "        cords = np.array(poly.exterior.coords)[:-1, :]  # prebere od prve do predzadne vrstice (poly.exterior vrne podvojeno prvo točko na zadnjem mestu)\n",
        "        plt.scatter(*cords.T, s=0)  # narise tocke z velikostijo 0 :), da je koordinatni sistem primerne velikosti\n",
        "        p = plt.Polygon(cords, color=get_cmap('Set1')(i), alpha=0.7)\n",
        "        plt.gca().add_patch(p)\n",
        "        plt.tick_params(bottom=False, left=False, labelleft=False, labelbottom=False)"
      ],
      "id": "7446f4d5",
      "execution_count": 11,
      "outputs": []
    },
    {
      "cell_type": "code",
      "metadata": {
        "colab": {
          "base_uri": "https://localhost:8080/",
          "height": 248
        },
        "id": "F5vTHGAeIINd",
        "outputId": "ddfc1a88-bfd1-4ee1-8369-3a0151ac71d7"
      },
      "source": [
        "# 3. primer\n",
        "poly1_3 = gen_rand_poly(5)\n",
        "poly2_3 = gen_rand_poly(8)\n",
        "\n",
        "plot_polys(poly1_3, poly2_3)"
      ],
      "id": "F5vTHGAeIINd",
      "execution_count": 12,
      "outputs": [
        {
          "output_type": "display_data",
          "data": {
            "image/png": "[encoded data removed]",
            "text/plain": [
              "<Figure size 432x288 with 1 Axes>"
            ]
          },
          "metadata": {}
        }
      ]
    },
    {
      "cell_type": "markdown",
      "metadata": {
        "id": "x-f44KxBI-9o"
      },
      "source": [
        "## Iskanje minimalnega premika"
      ],
      "id": "x-f44KxBI-9o"
    },
    {
      "cell_type": "markdown",
      "metadata": {
        "id": "gHs178tYINjH"
      },
      "source": [
        "Za iskanje minimalnega vodoravnega premika sestavimo funkcijo, ki omogoca premikanje poligonov na sliki."
      ],
      "id": "gHs178tYINjH"
    },
    {
      "cell_type": "code",
      "metadata": {
        "id": "1d7965d1"
      },
      "source": [
        "def move_polygon(poly, x):\n",
        "    cords = np.array(poly.exterior.coords)[:-1,:]  # koordinate oglisc zapise v np.array\n",
        "    cords[:, 0] += x  # vse x koordinate premakne za dani x\n",
        "    poly = Polygon(cords) \n",
        "    return poly  # vrne premaknen poligon"
      ],
      "id": "1d7965d1",
      "execution_count": 13,
      "outputs": []
    },
    {
      "cell_type": "code",
      "metadata": {
        "colab": {
          "base_uri": "https://localhost:8080/",
          "height": 312,
          "referenced_widgets": [
            "0b02cceab1a44e2d982c85887f065a0e",
            "16e6d5a8d5a0446c9f93572e2410d1e8",
            "6a3e6bbdfeea48f4bc61ce06c301e01e",
            "a0d6cee8d9b14422bcb6b356def4ebd5",
            "c43c664027a441838fc5301693426350",
            "a9c29af3d8334f71a13e032e8f42af61",
            "1d1adae5917b453191bff2b3754d3e3a",
            "f79e802b7bb54861a145d8eaac25dd79",
            "f91088d1985b458fb07d6c50a6a1de09",
            "3f8101b6a5a543c4b4885933d45db6cd"
          ]
        },
        "id": "813029c3",
        "scrolled": true,
        "outputId": "88c50e53-c977-426b-e572-48d762501849"
      },
      "source": [
        "poligoni = {1: (poly1_1, poly2_1),\n",
        "            2: (poly1_2, poly2_2),\n",
        "            3: (poly1_3, poly2_3)}\n",
        "# FUNKCIJA, KI NAM OMOGOCA PREMIKANJE POLIGONOV S POMOCJO 'SLAJDERJA'.\n",
        "def move_windget_fun(x=0, nacin=3):\n",
        "    poly_slider_1, poly_slider_2 = poligoni[nacin]\n",
        "\n",
        "    fig, ax = plt.subplots()\n",
        "    \n",
        "    poly = move_polygon(poly_slider_1, x=x)\n",
        "    plot_polys(poly_slider_2, poly)\n",
        "    \n",
        "    dist = poly.distance(poly_slider_2)\n",
        "    txt = f'presek = 0.0000\\nrazdalja = {dist:.4f}'\n",
        "\n",
        "    if poly.intersects(poly_slider_2):\n",
        "        poly3 = poly.intersection(poly_slider_2)\n",
        "        p3 = plt.Polygon(poly3.exterior.coords, color=get_cmap('Set1')(2))\n",
        "        ax.add_patch(p3)\n",
        "        txt = f'presek = {poly3.area:.4f}\\nrazdalja = {dist:.4f}'\n",
        "    \n",
        "    ax.text(1,1,txt, transform=ax.transAxes, horizontalalignment='right', verticalalignment='top')\n",
        "    \n",
        "#     plt.xlim(-1, 1)\n",
        "#     plt.ylim(-1, 1)\n",
        "    plt.tick_params(bottom=False, left=False, labelleft=False, labelbottom=False)\n",
        "    \n",
        "    plt.show()\n",
        "\n",
        "widgets.interact(move_windget_fun, x=(-5, 5, 0.1), nacin=[1,2,3]);"
      ],
      "id": "813029c3",
      "execution_count": 14,
      "outputs": [
        {
          "output_type": "display_data",
          "data": {
            "application/vnd.jupyter.widget-view+json": {
              "model_id": "0b02cceab1a44e2d982c85887f065a0e",
              "version_minor": 0,
              "version_major": 2
            },
            "text/plain": [
              "interactive(children=(FloatSlider(value=0.0, description='x', max=5.0, min=-5.0), Dropdown(description='nacin'…"
            ]
          },
          "metadata": {}
        }
      ]
    },
    {
      "cell_type": "markdown",
      "metadata": {
        "id": "KJRGrr2o9LEE"
      },
      "source": [
        "Zapiseva funkcijo, ki bo poiskala potreben minimalni premik rdečega poligona v smeri abcisne osi, da rdeč in moder poligon postaneta disjunkta. \n",
        "\n",
        "Funkcija sprejme premik x po abcisni osi in dve matriki\n",
        "s koordinatami poligona. Ta premakne rdec poligon za dani x in izracuna ploscino\n",
        "preseka premaknjenega rdecega in modrega poligona ter njuno oddaljenost. \n",
        "\n",
        "Funkcija bo vrnila razliko med njunim presekom in razdaljo. Ko bosta poligona disjunktna, bo ploscina njunega preseka enaka 0, razdalja med njima pa nenegativna. Z vecanjem pomika rdecega poligona, bo tako vrednost te funkcije vedno bolj negativna. V primeru, ko je ploscina preseka teh dveh poligonov razlicna od 0, bo razdalja med njima enaka 0 in vrednost funkcije bo pozitivna."
      ],
      "id": "KJRGrr2o9LEE"
    },
    {
      "cell_type": "code",
      "metadata": {
        "id": "27e12e6d"
      },
      "source": [
        "def optimize_fun(x, poly1, poly2):\n",
        "    poly = move_polygon(poly1, x)\n",
        "    A = poly.intersection(poly2).area  # ploscina (npr. 0.010113566098373444)\n",
        "    d = poly.distance(poly2)  # ce se prekrivata\n",
        "    return A - d  # ko bosta poligona disjunktna se bo d poveceval in bo ta vrednost vedno manjsa, ko no A > 0 bo d enak nic, poiskati moramo ničlo te funkcije"
      ],
      "id": "27e12e6d",
      "execution_count": 15,
      "outputs": []
    },
    {
      "cell_type": "code",
      "metadata": {
        "colab": {
          "base_uri": "https://localhost:8080/",
          "height": 350,
          "referenced_widgets": [
            "99f1eadd04ea45f6bc68b67aad399eb9",
            "3373036ab62a43aeb760c40705f9d6fa",
            "b553913f926d4d5eb2a6a9873212be75",
            "23bb761e671a444892f59faf7404aeb4",
            "5cfff8b7fd8d4d90829fca1411fe2df9",
            "ae4269e6d96d4bfe9761de8a5ab46d81",
            "ab850cc592db47f4a82db8323f9da2a2"
          ]
        },
        "id": "d24b6a36",
        "outputId": "a04e1994-9468-49a3-e867-5d01297a5882"
      },
      "source": [
        "poligoni = {1: (poly1_1, poly2_1),\n",
        "            2: (poly1_2, poly2_2),\n",
        "            3: (poly1_3, poly2_3)}\n",
        "\n",
        "def widget_fun(nacin=3):\n",
        "    poly1, poly2 = poligoni[nacin]\n",
        "\n",
        "    # IZRIS GRAFA\n",
        "    xx = np.linspace(-5, 5, 100)\n",
        "    y = np.vectorize(optimize_fun)(xx, poly1, poly2)\n",
        "\n",
        "    fig, ax = plt.subplots(figsize=(6,4))\n",
        "    ax.axhline(0, c='k', ls='--', alpha=0.8)\n",
        "    ax.plot(xx, y)\n",
        "    ax.set_xlabel(\"razdalja od izhodišča\")\n",
        "    # ax.grid(ls='--')\n",
        "\n",
        "    # ISKANJE NIČEL - tj rdeči pikici na grafu\n",
        "    x1 = scipy.optimize.newton(optimize_fun, x0=0.5, args=(poly1, poly2))\n",
        "    ax.plot(x1, 0, 'ro')\n",
        "    ax.text(x1, 0, f'{x1:.4f}', fontsize=14, c='r')\n",
        "\n",
        "    x2 = scipy.optimize.newton(optimize_fun, x0=-0.5, args=(poly1, poly2))\n",
        "    ax.plot(x2, 0, 'ro')\n",
        "    ax.text(x2, 0, f'{x2:.4f}', fontsize=14, c='r', horizontalalignment='right')\n",
        "\n",
        "# ZA SHRANJEVANJE SLIKE ZA pdf\n",
        "#plt.savefig('funkcija.pdf', bbox_inches='tight')\n",
        "\n",
        "widgets.interact(widget_fun, nacin=[1,2,3]);\n"
      ],
      "id": "d24b6a36",
      "execution_count": 16,
      "outputs": [
        {
          "output_type": "display_data",
          "data": {
            "application/vnd.jupyter.widget-view+json": {
              "model_id": "99f1eadd04ea45f6bc68b67aad399eb9",
              "version_minor": 0,
              "version_major": 2
            },
            "text/plain": [
              "interactive(children=(Dropdown(description='nacin', index=2, options=(1, 2, 3), value=3), Output()), _dom_clas…"
            ]
          },
          "metadata": {}
        }
      ]
    },
    {
      "cell_type": "markdown",
      "metadata": {
        "id": "uB-9-jbUAWYQ"
      },
      "source": [
        "Izračun najmanjse ničle po absolutni vrednosti zgornje funkcije. \n",
        "\n",
        "Funkcija poisce potreben minimalni premik rdecega poligona v smeri abcisne osi, da rdec in moder poligon postaneta disjunktna. Ko se to zgodi sta njuna razdalja in presek enaka 0, zato bova s pomocjo Newtonove\n",
        "metode poiskala niclo prejsne funkcije. **Newton-Raphson** metoda uporabi sekantno\n",
        "metodo, ce odvod ni podan. \n",
        "\n",
        "calc min distance(poly1, poly2) ima dve nicli: eno\n",
        "dobimo s premikom v desno (x0= 0:5) in drugo s premikom v levo (x0= -0:5). Za\n",
        "iskani minimalni premik izberemo najmanjso po absolutni vrednosti."
      ],
      "id": "uB-9-jbUAWYQ"
    },
    {
      "cell_type": "markdown",
      "source": [
        "###Newton-Raphsonova metoda\n",
        "* število x0 naj bo približek za ničlo funkcije f(x).\n",
        "* v točki x0 se postavi tangento na graf funkcije f(x) in pogleda, kje je ničla tangente.\n",
        "* ker je tangenta dobra aproksimacija za funkcijo, se sklepa, da je ničla tangente dober približek za ničlo funkcije f(x). Ničlo tangente se vzame torej za naslednji približek x1.\n",
        "* postopek se nadaljuje na enak način in tako se iz x1 dobi nov približek x2, itd.\n",
        "* dobljeno zaporedje približkov praviloma hitro konvergira k ničli funkcije f(x).\n",
        "\n",
        "\n",
        "\n",
        "\n",
        "> x_n+1 = x_n - f(x_n)/f'(x_n)\n",
        "\n",
        "\n",
        "\n"
      ],
      "metadata": {
        "id": "jzQtf7WbFWN6"
      },
      "id": "jzQtf7WbFWN6"
    },
    {
      "cell_type": "code",
      "metadata": {
        "id": "22c5f79b"
      },
      "source": [
        "def calc_min_distance(poly1, poly2):\n",
        "    min_dist_p = scipy.optimize.newton(optimize_fun, x0=0.5, args=(poly1, poly2))  # desna ničla \n",
        "    min_dist_m = scipy.optimize.newton(optimize_fun, x0=-0.5, args=(poly1, poly2))  # leva ničla\n",
        "\n",
        "    razdalje = np.array([min_dist_p, min_dist_m])  # array dveh ničel,  da lahko lazje preverimo katera je manjsa po abs vrednosti\n",
        "    id_min = np.argmin(np.abs(razdalje))  # argmin pove indeks najmanjsega elementa, id_min je indeks najmanjse razdalje po abs vrednosti\n",
        "\n",
        "    return razdalje[id_min]  # vrni samo najmanjso ničlo "
      ],
      "id": "22c5f79b",
      "execution_count": 17,
      "outputs": []
    },
    {
      "cell_type": "code",
      "metadata": {
        "colab": {
          "base_uri": "https://localhost:8080/"
        },
        "id": "SrsYExXLRvWt",
        "outputId": "94fb2ae3-e1e8-454c-f8ba-018c6f6335db"
      },
      "source": [
        "min_dist = calc_min_distance(poly1_3, poly2_3)\n",
        "print(f'Najmanjša razdalja za premik rdečega poligona je {min_dist:.10f}')"
      ],
      "id": "SrsYExXLRvWt",
      "execution_count": 18,
      "outputs": [
        {
          "output_type": "stream",
          "name": "stdout",
          "text": [
            "Najmanjša razdalja za premik rdečega poligona je 0.6098096057\n"
          ]
        }
      ]
    },
    {
      "cell_type": "code",
      "metadata": {
        "colab": {
          "base_uri": "https://localhost:8080/",
          "height": 296,
          "referenced_widgets": [
            "4d59b6b67e29442db4638b5a1467a96f",
            "b58c45e58de640d0ac062f6045aa1e75",
            "1f669e6786b24e3cbf4eddcb92d20589",
            "1e1ba55b8cd741e28825e352b2a7f2bc",
            "8054deeedd794a588ac1439e843a4a1a",
            "3521a38d9198418b9a52949959bed373",
            "faf9ef7ead584f9ca6ca596ff40f5405"
          ]
        },
        "id": "fmW6D_pKSRdS",
        "outputId": "76c94d14-6e22-421b-a5a6-8c475938f191"
      },
      "source": [
        "poligoni = {1: (poly1_1, poly2_1),\n",
        "            2: (poly1_2, poly2_2),\n",
        "            3: (poly1_3, poly2_3)}\n",
        "# FUNKCIJA, KI NAM OMOGOCA PREMIKANJE POLIGONOV S POMOCJO 'SLAJDERJA'.\n",
        "def move_windget_fun(nacin=3):\n",
        "    poly_slider_1, poly_slider_2 = poligoni[nacin]\n",
        "\n",
        "    fig, ax = plt.subplots()\n",
        "    \n",
        "    plot_polys(poly_slider_1, poly_slider_2)\n",
        "    min_dist = calc_min_distance(poly_slider_1, poly_slider_2)\n",
        "    poly = move_polygon(poly_slider_1, x=min_dist)\n",
        "    plot_polys(poly)\n",
        "\n",
        "    plt.tick_params(bottom=False, left=False, labelleft=False, labelbottom=False)\n",
        "\n",
        "    plt.title(f'Najmanjša razdalja za premik rdečega poligona') #je {min_dist:.10f}')\n",
        "    #plt.savefig('premikr.pdf', bbox_inches='tight')\n",
        "    plt.show()\n",
        "    \n",
        "\n",
        "widgets.interact(move_windget_fun, nacin=[1,2,3]); "
      ],
      "id": "fmW6D_pKSRdS",
      "execution_count": 19,
      "outputs": [
        {
          "output_type": "display_data",
          "data": {
            "application/vnd.jupyter.widget-view+json": {
              "model_id": "4d59b6b67e29442db4638b5a1467a96f",
              "version_minor": 0,
              "version_major": 2
            },
            "text/plain": [
              "interactive(children=(Dropdown(description='nacin', index=2, options=(1, 2, 3), value=3), Output()), _dom_clas…"
            ]
          },
          "metadata": {}
        }
      ]
    },
    {
      "cell_type": "code",
      "metadata": {
        "id": "UE0ITjQCS1a1"
      },
      "source": [
        ""
      ],
      "id": "UE0ITjQCS1a1",
      "execution_count": 19,
      "outputs": []
    }
  ]
}